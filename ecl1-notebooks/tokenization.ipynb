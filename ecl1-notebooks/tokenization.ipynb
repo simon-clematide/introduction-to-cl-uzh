{
 "cells": [
  {
   "cell_type": "markdown",
   "id": "348fd187",
   "metadata": {},
   "source": [
    "# Text files and tokenization\n",
    "Cells that start with a ! execute a command as in a terminal"
   ]
  },
  {
   "cell_type": "code",
   "execution_count": 5,
   "id": "bf297e06",
   "metadata": {},
   "outputs": [
    {
     "name": "stdout",
     "output_type": "stream",
     "text": [
      "0000000 57 61 73 20 62 65 69 6e 68 61 6c 74 65 74 20 73\r\n",
      "0000010 69 65 3f 0a                                    \r\n",
      "0000014\r\n"
     ]
    }
   ],
   "source": [
    "! hexdump ecl1-notebooks/tokenizer/datei.txt"
   ]
  },
  {
   "cell_type": "code",
   "execution_count": 6,
   "id": "c12bc31c",
   "metadata": {},
   "outputs": [
    {
     "name": "stdout",
     "output_type": "stream",
     "text": [
      "Was beinhaltet sie?\r\n"
     ]
    }
   ],
   "source": [
    "! cat ecl1-notebooks/tokenizer/datei.txt\n"
   ]
  },
  {
   "cell_type": "markdown",
   "id": "672d09ba",
   "metadata": {},
   "source": [
    "## Conversion of encodings\n",
    "The option `-c` clears characters that are not representable in the target encoding"
   ]
  },
  {
   "cell_type": "code",
   "execution_count": 10,
   "id": "f77ee3c4",
   "metadata": {},
   "outputs": [
    {
     "name": "stdout",
     "output_type": "stream",
     "text": [
      "Klchen\r\n"
     ]
    }
   ],
   "source": [
    "! echo \"Klößchen\" | uconv -f UTF-8 -t ASCII -c"
   ]
  },
  {
   "cell_type": "markdown",
   "id": "a3fd79f5",
   "metadata": {},
   "source": [
    "### Convert into UTF-16 and notice the BOM!"
   ]
  },
  {
   "cell_type": "code",
   "execution_count": 15,
   "id": "4f684cee",
   "metadata": {},
   "outputs": [
    {
     "name": "stdout",
     "output_type": "stream",
     "text": [
      "0000000 ff fe 57 00 61 00 73 00 20 00 62 00 65 00 69 00\r\n",
      "0000010 6e 00 68 00 61 00 6c 00 74 00 65 00 74 00 20 00\r\n",
      "0000020 73 00 69 00 65 00 3f 00 0a 00                  \r\n",
      "000002a\r\n"
     ]
    }
   ],
   "source": [
    "! uconv -f UTF-8 -t UTF-16 < ecl1-notebooks/tokenizer/datei.txt | hexdump"
   ]
  },
  {
   "cell_type": "markdown",
   "id": "75797f1f",
   "metadata": {},
   "source": [
    "Converto to big-endian UTF-16"
   ]
  },
  {
   "cell_type": "code",
   "execution_count": 18,
   "id": "4e89bc09",
   "metadata": {},
   "outputs": [
    {
     "name": "stdout",
     "output_type": "stream",
     "text": [
      "0000000 fe ff 00 57 00 61 00 73 00 20 00 62 00 65 00 69\r\n",
      "0000010 00 6e 00 68 00 61 00 6c 00 74 00 65 00 74 00 20\r\n",
      "0000020 00 73 00 69 00 65 00 3f 00 0a                  \r\n",
      "000002a\r\n"
     ]
    }
   ],
   "source": [
    "! uconv -f UTF-8 -t UTF-16BE --add-signature < ecl1-notebooks/tokenizer/datei.txt | hexdump"
   ]
  },
  {
   "cell_type": "markdown",
   "id": "7228ed9c",
   "metadata": {},
   "source": [
    "## Treetagger tokenizer\n",
    "From raw text to verticalized text"
   ]
  },
  {
   "cell_type": "code",
   "execution_count": 20,
   "id": "0c782205",
   "metadata": {},
   "outputs": [
    {
     "name": "stdout",
     "output_type": "stream",
     "text": [
      "\"Bach'sche Musik \r\n",
      "mag Dr. Fritz. Ja.\"\r\n"
     ]
    }
   ],
   "source": [
    "! cat  ecl1-notebooks/tokenizer/file.txt"
   ]
  },
  {
   "cell_type": "code",
   "execution_count": 19,
   "id": "f9dbf650",
   "metadata": {},
   "outputs": [
    {
     "name": "stdout",
     "output_type": "stream",
     "text": [
      "\"\r\n",
      "Bach'sche\r\n",
      "Musik\r\n",
      "mag\r\n",
      "Dr.\r\n",
      "Fritz\r\n",
      ".\r\n",
      "Ja\r\n",
      ".\r\n",
      "\"\r\n"
     ]
    }
   ],
   "source": [
    "! perl ecl1-notebooks/tokenizer/utf8-tokenize.perl -a ecl1-notebooks/tokenizer/ger-abbrev < ecl1-notebooks/tokenizer/file.txt"
   ]
  }
 ],
 "metadata": {
  "kernelspec": {
   "display_name": "Python 3 (ipykernel)",
   "language": "python",
   "name": "python3"
  },
  "language_info": {
   "codemirror_mode": {
    "name": "ipython",
    "version": 3
   },
   "file_extension": ".py",
   "mimetype": "text/x-python",
   "name": "python",
   "nbconvert_exporter": "python",
   "pygments_lexer": "ipython3",
   "version": "3.9.7"
  }
 },
 "nbformat": 4,
 "nbformat_minor": 5
}
