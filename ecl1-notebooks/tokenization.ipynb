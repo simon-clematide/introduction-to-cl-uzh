{
 "cells": [
  {
   "cell_type": "markdown",
   "id": "348fd187",
   "metadata": {},
   "source": [
    "# Text files and tokenization\n",
    "Cells that start with a ! execute a command as in a terminal"
   ]
  },
  {
   "cell_type": "code",
   "execution_count": null,
   "id": "bf297e06",
   "metadata": {},
   "outputs": [],
   "source": [
    "! hexdump tokenizer/datei.txt"
   ]
  },
  {
   "cell_type": "code",
   "execution_count": null,
   "id": "c12bc31c",
   "metadata": {},
   "outputs": [],
   "source": [
    "! cat tokenizer/datei.txt\n"
   ]
  },
  {
   "cell_type": "markdown",
   "id": "672d09ba",
   "metadata": {},
   "source": [
    "## Conversion of encodings\n",
    "The option `-c` clears characters that are not representable in the target encoding"
   ]
  },
  {
   "cell_type": "code",
   "execution_count": null,
   "id": "f77ee3c4",
   "metadata": {},
   "outputs": [],
   "source": [
    "! echo \"Klößchen\" | uconv -f UTF-8 -t ASCII -c"
   ]
  },
  {
   "cell_type": "markdown",
   "id": "a3fd79f5",
   "metadata": {},
   "source": [
    "### Convert into UTF-16 and notice the BOM!"
   ]
  },
  {
   "cell_type": "code",
   "execution_count": null,
   "id": "4f684cee",
   "metadata": {},
   "outputs": [],
   "source": [
    "! uconv -f UTF-8 -t UTF-16 < tokenizer/datei.txt | hexdump"
   ]
  },
  {
   "cell_type": "markdown",
   "id": "75797f1f",
   "metadata": {},
   "source": [
    "Converto to big-endian UTF-16"
   ]
  },
  {
   "cell_type": "code",
   "execution_count": null,
   "id": "4e89bc09",
   "metadata": {},
   "outputs": [],
   "source": [
    "! uconv -f UTF-8 -t UTF-16BE --add-signature < tokenizer/datei.txt | hexdump"
   ]
  },
  {
   "cell_type": "markdown",
   "id": "7228ed9c",
   "metadata": {},
   "source": [
    "## Treetagger tokenizer\n",
    "From raw text to verticalized text"
   ]
  },
  {
   "cell_type": "code",
   "execution_count": null,
   "id": "0c782205",
   "metadata": {},
   "outputs": [],
   "source": [
    "! cat tokenizer/file.txt"
   ]
  },
  {
   "cell_type": "code",
   "execution_count": null,
   "id": "f9dbf650",
   "metadata": {},
   "outputs": [],
   "source": [
    "! perl tokenizer/utf8-tokenize.perl -a tokenizer/ger-abbrev < tokenizer/file.txt"
   ]
  }
 ],
 "metadata": {
  "kernelspec": {
   "display_name": "Python 3 (ipykernel)",
   "language": "python",
   "name": "python3"
  },
  "language_info": {
   "codemirror_mode": {
    "name": "ipython",
    "version": 3
   },
   "file_extension": ".py",
   "mimetype": "text/x-python",
   "name": "python",
   "nbconvert_exporter": "python",
   "pygments_lexer": "ipython3",
   "version": "3.9.7"
  }
 },
 "nbformat": 4,
 "nbformat_minor": 5
}
