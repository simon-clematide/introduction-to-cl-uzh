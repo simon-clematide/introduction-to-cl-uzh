{
 "cells": [
  {
   "cell_type": "markdown",
   "metadata": {
    "slideshow": {
     "slide_type": "slide"
    }
   },
   "source": [
    "# ECL I: Exercises 2: experiments with existing tokenizers"
   ]
  },
  {
   "cell_type": "markdown",
   "metadata": {
    "slideshow": {
     "slide_type": "slide"
    }
   },
   "source": [
    "## Using cutter"
   ]
  },
  {
   "cell_type": "markdown",
   "metadata": {
    "cell_style": "center"
   },
   "source": [
    "Execute the following two cells (Shift+Return) "
   ]
  },
  {
   "cell_type": "code",
   "execution_count": null,
   "metadata": {},
   "outputs": [],
   "source": [
    "! cat ex01/task4_text_en.txt"
   ]
  },
  {
   "cell_type": "code",
   "execution_count": null,
   "metadata": {
    "slideshow": {
     "slide_type": "slide"
    }
   },
   "outputs": [],
   "source": [
    "! cat ex01/task4_text_de.txt"
   ]
  },
  {
   "cell_type": "markdown",
   "metadata": {},
   "source": [
    "Copy the texts from above into the input form of the cutter web demo:\n",
    "https://pub.cl.uzh.ch/projects/sparcling/cutter/current/"
   ]
  },
  {
   "cell_type": "markdown",
   "metadata": {
    "slideshow": {
     "slide_type": "slide"
    }
   },
   "source": [
    "# Moses tokenizer\n",
    "The moses tokenizer is another multilingual tokenizer, known from the statistical Machine Translation system [moses](https://github.com/moses-smt/mosesdecoder/blob/master/scripts/tokenizer/tokenizer.perl) and written in the programming language PERL (once a very popular language in the NLP community). It does not produce verticalized text, but separates tokens by spaces."
   ]
  },
  {
   "cell_type": "code",
   "execution_count": 1,
   "metadata": {},
   "outputs": [
    {
     "name": "stdout",
     "output_type": "stream",
     "text": [
      "Liebes Tagebuch ! Am 14 . September hat das Herbstsemester 2020 begonnen . Corona-bedingt ist alles etwas anders : Anstatt Mensa-Essen und Präsenzveranstaltungen warten online-Vorlesungen , Zoom-Tutorate etc. auf mich . Vor allem die ECL I Vorlesung gefällt mir und ich kann es kaum erwarten , mehr über maschinelle Sprachverarbeitung zu lernen . Ich bin u.a. gespannt auf die Tutorate , die ab der zweiten Woche jeden Freitag um 12 Uhr 15 stattfinden . Die Kennen + Lern-Tage wurden leider abgesagt ... Umso mehr freue ich mich darauf , meine Kommiliton / -innen beim gemeinsamen Lernen besser kennen zu lernen ! : - )\r\n"
     ]
    }
   ],
   "source": [
    "!perl ex01/tokenizer.perl  -q -l de < ex01/task4_text_de.txt"
   ]
  },
  {
   "cell_type": "code",
   "execution_count": null,
   "metadata": {},
   "outputs": [],
   "source": [
    "!perl ex01/tokenizer.perl -no-escape -q -l en < ex01/task4_text_en.txt"
   ]
  },
  {
   "cell_type": "markdown",
   "metadata": {
    "slideshow": {
     "slide_type": "slide"
    }
   },
   "source": [
    "## Further information\n",
    "Note that the moses tokenizer can be tuned to your domain by specifying a file with patterns. Text pieces matched by these patterns are never split inside."
   ]
  },
  {
   "cell_type": "code",
   "execution_count": 2,
   "metadata": {},
   "outputs": [
    {
     "name": "stdout",
     "output_type": "stream",
     "text": [
      "Mr. O 'Neill thinks that the boys ' stories about Chile 's capital aren 't amusing .\r\n",
      "\" In New York , you won 't find a mini-donut for less than $ 3.99 ! \" - \" Let 's try to find one at Dunkin ' Donuts ! \"\r\n",
      "The ECL I class started on September 17th at 4 : 15 pm .\r\n",
      "@ everybody I can 't help it ... : - ) I loooove twitter hashtags ! ! ! #love4ever #twitter #hashtags\r\n",
      "In the NHL finals , the Pittsburgh Penguins win against St . Louis Blues 2-1 .\r\n",
      "Tomorrow it 'll be sunny at a temperature of 20 ° C .\r\n"
     ]
    }
   ],
   "source": [
    "!perl ex01/tokenizer.perl -protected ex01/protected-en.txt -no-escape -q -l en < ex01/task4_text_en.txt"
   ]
  },
  {
   "cell_type": "code",
   "execution_count": null,
   "metadata": {},
   "outputs": [],
   "source": []
  }
 ],
 "metadata": {
  "celltoolbar": "Slideshow",
  "kernelspec": {
   "display_name": "Python 3 (ipykernel)",
   "language": "python",
   "name": "python3"
  },
  "language_info": {
   "codemirror_mode": {
    "name": "ipython",
    "version": 3
   },
   "file_extension": ".py",
   "mimetype": "text/x-python",
   "name": "python",
   "nbconvert_exporter": "python",
   "pygments_lexer": "ipython3",
   "version": "3.9.7"
  }
 },
 "nbformat": 4,
 "nbformat_minor": 2
}
