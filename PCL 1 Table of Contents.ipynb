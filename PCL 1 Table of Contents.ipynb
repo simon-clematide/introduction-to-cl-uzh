{
 "cells": [
  {
   "cell_type": "markdown",
   "metadata": {},
   "source": [
    "# Table of Contents for PCL 1\n",
    "\n",
    "## Lecture 8: Slides \"Objects, Types and Strings\"\n",
    " - [Objects and their types](pcl1-notebooks/objects-and-strings/type_intro.ipynb)\n",
    " - [Objects and their methods](pcl1-notebooks/objects-and-strings/methods.ipynb)\n",
    " - [Constructors, objects, attributes, methods, side-effects in code](pcl1-notebooks/objects-and-strings/constructors_objects_attributes.ipynb)\n",
    " - [Literals of the data type str](pcl1-notebooks/objects-and-strings/str_literals.ipynb)\n",
    " - [Converting Unicode strings to UTF-8 byte sequences and vice versa](pcl1-notebooks/objects-and-strings/encode_and_decode.ipynb)\n",
    " - [re.findall and groups](pcl1-notebooks/objects-and-strings/findall_and_groups.ipynb)\n",
    " - [Substitution of matched substrings](pcl1-notebooks/objects-and-strings/re_sub.ipynb)\n",
    " - [Tokenizing German Texts](pcl1-notebooks/objects-and-strings/tokenizer_german_utf8.ipynb)"
   ]
  }
 ],
 "metadata": {
  "kernelspec": {
   "display_name": "Python 3 (ipykernel)",
   "language": "python",
   "name": "python3"
  },
  "language_info": {
   "codemirror_mode": {
    "name": "ipython",
    "version": 3
   },
   "file_extension": ".py",
   "mimetype": "text/x-python",
   "name": "python",
   "nbconvert_exporter": "python",
   "pygments_lexer": "ipython3",
   "version": "3.9.7"
  }
 },
 "nbformat": 4,
 "nbformat_minor": 2
}
