{
 "cells": [
  {
   "cell_type": "markdown",
   "metadata": {
    "slideshow": {
     "slide_type": ""
    },
    "tags": []
   },
   "source": [
    "# Table of Contents for PCL 1\n",
    "The notebooks will be updated weekly for Fall semester 2023.\n",
    "\n",
    "## Lecture 8: Slides \"Objects, Types and Strings\"\n",
    " - [Objects and their types](pcl1-notebooks/objects-and-strings/type_intro.ipynb)\n",
    " - [Objects and their methods](pcl1-notebooks/objects-and-strings/methods.ipynb)\n",
    " - [Constructors, objects, attributes, methods, side-effects in code](pcl1-notebooks/objects-and-strings/constructors_objects_attributes.ipynb)\n",
    " - [Literals of the data type str](pcl1-notebooks/objects-and-strings/str_literals.ipynb)\n",
    " - [Converting Unicode strings to UTF-8 byte sequences and vice versa](pcl1-notebooks/objects-and-strings/encode_and_decode.ipynb)\n",
    " - [re.findall and groups](pcl1-notebooks/objects-and-strings/findall_and_groups.ipynb)\n",
    " - [Substitution of matched substrings](pcl1-notebooks/objects-and-strings/re_sub.ipynb)\n",
    " - [Tokenizing German Texts](pcl1-notebooks/objects-and-strings/tokenizer_german_utf8.ipynb)"
   ]
  },
  {
   "cell_type": "markdown",
   "metadata": {},
   "source": [
    "## Lecture 9: Slides \"Toolkits for NLP I: NLTK and spaCy\"\n",
    " - [NLTK Interactive exploration of corpora](pcl1-notebooks/nltk1/NLTK-1-Demo-Tour.ipynb)\n",
    " - [NLTK Introduction to basic NLP Processing](pcl1-notebooks/nltk1/NLTK_Einfuehrung.ipynb)\n",
    " - [Comprehension von lists, sets and dictionaries](pcl1-notebooks/nltk1/comprehensions_for_lists_sets_dicts.ipynb)\n",
    " - [Functions](pcl1-notebooks/nltk1/functions-and-return.ipynb)\n",
    " - [Namespaces](pcl1-notebooks/nltk1/Namespaces.ipynb)\n",
    "### Lecture 9: Slides \"Processing XML Documents\"\n",
    " - [XML Processing Basics](pcl1-notebooks/xml/xml_processing.ipynb)"
   ]
  },
  {
   "cell_type": "markdown",
   "metadata": {
    "slideshow": {
     "slide_type": "slide"
    },
    "tags": []
   },
   "source": [
    "## Lecture 10: Slides \"NLTK Chapter 2: Corpora, Classes and More\"\n",
    " - [Reading and Representing pure text corpora](pcl1-notebooks/nltk2/Gutenberg-Korpus-Austen.ipynb)\n",
    " - [A class for frequency distributions](pcl1-notebooks/nltk2/nltk.FreqDist_demo.ipynb)\n",
    " - [Using frequency distributions on text representations](pcl1-notebooks/nltk2/Emma.ipynb)\n",
    " - [Brown Corpus: Exploring a POS-Tagged and Balanced Corpus using Conditional Frequency Distributions](pcl1-notebooks/nltk2/Brown.ipynb)\n",
    " - [Syntactic Sugar in Python method, function and operator calls](pcl1-notebooks/nltk2/Syntaktischer-Zucker.ipynb)\n",
    " - [Understanding methods and statements when working with lists](pcl1-notebooks/nltk2/mutable_list.ipynb)"
   ]
  },
  {
   "cell_type": "markdown",
   "metadata": {},
   "source": [
    "## Lecture 11: Slides \"NLTK Chapter 2: Lexical Resources and Class Definitions\"\n",
    " - [Stopwords](pcl1-notebooks/nltk2lex/Stopwords.ipynb)\n",
    " - [WordNet](pcl1-notebooks/nltk2lex/WordNet.ipynb)\n",
    " - [Objects](pcl1-notebooks/classdef/object.ipynb)\n",
    " - [Class definition for Case-Insensitive Strings](pcl1-notebooks/classdef/Cistr.ipynb)"
   ]
  },
  {
   "cell_type": "markdown",
   "metadata": {},
   "source": [
    "## 11: Slides \"JSON and JSONL Document Processing\"\n",
    " - [JSON and JSONL Processing Basics](pcl1-notebooks/xml/json_processing.ipynb)"
   ]
  },
  {
   "cell_type": "markdown",
   "metadata": {},
   "source": [
    "## 12: Slides \"Generative AI with OpenAI API\"\n",
    " - [Demonstrating Open AI's Chat Completion API](pcl1-notebooks/chat/openai.ipynb)"
   ]
  },
  {
   "cell_type": "markdown",
   "metadata": {},
   "source": [
    "## Lecture 12: Slides \"NLTK Chapter 3\" and spaCy: A Modern NLP Pipeline\n",
    "  - [Stemmed KWIC](pcl1-notebooks/nltk3/stemmed_kwic.ipynb)\n",
    "  - [Generators and yield](pcl1-notebooks/nltk3/generator.ipynb)\n",
    "  - [NLP Pipelines with spaCy](pcl1-notebooks/spacy/spacy-parsing.ipynb) (includes similarity computations)\n",
    "  - [Dot Product and L2 norm](pcl1-notebooks/spacy/cosine-similarity.ipynb)\n",
    "  - [Rounding and Formatting Numbers](pcl1-notebooks/nltk3/Rounding.ipynb)"
   ]
  }
 ],
 "metadata": {
  "kernelspec": {
   "display_name": "Python 3 (ipykernel)",
   "language": "python",
   "name": "python3"
  },
  "language_info": {
   "codemirror_mode": {
    "name": "ipython",
    "version": 3
   },
   "file_extension": ".py",
   "mimetype": "text/x-python",
   "name": "python",
   "nbconvert_exporter": "python",
   "pygments_lexer": "ipython3",
   "version": "3.11.10"
  }
 },
 "nbformat": 4,
 "nbformat_minor": 4
}
