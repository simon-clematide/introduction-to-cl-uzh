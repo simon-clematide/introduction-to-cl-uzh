{
 "cells": [
  {
   "cell_type": "markdown",
   "metadata": {},
   "source": [
    "# Table of Contents for PCL 1\n",
    "\n",
    "## Lecture 8: Slides \"Objects, Types and Strings\"\n",
    " - [Objects and their types](pcl1-notebooks/objects-and-strings/type_intro.ipynb)\n",
    " - [Objects and their methods](pcl1-notebooks/objects-and-strings/methods.ipynb)\n",
    " - [Converting Unicode strings to UTF-8 byte sequences and vice versa](pcl1-notebooks/objects-and-strings/encode_and_decode.ipynb)\n",
    " - [Literals of the data type str](pcl1-notebooks/objects-and-strings/str_literals.ipynb)\n",
    " - [re.findall and groups](pcl1-notebooks/objects-and-strings/findall_and_groups.ipynb)\n",
    " - [Substitution of matched substrings](pcl1-notebooks/objects-and-strings/re_sub.ipynb)\n",
    " - [Tokenizing German Texts](pcl1-notebooks/objects-and-strings/tokenizer_german_utf8.ipynb)"
   ]
  },
  {
   "cell_type": "markdown",
   "metadata": {},
   "source": [
    "## Lecture 9: Slides \"NLTK Chapter 1\"\n",
    " - [NLTK Interactive exploration of corpora](pcl1-notebooks/nltk1/NLTK-1-Demo-Tour.ipynb)\n",
    " - [NLTK Introduction to basic NLP Processing](pcl1-notebooks/nltk1/NLTK_Einfuehrung.ipynb)\n",
    " - [Functions](pcl1-notebooks/nltk1/Funktionen.ipynb)\n",
    " - [Namespaces](pcl1-notebooks/nltk1/Namespaces.ipynb)"
   ]
  },
  {
   "cell_type": "markdown",
   "metadata": {},
   "source": [
    "## Lecture 10: Slides \"NLTK Chapter 2\"\n",
    " - [Plain text corpora and text representation in NLTK](pcl1-notebooks/nltk2/Gutenberg-Korpus-Austen.ipynb)\n",
    " - [Frequency distribution class in NLTK](pcl1-notebooks/nltk2/nltk.FreqDist_demo.ipynb)\n",
    " - [Frequency distributions on a raw text corpus](pcl1-notebooks/nltk2/Emma.ipynb)\n",
    " - [Brown corpus: Representation of POS tagged corpora and Conditional Frequency distributions](pcl1-notebooks/nltk2/Brown.ipynb)\n",
    "\n",
    " - [Operations on mutable sequences](pcl1-notebooks/nltk2/mutable_list.ipynb)\n",
    " - [Remove syntactic sugar in method calls](pcl1-notebooks/nltk2/Syntaktischer-Zucker.ipynb)"
   ]
  },
  {
   "cell_type": "markdown",
   "metadata": {},
   "source": [
    "## Lecture 11: Slides \"NLTK Chapter 2: Lexical Resources\"\n",
    " - [Stopwords](pcl1-notebooks/nltk2lex/Stopwords.ipynb)\n",
    " - [WordNet](pcl1-notebooks/nltk2lex/WordNet.ipynb)\n",
    " - [Objects](pcl1-notebooks/classdef/object.ipynb)\n",
    " - [Class definition for Case-Insensitive Strings](pcl1-notebooks/classdef/Cistr.ipynb)"
   ]
  },
  {
   "cell_type": "code",
   "execution_count": null,
   "metadata": {},
   "outputs": [],
   "source": []
  }
 ],
 "metadata": {
  "kernelspec": {
   "display_name": "Python 3",
   "language": "python",
   "name": "python3"
  },
  "language_info": {
   "codemirror_mode": {
    "name": "ipython",
    "version": 3
   },
   "file_extension": ".py",
   "mimetype": "text/x-python",
   "name": "python",
   "nbconvert_exporter": "python",
   "pygments_lexer": "ipython3"
  }
 },
 "nbformat": 4,
 "nbformat_minor": 2
}
