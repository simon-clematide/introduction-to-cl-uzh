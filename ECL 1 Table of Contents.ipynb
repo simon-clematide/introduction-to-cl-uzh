{
 "cells": [
  {
   "cell_type": "markdown",
   "metadata": {},
   "source": [
    "# Table of Contents for ECL 1\n",
    "- Lecture \"Tokenization\": [Demo for tokenization](ecl1-notebooks/tokenization.ipynb)\n",
"- Lecture/Excercise 3 \"POS Tagging\": [Demo for tokenization](ecl1-notebooks/ex03.ipynb)\n",
    "\n"
   ]
  },
  {
   "cell_type": "code",
   "execution_count": null,
   "metadata": {},
   "outputs": [],
   "source": []
  }
 ],
 "metadata": {
  "kernelspec": {
   "display_name": "Python 3 (ipykernel)",
   "language": "python",
   "name": "python3"
  },
  "language_info": {
   "codemirror_mode": {
    "name": "ipython",
    "version": 3
   },
   "file_extension": ".py",
   "mimetype": "text/x-python",
   "name": "python",
   "nbconvert_exporter": "python",
   "pygments_lexer": "ipython3",
   "version": "3.9.7"
  }
 },
 "nbformat": 4,
 "nbformat_minor": 2
}
