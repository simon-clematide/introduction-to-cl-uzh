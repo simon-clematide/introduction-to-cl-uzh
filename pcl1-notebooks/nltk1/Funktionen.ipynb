{
 "cells": [
  {
   "cell_type": "markdown",
   "metadata": {
    "slideshow": {
     "slide_type": "slide"
    }
   },
   "source": [
    "# Define Functions"
   ]
  },
  {
   "cell_type": "code",
   "execution_count": null,
   "metadata": {},
   "outputs": [],
   "source": [
    "def foo(a):\n",
    "    \"\"\" Return foo of a \"\"\"\n",
    "    result = 0\n",
    "    for item in a:\n",
    "        result += item\n",
    "    return result\n",
    "\n",
    "\n",
    "c = foo([5,10,23])\n",
    "\n",
    "print(c)\n"
   ]
  },
  {
   "cell_type": "markdown",
   "metadata": {
    "slideshow": {
     "slide_type": "slide"
    }
   },
   "source": [
    "## Effect of `return`"
   ]
  },
  {
   "cell_type": "code",
   "execution_count": null,
   "metadata": {},
   "outputs": [],
   "source": [
    "def describe_number(n):\n",
    "    if n > 1000000:\n",
    "        return \"LARGE\"\n",
    "    elif n > 1000:\n",
    "        return \"Medium\"\n",
    "    else:\n",
    "        return \"small\"\n",
    "\n",
    "    print(\"Never printed!\")\n",
    "\n",
    "\n",
    "print(9, \":\", describe_number(9))\n",
    "print(999, \":\",describe_number(999))\n",
    "print(999999, \":\",describe_number(99999))\n",
    "print(9999999999, \":\",describe_number(9999999999))\n"
   ]
  },
  {
   "cell_type": "code",
   "execution_count": null,
   "metadata": {},
   "outputs": [],
   "source": []
  }
 ],
 "metadata": {
  "kernelspec": {
   "display_name": "Python 3",
   "language": "python",
   "name": "python3"
  },
  "language_info": {
   "codemirror_mode": {
    "name": "ipython",
    "version": 3
   },
   "file_extension": ".py",
   "mimetype": "text/x-python",
   "name": "python",
   "nbconvert_exporter": "python",
   "pygments_lexer": "ipython3",
   "version": "3.7.3"
  },
  "latex_envs": {
   "bibliofile": "biblio.bib",
   "cite_by": "apalike",
   "current_citInitial": 1,
   "eqLabelWithNumbers": true,
   "eqNumInitial": 0
  }
 },
 "nbformat": 4,
 "nbformat_minor": 2
}
