{
 "cells": [
  {
   "cell_type": "markdown",
   "metadata": {},
   "source": [
    "# Semantics of functions and return statements\n",
    "Learning goals:\n",
    " - Understand that the polymorphism of Python can lead to interesting effects if arguments of unexpected types are used in a function call\n",
    " - Understand that the return statement immediately ends the flow of control in the execution of a function"
   ]
  },
  {
   "cell_type": "markdown",
   "metadata": {
    "slideshow": {
     "slide_type": "slide"
    }
   },
   "source": [
    "# Define Functions"
   ]
  },
  {
   "cell_type": "code",
   "execution_count": 1,
   "metadata": {},
   "outputs": [
    {
     "name": "stdout",
     "output_type": "stream",
     "text": [
      "38\n"
     ]
    }
   ],
   "source": [
    "def foo(a):\n",
    "    \"\"\"Return foo of a\"\"\"\n",
    "    result = None\n",
    "    for item in a:\n",
    "        if result == None:\n",
    "            result = type(item)()\n",
    "        result += item\n",
    "    return result\n",
    "\n",
    "\n",
    "c = foo([5,10,23])\n",
    "\n",
    "print(c)\n"
   ]
  },
  {
   "cell_type": "code",
   "execution_count": 2,
   "metadata": {},
   "outputs": [
    {
     "data": {
      "text/plain": [
       "[1, 2, 3, 4]"
      ]
     },
     "execution_count": 2,
     "metadata": {},
     "output_type": "execute_result"
    }
   ],
   "source": [
    "foo([[1,2],[3,4]])"
   ]
  },
  {
   "cell_type": "markdown",
   "metadata": {
    "slideshow": {
     "slide_type": "slide"
    }
   },
   "source": [
    "## Effect of `return`\n",
    "A function can have as many `return` statements as you need. But too many are considered bad programming style."
   ]
  },
  {
   "cell_type": "code",
   "execution_count": null,
   "metadata": {},
   "outputs": [],
   "source": [
    "def describe_number(n):\n",
    "    if n > 1000000:\n",
    "        return \"LARGE\"\n",
    "    elif n > 1000:\n",
    "        return \"Medium\"\n",
    "    else:\n",
    "        return \"small\"\n",
    "\n",
    "    print(\"Never printed!\")\n",
    "\n",
    "\n",
    "print(9, \":\", describe_number(9))\n",
    "print(999, \":\",describe_number(999))\n",
    "print(999999, \":\",describe_number(99999))\n",
    "print(9999999999, \":\",describe_number(9999999999))\n"
   ]
  },
  {
   "cell_type": "markdown",
   "metadata": {
    "slideshow": {
     "slide_type": "slide"
    }
   },
   "source": [
    "The use of `return`statements can reduce complex if-elif-else control flows. Check"
   ]
  },
  {
   "cell_type": "code",
   "execution_count": null,
   "metadata": {},
   "outputs": [],
   "source": [
    "def describe_number(n):\n",
    "    if type(n) not in {int,float}:\n",
    "        return \"Not a number!\"\n",
    "    \n",
    "    if n > 1000000:\n",
    "        return \"LARGE\"\n",
    "    if n > 1000:\n",
    "        return \"Medium\"\n",
    "    return \"small\"\n",
    "\n",
    "    print(\"Never printed!\")\n",
    "\n",
    "print('X',\":\",describe_number('X'))\n",
    "print(9, \":\", describe_number(9))\n",
    "print(999, \":\",describe_number(999))\n",
    "print(999999, \":\",describe_number(99999))\n",
    "print(9999999999, \":\",describe_number(9999999999))"
   ]
  }
 ],
 "metadata": {
  "kernelspec": {
   "display_name": "Python 3 (ipykernel)",
   "language": "python",
   "name": "python3"
  },
  "language_info": {
   "codemirror_mode": {
    "name": "ipython",
    "version": 3
   },
   "file_extension": ".py",
   "mimetype": "text/x-python",
   "name": "python",
   "nbconvert_exporter": "python",
   "pygments_lexer": "ipython3",
   "version": "3.10.2"
  }
 },
 "nbformat": 4,
 "nbformat_minor": 2
}
