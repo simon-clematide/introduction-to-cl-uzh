{
 "cells": [
  {
   "cell_type": "markdown",
   "metadata": {},
   "source": [
    "# Namespaces"
   ]
  },
  {
   "cell_type": "markdown",
   "metadata": {},
   "source": [
    "## The same name can denote different values in the global and local namespace.\n",
    "Run the same code in the pythontutor visualization: http://tinyurl.com/pcl1-hs16-global-names"
   ]
  },
  {
   "cell_type": "code",
   "execution_count": null,
   "metadata": {
    "pixiedust": {
     "displayParams": {}
    }
   },
   "outputs": [],
   "source": [
    "a = \"Globale Variable\"\n",
    "\n",
    "def foo(a):\n",
    "    print(\"In Funktion: a =\", a)\n",
    "    return a\n",
    "\n",
    "c = foo(\"Lokale Variable\")\n",
    "\n",
    "print(\"In Modul: a =\", a)\n"
   ]
  },
  {
   "cell_type": "markdown",
   "metadata": {},
   "source": [
    "## Local variable names are local only!\n",
    "### Accessibility outside of the function\n",
    "Run the same code in pythontutor visualization: http://tinyurl.com/pcl1-hs16-global-names2"
   ]
  },
  {
   "cell_type": "code",
   "execution_count": null,
   "metadata": {
    "pixiedust": {
     "displayParams": {}
    }
   },
   "outputs": [],
   "source": [
    "# reset all global variables from earlier cells\n",
    "%reset -f  \n",
    "\n",
    "g = \"Globale Variable\"\n",
    "\n",
    "def foo():\n",
    "    f = g\n",
    "    return f\n",
    "\n",
    "def bar():\n",
    "    b = f\n",
    "    return b\n",
    "\n",
    "foo()\n",
    "bar()\n"
   ]
  },
  {
   "cell_type": "markdown",
   "metadata": {},
   "source": [
    "### Accessibility outside of the function\n",
    "A module-level assignment is needed"
   ]
  },
  {
   "cell_type": "code",
   "execution_count": null,
   "metadata": {},
   "outputs": [],
   "source": [
    "%reset -f \n",
    "g = \"Globale Variable\"\n",
    "\n",
    "def foo():\n",
    "    a = g\n",
    "    return a\n",
    "\n",
    "def bar():\n",
    "    b = a\n",
    "    return b\n",
    "\n",
    "a = foo()\n",
    "bar()"
   ]
  },
  {
   "cell_type": "markdown",
   "metadata": {},
   "source": [
    "## Assignments in functions create local variables\n",
    "Run the same code in the pythontutor visualization: https://goo.gl/zd7yte"
   ]
  },
  {
   "cell_type": "code",
   "execution_count": null,
   "metadata": {},
   "outputs": [],
   "source": [
    "%reset -f \n",
    "s = \"Python is great!\" \n",
    "def f():\n",
    "\n",
    "    s = \"But that's a bit strange.\"\n",
    "    print(s)\n",
    "\n",
    "print(s)\n",
    "f()\n",
    "print(s)"
   ]
  },
  {
   "cell_type": "markdown",
   "metadata": {},
   "source": [
    "## Assigment inside a function with the `global` keyword\n",
    "Run the same code in the pythontutor visualization: http://tinyurl.com/pcl1-hs16-global-names4"
   ]
  },
  {
   "cell_type": "code",
   "execution_count": null,
   "metadata": {},
   "outputs": [],
   "source": [
    "%reset -f \n",
    "s = \"Python is great!\" \n",
    "def f():\n",
    "    global s\n",
    "    s = \"But that's a bit strange.\"\n",
    "    print(s)\n",
    "\n",
    "print(s)\n",
    "f()\n",
    "print(s)"
   ]
  },
  {
   "cell_type": "code",
   "execution_count": null,
   "metadata": {},
   "outputs": [],
   "source": []
  }
 ],
 "metadata": {
  "kernelspec": {
   "display_name": "Python 3",
   "language": "python",
   "name": "python3"
  },
  "language_info": {
   "codemirror_mode": {
    "name": "ipython",
    "version": 3
   },
   "file_extension": ".py",
   "mimetype": "text/x-python",
   "name": "python",
   "nbconvert_exporter": "python",
   "pygments_lexer": "ipython3"
  }
 },
 "nbformat": 4,
 "nbformat_minor": 2
}
