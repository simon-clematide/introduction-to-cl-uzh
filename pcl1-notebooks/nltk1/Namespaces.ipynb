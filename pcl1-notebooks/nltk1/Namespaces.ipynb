{
 "cells": [
  {
   "cell_type": "markdown",
   "metadata": {
    "slideshow": {
     "slide_type": "slide"
    }
   },
   "source": [
    "# Namespaces\n",
    "Learning goals:\n",
    " - Understand the concept of global (module-wide) and local (typically function-wide) namespaces\n",
    " - Understand that evaluating an existing name to a value and assigning a value to a name has different scope rules\n",
    " - Understand that assignments in functions per default create/modify local names\n",
    " - Know how the statement `global VARIABLE` in functions changes this default behaviour\n",
    " - Know that the use of the global statement introduces spaghetti code\n",
    " - Be aware that using the same name for a local and global variable creates confusion for humans"
   ]
  },
  {
   "cell_type": "markdown",
   "metadata": {
    "slideshow": {
     "slide_type": "slide"
    }
   },
   "source": [
    "## The same name can denote different values in the global and local namespace\n",
    "This typically creates confusion for humans!\n",
    "\n",
    "Run this code in the [Pythontutor debugger visualization](http://tinyurl.com/pcl1-hs16-global-names)"
   ]
  },
  {
   "cell_type": "code",
   "execution_count": null,
   "metadata": {},
   "outputs": [],
   "source": [
    "a = \"Globale variable value\"\n",
    "\n",
    "def foo(a):\n",
    "    print(\"In function: a =\", a)\n",
    "    return a\n",
    "\n",
    "c = foo(\"Local variable value\")\n",
    "\n",
    "print(\"In module: a =\", a)\n"
   ]
  },
  {
   "cell_type": "markdown",
   "metadata": {
    "slideshow": {
     "slide_type": "slide"
    }
   },
   "source": [
    "## Local variable names are local only!\n",
    "### Accessibility outside of the function\n",
    "Run this code in [pythontutor visualization](http://tinyurl.com/pcl1-hs16-global-names2)"
   ]
  },
  {
   "cell_type": "code",
   "execution_count": null,
   "metadata": {},
   "outputs": [],
   "source": [
    "# Jupyter notebook magic to reset all global variables from earlier cells\n",
    "%reset -f  \n",
    "\n",
    "g = \"Global variable\"\n",
    "\n",
    "def foo():\n",
    "    f = g\n",
    "    return f\n",
    "\n",
    "def bar():\n",
    "    b = f\n",
    "    return b\n",
    "\n",
    "foo()\n",
    "bar()\n"
   ]
  },
  {
   "cell_type": "markdown",
   "metadata": {
    "slideshow": {
     "slide_type": "slide"
    }
   },
   "source": [
    "### Accessibility outside of the function\n",
    "Global variables are accessible inside functions! But local variables are not accessible outside a function!\n",
    "\n",
    "A module-level assignment is needed. Run this code in [Pythontutor](http://tinyurl.com/pcl1-hs16-global-names3)"
   ]
  },
  {
   "cell_type": "code",
   "execution_count": null,
   "metadata": {},
   "outputs": [],
   "source": [
    "%reset -f \n",
    "g = \"Global variable\"\n",
    "\n",
    "def foo():\n",
    "    a = g\n",
    "    return a\n",
    "\n",
    "def bar():\n",
    "    b = a\n",
    "    return b\n",
    "\n",
    "a = foo()\n",
    "bar()"
   ]
  },
  {
   "cell_type": "markdown",
   "metadata": {
    "slideshow": {
     "slide_type": "slide"
    }
   },
   "source": [
    "## Assignments in functions create local variables\n",
    "Per default, assignments in functions create local variables, even if a global varianle with the same name exists!\n",
    "\n",
    "Run this code in the [Pythontutor](https://goo.gl/zd7yte)"
   ]
  },
  {
   "cell_type": "code",
   "execution_count": null,
   "metadata": {},
   "outputs": [],
   "source": [
    "%reset -f \n",
    "s = \"Python is great!\" \n",
    "def f():\n",
    "\n",
    "    s = \"But that's a bit strange.\"\n",
    "    print(s)\n",
    "\n",
    "print(s)\n",
    "f()\n",
    "print(s)"
   ]
  },
  {
   "cell_type": "markdown",
   "metadata": {
    "slideshow": {
     "slide_type": "slide"
    }
   },
   "source": [
    "## Global namespace assigment inside a function with the `global` keyword\n",
    "You can change the default behaviour of assignments in functions (but you should not unless producing confusing code is your goal).\n",
    "\n",
    "Run this  code in the  [Pythontutor]( http://tinyurl.com/pcl1-hs16-global-names4)\n"
   ]
  },
  {
   "cell_type": "code",
   "execution_count": null,
   "metadata": {},
   "outputs": [],
   "source": [
    "%reset -f \n",
    "s = \"Python is great!\" \n",
    "def f():\n",
    "    global s\n",
    "    s = \"But that's a bit strange.\"\n",
    "    print(s)\n",
    "\n",
    "print(s)\n",
    "f()\n",
    "print(s)"
   ]
  }
 ],
 "metadata": {},
 "nbformat": 4,
 "nbformat_minor": 2
}
