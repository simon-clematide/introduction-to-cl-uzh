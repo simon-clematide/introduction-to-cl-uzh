{
 "cells": [
  {
   "cell_type": "markdown",
   "metadata": {
    "slideshow": {
     "slide_type": "slide"
    }
   },
   "source": [
    "# Coreference resolution in Spacy\n",
    "The neural coreference resolution module can be combined with spacy."
   ]
  },
  {
   "cell_type": "code",
   "execution_count": null,
   "metadata": {},
   "outputs": [],
   "source": [
    "# First install compatible version of spacy and neuralcoref\n",
    "! pip install spacy==2.1.0 neuralcoref\n",
    "\n",
    "# then restart the kernel"
   ]
  },
  {
   "cell_type": "code",
   "execution_count": null,
   "metadata": {},
   "outputs": [],
   "source": [
    "# download the small spacy model for English if not done already\n",
    "! python -mspacy download en_core_web_sm"
   ]
  },
  {
   "cell_type": "code",
   "execution_count": null,
   "metadata": {
    "slideshow": {
     "slide_type": "slide"
    }
   },
   "outputs": [],
   "source": [
    "import spacy\n",
    "from spacy import displacy \n",
    "\n",
    "nlp = spacy.load('en_core_web_sm')"
   ]
  },
  {
   "cell_type": "code",
   "execution_count": null,
   "metadata": {
    "slideshow": {
     "slide_type": "slide"
    }
   },
   "outputs": [],
   "source": [
    "doc = nlp('My sister has a dog. She loves him. But he does not love her.')\n",
    "displacy.render(doc, style='dep',jupyter=True)"
   ]
  },
  {
   "cell_type": "markdown",
   "metadata": {
    "slideshow": {
     "slide_type": "slide"
    }
   },
   "source": [
    "Installing neuralcoref package and adding coreference resolution to spacy pipeline"
   ]
  },
  {
   "cell_type": "code",
   "execution_count": null,
   "metadata": {},
   "outputs": [],
   "source": [
    "import neuralcoref\n",
    "\n",
    "nlp_with_coref = spacy.load('en_core_web_sm') # displacy does not work with docs parsed with neuralcoref component\n",
    "# Add neural coref to SpaCy's pipeline\n",
    "neuralcoref.add_to_pipe(nlp_with_coref)\n",
    "# You're done. You can now use NeuralCoref as you usually manipulate a SpaCy document annotations."
   ]
  },
  {
   "cell_type": "code",
   "execution_count": null,
   "metadata": {
    "slideshow": {
     "slide_type": "slide"
    }
   },
   "outputs": [],
   "source": [
    "# a naive way to apply the result of coreference resolution\n",
    "# just reparse the resolved text\n",
    "doc_resolved = nlp_with_coref('My sister has a dog. She loves him. But he does not love her.')\n",
    "print(doc_resolved._.coref_clusters)\n",
    "print(doc_resolved._.coref_resolved)"
   ]
  },
  {
   "cell_type": "code",
   "execution_count": null,
   "metadata": {
    "slideshow": {
     "slide_type": "subslide"
    }
   },
   "outputs": [],
   "source": [
    "doc_resolved_reparsed = nlp(doc_resolved._.coref_resolved)\n",
    "displacy.render(doc_resolved_reparsed, style='dep',jupyter=True)"
   ]
  },
  {
   "cell_type": "code",
   "execution_count": null,
   "metadata": {
    "slideshow": {
     "slide_type": "slide"
    }
   },
   "outputs": [],
   "source": [
    "def doc_resolve_render(doc, nlp_with_coref, nlp):\n",
    "    print(\"ORIG DOC:\",doc)\n",
    "    doc_resolved = nlp_with_coref(doc)\n",
    "    print(\"RESOVED DOC:\",doc_resolved._.coref_resolved)\n",
    "    doc_resolved_reparsed = nlp(doc_resolved._.coref_resolved)\n",
    "    displacy.render(doc_resolved_reparsed, style='dep',jupyter=True)"
   ]
  },
  {
   "cell_type": "code",
   "execution_count": null,
   "metadata": {
    "slideshow": {
     "slide_type": "slide"
    }
   },
   "outputs": [],
   "source": [
    "doc2 = \"The Marzilibahn is 105 meters long. It is the shortest funicular in Europe.\"\n",
    "doc_resolve_render(doc2, nlp_with_coref, nlp)"
   ]
  },
  {
   "cell_type": "code",
   "execution_count": null,
   "metadata": {
    "slideshow": {
     "slide_type": "slide"
    }
   },
   "outputs": [],
   "source": [
    "doc3 = '''Bern is the capital city of Switzerland. It is also the capital of the canton of Bern. As of early 2006, 127.000 people live in the city'''\n",
    "doc_resolve_render(doc3,nlp_with_coref, nlp)"
   ]
  },
  {
   "cell_type": "code",
   "execution_count": null,
   "metadata": {
    "slideshow": {
     "slide_type": "slide"
    }
   },
   "outputs": [],
   "source": [
    "doc4 = '''The other university is the University of Zürich. It is the largest university in Switzerland.'''\n",
    "doc_resolve_render(doc4,nlp_with_coref, nlp)"
   ]
  },
  {
   "cell_type": "markdown",
   "metadata": {
    "slideshow": {
     "slide_type": "slide"
    }
   },
   "source": [
    "## Adding coreference information to the JSON representation\n",
    "Unfortunately, we cannot directly inform the to_json() method of spacy to add the coreference resolution information to the parse. However, we can define a function that returns a JSON representation with additional information on the token level that can be used for information extraction.\n",
    "\n",
    "Therefore we introduce 3 additional attributes on the token level of spacy:\n",
    "  - coref_cluster_id\n",
    "  - main_coref_start: First token that is part of this coreferential expression\n",
    "  - main_coref_end: Index of token coming after the last part of this coreferential expression\n",
    "  \n",
    " main_coref_start and main_coref_end used the normal Spacy span conventions to describe a slice of tokens in a document: doc[main_coref_start:main_coref_end] return the span of tokens belonging to the corerential expression."
   ]
  },
  {
   "cell_type": "code",
   "execution_count": null,
   "metadata": {},
   "outputs": [],
   "source": [
    "def doc_to_json_with_coref(doc):\n",
    "    \"\"\"Serialize a spacy document into JSON, enriched by coreference infos at token level\"\"\"\n",
    "    \n",
    "    json_doc = doc.to_json()\n",
    "    json_tokens = json_doc[\"tokens\"]\n",
    "    for i,t in enumerate(doc):\n",
    "        if t._.in_coref:\n",
    "            for c in t._.coref_clusters:\n",
    "                json_tokens[i][\"coref_cluster_id\"] = c.i\n",
    "                json_tokens[i][\"main_coref_start\"] = c.main.start\n",
    "                json_tokens[i][\"main_coref_end\"] = c.main.end\n",
    "    return json_doc"
   ]
  },
  {
   "cell_type": "code",
   "execution_count": null,
   "metadata": {},
   "outputs": [],
   "source": [
    "doc_resolved = nlp_with_coref('My sister has a dog. She loves him. But he does not love her.')\n",
    "doc_to_json_with_coref(doc_resolved)"
   ]
  },
  {
   "cell_type": "markdown",
   "metadata": {
    "slideshow": {
     "slide_type": "slide"
    }
   },
   "source": [
    "Accessing coreference attributes: https://github.com/huggingface/neuralcoref\n",
    " - Coreferences are sets (=clusters) of coreferential spans in the document"
   ]
  },
  {
   "cell_type": "code",
   "execution_count": null,
   "metadata": {
    "slideshow": {
     "slide_type": "subslide"
    }
   },
   "outputs": [],
   "source": [
    "doc = nlp_with_coref('My sister has a dog. She loves him')\n",
    "\n",
    "# Ex: doc._.coref_clusters[1].mentions[-1].start will give you the index of the first token of the last mention of the second coreference cluster in the document."
   ]
  },
  {
   "cell_type": "code",
   "execution_count": null,
   "metadata": {},
   "outputs": [],
   "source": [
    "doc._.coref_clusters[1].mentions[-1].start"
   ]
  },
  {
   "cell_type": "code",
   "execution_count": null,
   "metadata": {},
   "outputs": [],
   "source": [
    "doc[8]"
   ]
  },
  {
   "cell_type": "code",
   "execution_count": null,
   "metadata": {},
   "outputs": [],
   "source": [
    "doc._.coref_clusters[1]"
   ]
  },
  {
   "cell_type": "code",
   "execution_count": null,
   "metadata": {},
   "outputs": [],
   "source": [
    "doc._.coref_clusters[1].mentions[0].start, doc._.coref_clusters[1].mentions[0].end"
   ]
  },
  {
   "cell_type": "code",
   "execution_count": null,
   "metadata": {},
   "outputs": [],
   "source": [
    "doc[3:5]"
   ]
  }
 ],
 "metadata": {
  "livereveal": {
   "center": true,
   "embedded": true,
   "enable_chalkboard": true,
   "scroll": true,
   "start_slideshow_at": "selected",
   "theme": "simple",
   "transition": "fade"
  }
 },
 "nbformat": 4,
 "nbformat_minor": 2
}
