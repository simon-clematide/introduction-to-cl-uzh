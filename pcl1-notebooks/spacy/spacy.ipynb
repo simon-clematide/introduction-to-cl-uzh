{
 "cells": [
  {
   "cell_type": "markdown",
   "metadata": {
    "slideshow": {
     "slide_type": "slide"
    }
   },
   "source": [
    "# Coreference resolution in Spacy\n",
    "The neural coreference resolution module can be combined with spacy."
   ]
  },
  {
   "cell_type": "code",
   "execution_count": null,
   "metadata": {},
   "outputs": [],
   "source": [
    "# First install compatible version of spacy and neuralcoref\n",
    "! pip install spacy==2.1.0 neuralcoref\n",
    "\n",
    "# then restart the kernel"
   ]
  },
  {
   "cell_type": "code",
   "execution_count": null,
   "metadata": {
    "scrolled": true
   },
   "outputs": [],
   "source": [
    "# download the small spacy model for English if not done already\n",
    "! python -mspacy download en_core_web_sm"
   ]
  },
  {
   "cell_type": "code",
   "execution_count": null,
   "metadata": {
    "slideshow": {
     "slide_type": "slide"
    }
   },
   "outputs": [],
   "source": [
    "import spacy\n",
    "from spacy import displacy \n",
    "\n",
    "nlp = spacy.load('en_core_web_sm')"
   ]
  },
  {
   "cell_type": "code",
   "execution_count": null,
   "metadata": {
    "slideshow": {
     "slide_type": "slide"
    }
   },
   "outputs": [],
   "source": [
    "doc = nlp('My sister has a dog. She loves him. But he does not love her.')\n",
    "displacy.render(doc, style='dep',jupyter=True)"
   ]
  },
  {
   "cell_type": "markdown",
   "metadata": {
    "slideshow": {
     "slide_type": "slide"
    }
   },
   "source": [
    "Installing neuralcoref package and adding coreference resolution to spacy pipeline"
   ]
  },
  {
   "cell_type": "code",
   "execution_count": null,
   "metadata": {},
   "outputs": [],
   "source": [
    "import neuralcoref\n",
    "\n",
    "nlp_with_coref = spacy.load('en_core_web_sm') # displacy does not work with docs parsed with neuralcoref component\n",
    "# Add neural coref to SpaCy's pipeline\n",
    "neuralcoref.add_to_pipe(nlp_with_coref)\n",
    "# You're done. You can now use NeuralCoref as you usually manipulate a SpaCy document annotations."
   ]
  },
  {
   "cell_type": "code",
   "execution_count": null,
   "metadata": {
    "slideshow": {
     "slide_type": "slide"
    }
   },
   "outputs": [],
   "source": [
    "# a naive way to apply the result of coreference resolution\n",
    "# just reparse the resolved text\n",
    "doc_resolved = nlp_with_coref('My sister has a dog. She loves him. But he does not love her.')\n",
    "print(doc_resolved._.coref_clusters)\n",
    "print(doc_resolved._.coref_resolved)"
   ]
  },
  {
   "cell_type": "code",
   "execution_count": null,
   "metadata": {
    "slideshow": {
     "slide_type": "subslide"
    }
   },
   "outputs": [],
   "source": [
    "doc_resolved_reparsed = nlp(doc_resolved._.coref_resolved)\n",
    "displacy.render(doc_resolved_reparsed, style='dep',jupyter=True)"
   ]
  },
  {
   "cell_type": "code",
   "execution_count": null,
   "metadata": {
    "slideshow": {
     "slide_type": "slide"
    }
   },
   "outputs": [],
   "source": [
    "def doc_resolve_render(doc, nlp_with_coref, nlp):\n",
    "    print(\"ORIG DOC:\",doc)\n",
    "    doc_resolved = nlp_with_coref(doc)\n",
    "    print(\"RESOVED DOC:\",doc_resolved._.coref_resolved)\n",
    "    doc_resolved_reparsed = nlp(doc_resolved._.coref_resolved)\n",
    "    displacy.render(doc_resolved_reparsed, style='dep',jupyter=True)"
   ]
  },
  {
   "cell_type": "code",
   "execution_count": null,
   "metadata": {
    "slideshow": {
     "slide_type": "slide"
    }
   },
   "outputs": [],
   "source": [
    "doc2 = \"The Marzilibahn is 105 meters long. It is the shortest funicular in Europe.\"\n",
    "doc_resolve_render(doc2, nlp_with_coref, nlp)"
   ]
  },
  {
   "cell_type": "code",
   "execution_count": null,
   "metadata": {
    "slideshow": {
     "slide_type": "slide"
    }
   },
   "outputs": [],
   "source": [
    "doc3 = '''Bern is the capital city of Switzerland. It is also the capital of the canton of Bern. As of early 2006, 127.000 people live in the city'''\n",
    "doc_resolve_render(doc3,nlp_with_coref, nlp)"
   ]
  },
  {
   "cell_type": "code",
   "execution_count": null,
   "metadata": {
    "slideshow": {
     "slide_type": "slide"
    }
   },
   "outputs": [],
   "source": [
    "doc4 = '''The other university is the University of Zürich. It is the largest university in Switzerland.'''\n",
    "doc_resolve_render(doc4,nlp_with_coref, nlp)"
   ]
  },
  {
   "cell_type": "markdown",
   "metadata": {
    "slideshow": {
     "slide_type": "slide"
    }
   },
   "source": [
    "Accessing coreference attributes: https://github.com/huggingface/neuralcoref\n",
    " - Coreferences are sets (=clusters) of coreferential spans in the document"
   ]
  },
  {
   "cell_type": "code",
   "execution_count": null,
   "metadata": {
    "slideshow": {
     "slide_type": "subslide"
    }
   },
   "outputs": [],
   "source": [
    "doc = nlp_with_coref('My sister has a dog. She loves him')\n",
    "\n",
    "# Ex: doc._.coref_clusters[1].mentions[-1].start will give you the index of the first token of the last mention of the second coreference cluster in the document."
   ]
  },
  {
   "cell_type": "code",
   "execution_count": null,
   "metadata": {},
   "outputs": [],
   "source": [
    "doc._.coref_clusters[1].mentions[-1].start"
   ]
  },
  {
   "cell_type": "code",
   "execution_count": null,
   "metadata": {},
   "outputs": [],
   "source": [
    "doc[8]"
   ]
  },
  {
   "cell_type": "code",
   "execution_count": null,
   "metadata": {
    "scrolled": true
   },
   "outputs": [],
   "source": [
    "doc._.coref_clusters[1]"
   ]
  },
  {
   "cell_type": "code",
   "execution_count": null,
   "metadata": {},
   "outputs": [],
   "source": [
    "doc._.coref_clusters[1].mentions[0].start, doc._.coref_clusters[1].mentions[0].end"
   ]
  },
  {
   "cell_type": "code",
   "execution_count": null,
   "metadata": {},
   "outputs": [],
   "source": [
    "doc[3:5]"
   ]
  },
  {
   "cell_type": "code",
   "execution_count": null,
   "metadata": {},
   "outputs": [],
   "source": []
  }
 ],
 "metadata": {
  "celltoolbar": "Slideshow",
  "kernelspec": {
   "display_name": "Python 3",
   "language": "python",
   "name": "python3"
  },
  "language_info": {
   "codemirror_mode": {
    "name": "ipython",
    "version": 3
   },
   "file_extension": ".py",
   "mimetype": "text/x-python",
   "name": "python",
   "nbconvert_exporter": "python",
   "pygments_lexer": "ipython3",
   "version": "3.7.3"
  },
  "livereveal": {
   "center": true,
   "embedded": true,
   "enable_chalkboard": true,
   "scroll": true,
   "start_slideshow_at": "selected",
   "theme": "simple",
   "transition": "fade"
  }
 },
 "nbformat": 4,
 "nbformat_minor": 2
}
