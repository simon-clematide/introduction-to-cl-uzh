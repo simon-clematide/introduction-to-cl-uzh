{
 "cells": [
  {
   "cell_type": "markdown",
   "id": "90c72e6b",
   "metadata": {
    "slideshow": {
     "slide_type": "slide"
    }
   },
   "source": [
    "# Cosine Similarity\n",
    " - Understand the basic mathematics behind vector-based similarity\n",
    " - Understand the vector dot product\n",
    " - Understand the L2 norm"
   ]
  },
  {
   "cell_type": "markdown",
   "id": "f7c22852",
   "metadata": {
    "slideshow": {
     "slide_type": "slide"
    }
   },
   "source": [
    "## The dot product:  $\\mathbf{a} \\cdot \\mathbf{b}$\n",
    " - Reduces two vectors to a single number"
   ]
  },
  {
   "cell_type": "code",
   "execution_count": null,
   "id": "f5141811",
   "metadata": {},
   "outputs": [],
   "source": [
    "def dot_product(a, b):\n",
    "    \"Return dot product of two vectors (given as sequence of numbers)\"\n",
    "    \n",
    "    result = 0\n",
    "    for i,a_i in enumerate(a):\n",
    "        result += a_i * b[i]\n",
    "    return result"
   ]
  },
  {
   "cell_type": "code",
   "execution_count": null,
   "id": "8740f77d",
   "metadata": {},
   "outputs": [],
   "source": [
    "dot_product([1,2],[1,2.1])"
   ]
  },
  {
   "cell_type": "markdown",
   "id": "befc04b2",
   "metadata": {
    "slideshow": {
     "slide_type": "slide"
    }
   },
   "source": [
    "## The L2 Norm: $||\\mathbf{a}||$\n",
    " - Reduces a vector to a single number: The length of a vector in a Euclidean space"
   ]
  },
  {
   "cell_type": "code",
   "execution_count": null,
   "id": "ef62ba6c",
   "metadata": {},
   "outputs": [],
   "source": [
    "import math\n",
    "def l2_norm(a):\n",
    "    \"Return L2 norma of a vector\"\n",
    "    \n",
    "    result = 0\n",
    "    for i in a:\n",
    "        result += i**2\n",
    "    return math.sqrt(result)"
   ]
  },
  {
   "cell_type": "code",
   "execution_count": null,
   "id": "02e320ba",
   "metadata": {},
   "outputs": [],
   "source": [
    "l2_norm([1,2.1])"
   ]
  },
  {
   "cell_type": "markdown",
   "id": "7999618e",
   "metadata": {
    "slideshow": {
     "slide_type": "slide"
    }
   },
   "source": [
    "## Cosine similarity: $\\mathit{cosine}(\\mathbf{a},\\mathbf{b})=\\frac{\\mathbf{a} \\cdot \\mathbf{b}}{||\\mathbf{a}||\\times||\\mathbf{b}||}$\n",
    " - The resulting similarity ranges from −1 meaning exactly opposite, to 1 meaning exactly the same, with 0 indicating orthogonality, while in-between values indicate intermediate similarity or dissimilarity."
   ]
  },
  {
   "cell_type": "code",
   "execution_count": null,
   "id": "36f765d4",
   "metadata": {},
   "outputs": [],
   "source": [
    "def cosine(a,b):\n",
    "    \"Return cosine distance of two vectors\"\n",
    "    \n",
    "    return dot_product(a,b)/(l2_norm(a)*l2_norm(b))"
   ]
  },
  {
   "cell_type": "code",
   "execution_count": null,
   "id": "299ab089",
   "metadata": {},
   "outputs": [],
   "source": [
    "cosine([1,2],[1,2.1])"
   ]
  }
 ],
 "metadata": {
  "kernelspec": {
   "display_name": "Python 3 (ipykernel)",
   "language": "python",
   "name": "python3"
  },
  "language_info": {
   "codemirror_mode": {
    "name": "ipython",
    "version": 3
   },
   "file_extension": ".py",
   "mimetype": "text/x-python",
   "name": "python",
   "nbconvert_exporter": "python",
   "pygments_lexer": "ipython3",
   "version": "3.10.2"
  },
  "livereveal": {
   "center": false,
   "embedded": true,
   "scroll": true,
   "start_slideshow_at": "selected",
   "theme": "simple",
   "transition": "fade"
  }
 },
 "nbformat": 4,
 "nbformat_minor": 5
}
