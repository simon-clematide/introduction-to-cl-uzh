{
 "cells": [
  {
   "cell_type": "markdown",
   "metadata": {},
   "source": [
    "# XML to JSONL processing\n",
    "Turn annotated corpus file in XML format into task-specific JSONL format\n",
    "  - Each XML paragraph (`<div>`) is one line in JSONL"
   ]
  },
  {
   "cell_type": "markdown",
   "metadata": {},
   "source": [
    "## Input file from British Alpine Club"
   ]
  },
  {
   "cell_type": "code",
   "execution_count": 11,
   "metadata": {},
   "outputs": [
    {
     "name": "stdout",
     "output_type": "stream",
     "text": [
      "<?xml version='1.0' encoding='UTF-8'?>\n",
      "<book id=\"book.1969.en\" year=\"1969\">\n",
      "   <article id=\"a0\" lang=\"en\">\n",
      "      <div>\n",
      "         <s id=\"a0-s1\" lang=\"en\">\n",
      "            <w id=\"a0-s1-w1\" lemma=\"Direttissima\" pos=\"NN\">Direttissima</w>\n",
      "            <w id=\"a0-s1-w2\" lemma=\"on\" pos=\"IN\">on</w>\n",
      "            <w id=\"a0-s1-w3\" lemma=\"the\" pos=\"DT\">the</w>\n",
      "            <w id=\"a0-s1-w4\" lemma=\"Piz\" pos=\"NP\">Piz</w>\n",
      "            <w id=\"a0-s1-w5\" lemma=\"Badile\" pos=\"NP\">Badile</w>\n",
      "         </s>\n",
      "      </div>\n",
      "      <div>\n",
      "         <s id=\"a0-s2\" lang=\"en\">\n",
      "            <w id=\"a0-s2-w1\" lemma=\"Dick\" pos=\"NP\">Dick</w>\n",
      "            <w id=\"a0-s2-w2\" lemma=\"Isherwood\" pos=\"NP\">Isherwood</w>\n",
      "            <w id=\"a0-s2-w3\" lemma=\"when\" pos=\"WRB\">When</w>\n",
      "            <w id=\"a0-s2-w4\" lemma=\"you\" pos=\"PP\">you</w>\n",
      "            <w id=\"a0-s2-w5\" lemma=\"have\" pos=\"VHP\">have</w>\n",
      "            <w id=\"a0-s2-w6\" lemma=\"only\" pos=\"RB\">only</w>\n",
      "            <w id=\"a0-s2-w7\" lemma=\"three\" pos=\"CD\">three</w>\n",
      "            <w id=\"a0-s2-w8\" lemma=\"week\" pos=\"NNS\">weeks</w>\n",
      "            <w id=\"a0-s2-w9\" lemma=\"holiday\" pos=\"NN\">holiday</w>\n",
      "            <w id=\"a0-s2-w10\" lemma=\",\" pos=\",\">,</w>\n",
      "            <w id=\"a0-s2-w11\" lemma=\"you\" pos=\"PP\">you</w>\n",
      "            <w id=\"a0-s2-w12\" lemma=\"have\" pos=\"VHP\">have</w>\n",
      "            <w id=\"a0-s2-w13\" lemma=\"to\" pos=\"TO\">to</w>\n",
      "            <w id=\"a0-s2-w14\" lemma=\"make\" pos=\"VV\">make</w>\n",
      "            <w id=\"a0-s2-w15\" lemma=\"the\" pos=\"DT\">the</w>\n",
      "            <w id=\"a0-s2-w16\" lemma=\"most\" pos=\"JJS\">most</w>\n",
      "            <w id=\"a0-s2-w17\" lemma=\"of\" pos=\"IN\">of</w>\n",
      "            <w id=\"a0-s2-w18\" lemma=\"it\" pos=\"PP\">it</w>\n",
      "            <w id=\"a0-s2-w19\" lemma=\".\" pos=\"SENT\">.</w>\n",
      "         </s>\n",
      "         <s id=\"a0-s3\" lang=\"en\">\n",
      "            <w id=\"a0-s3-w1\" lemma=\"Mike\" pos=\"NP\">Mike</w>\n",
      "            <w id=\"a0-s3-w2\" lemma=\"Kosterlitz\" pos=\"NP\">Kosterlitz</w>\n",
      "            <w id=\"a0-s3-w3\" lemma=\",\" pos=\",\">,</w>\n",
      "            <w id=\"a0-s3-w4\" lemma=\"Richard\" pos=\"NP\">Richard</w>\n",
      "            <w id=\"a0-s3-w5\" lemma=\"Stewardson\" pos=\"NP\">Stewardson</w>\n"
     ]
    }
   ],
   "source": [
    "! head -n 40 BAC_1969_a0_en.xml"
   ]
  },
  {
   "cell_type": "markdown",
   "metadata": {},
   "source": [
    "## Traverse XML file and aggregate words"
   ]
  },
  {
   "cell_type": "code",
   "execution_count": 16,
   "metadata": {},
   "outputs": [],
   "source": [
    "import xml.etree.ElementTree as ET\n",
    "import json\n",
    "\n",
    "\n",
    "# Parse the XML file\n",
    "def extract_sentences_to_jsonl(xml_file, jsonl_file):\n",
    "    tree = ET.parse(xml_file)\n",
    "    root = tree.getroot()\n",
    "\n",
    "    with open(jsonl_file, 'w', encoding='utf-8') as jsonl:\n",
    "        \n",
    "        for paragraph in root.iter(\"div\"):\n",
    "            # Extract text content from each 'w' within 'div'\n",
    "            words = [w.text for w in paragraph.iter(\"w\") if w.text.strip()]\n",
    "            text = \" \".join(words).strip()\n",
    "            \n",
    "            jsonl.write(json.dumps({\"text\": text},ensure_ascii=False) + \"\\n\")\n",
    "\n",
    "    print(f\"Paragraphs extracted and saved to {jsonl_file}\")\n",
    "\n"
   ]
  },
  {
   "cell_type": "code",
   "execution_count": 17,
   "metadata": {},
   "outputs": [
    {
     "name": "stdout",
     "output_type": "stream",
     "text": [
      "Paragraphs extracted and saved to BAC_1969_a0_en_paras.jsonl\n"
     ]
    }
   ],
   "source": [
    "# Load and parse the XML file\n",
    "xml_file = 'BAC_1969_a0_en.xml'      # Path to your XML file\n",
    "jsonl_file = 'BAC_1969_a0_en_paras.jsonl'      # Path to output JSONL file\n",
    "\n",
    "\n",
    "# Run the function\n",
    "extract_sentences_to_jsonl(xml_file, jsonl_file)\n"
   ]
  },
  {
   "cell_type": "code",
   "execution_count": 13,
   "metadata": {},
   "outputs": [
    {
     "name": "stdout",
     "output_type": "stream",
     "text": [
      "{\"text\": \"Direttissima on the Piz Badile\"}\n",
      "{\"text\": \"Dick Isherwood When you have only three weeks holiday , you have to make the most of it . Mike Kosterlitz , Richard Stewardson and I left England on Friday evening 2iS June 1968 , and reached the Val Bregaglia at dusk on Saturday . For three days the weather was perfect , and onednesday . Mike and I were prostrate by Lake C' omo after doing the Northwest ridge of the Sciora di Fuori and the North ridge of the Piz C' engalo ( the latter a superb slab and groove climb on perfect rock ) . We had also reconnoitred the route which was my main ambition for the summer , the unrepeated C' orti-Battaglia route on the Piz Hadilc .\"}\n",
      "{\"text\": \"This climb lies on the big pillar forming the left hand part of the Hadile 's familiar Northeast face . It was first climbed in 1953 and the only facts on record are that the climbing was largely artificial and the unfortunate Hattaglia was struck by lightning on the summit and killed . The face has several cracks and from the Sciora hut it is not clear which is the best line of weakness . Hut we had had a grandstand view of the upper two-thirds of the face from the C' engalo 's North ridge [ 2 ] and we were m no doubt what must be the line . It was a beautiful S-bend crack , slanting slightly to the right , steep at the bottom , easing in the middle , and rearing up at the top to end in a long , straight groove capped by a roof . It reminded us of the Great Wall on C'logwyn du'r Arddu .\"}\n",
      "{\"text\": \"However , unlike Cloggy 's Ivast Buttress , this face is guarded by a steep snow and ice couloir with an obviously difficult bergschrund . During our day on the C' engalo nothing fell down the couloir ; nevertheless its lower section looked unpleasant . In contrast the upper part was quite amiable and we thought of approaching from the Italian side and descending from the col between the Badile and C' engalo . This would probably be as long as the approach from the Sciora hut though less difficult , but its chief advantage was brought home tous late that same afternoon , as after descending from the Cengalo , we waded through knee-deep snow to the Passo di Bondo on our return to Switzerland . Neither of us wanted to repeat that .\"}\n",
      "{\"text\": \"So when the joys of C' omo began to pall and our wallets to grow thin , instead of returning to Bondo we drove up the \\\\ al Masino to the road end and tackled the 1400 m of ascent to the Gianetti hut . The guardian , Fiorelli , was suitably impressed when we mentioned the C' orti route and told us that it was ' estremamente difficile ' , ' tutto chiodi ' , and that it needed lots of ' cunei di legno ' . Privately , we thought we knew better  after all , it was less than vertical , so some of it must be tree . We never thought to ask him w here it went .\"}\n",
      "{\"text\": \"Bad weather compelled us to wait for two days , though on the second day , a Sunday , the black clouds cleared a little and several routes were done by niRETTISSIMA ON THE PIZ BADILE weekend parties . Despite our ascent of a 400 -ft Vialnglese on an outcrop below the hut , we were a bit demoralised that night . We decided to give it one more day and go on to Chamonix .\"}\n",
      "{\"text\": \"That night the sky cleared and the morning was fine . We reached the col by an easy snow slope and looking down the couloir we thought how clever we 'd been . It was fairly steep , but obviously it was only 500 ft or so to the foot of the crack line . We wrent down one at a time , kicking big steps in the hard snow . After 1000 ft we realised we 'd underestimated a little , and only after 1500 ft of descent and two hours ' effort did we reach the start . It was now a quarter to nine . Still , it was midsummer , so we hoped , to get away without a bivouac .\"}\n",
      "{\"text\": \"Mike led off up the first pitch , a steep , wide crack . He had a fair amount of d'fficulty and had to use a few pegs  though he found an old ring peg in place , which was encouraging . By the time I followed , I was very cold , and the rock here was wet . A pile of curious jammed flakes supported us both , but a small block which I dislodged higher up sent them all tumbling into the couloir . Hands were numb and the climbing was hard . I grasped the old peg and almost came on the rope  he had n't told me he 'd taken it out and stuck it into a clump of moss . I struggled up to the stance wondering how many days the good weather would last .\"}\n",
      "{\"text\": \"WTe exchanged loads and I went on . The lighter sack was a relief but our thirty pegs and karabiners made the leader 's load as heavy and at least as awkward as the second 's . Fortunately the climbing eased , and the next three pitches were largely scrambling . This was more encouraging  our initial impressions that the lower half would be free were now being confirmed .\"}\n",
      "{\"text\": \"In fact , wre found only two more difficult pitches before the steep final section . The one I led was a pleasant corner crack , but Mike 's pitch , just below the recess in the middle of the face , was a nasty loose chimney , slanting to the right . Just above my stance he climbed over three blocks jammed abreast , then over a frightening projecting flake , and with considerable skill avoided sending down any rock until he was well out of my line . Then a barrage started  boulders , gravel and Scottish oaths flew down the cliff for minutes on end . The sack seemed to be annoying him particularly . When I followed I saw his point  the chimney was fine if you had nothing to carry . He hauled the big sack as he 'd cleverly hauled his own , so I was able to enjoy it , using the rubbish at the back of the chimney as a sort of treadmill .\"}\n",
      "{\"text\": \"Two easy pitches took us to the pedestal at the foot of the steep top wall . The three parallel cracks leading up from here were thin and obviously it would be 3 . IppriMirliiiiji tin slnp final sntimi on t/n l' i~ liatlilr DIRETTISSIMA OX THE PIZ BADILE pegging at first . Higher up , the right-hand crack ran into a big dièdre where we hoped to find free climbing . The roof at the top was about 200 ft away , we thought  this proved to be our second underestimate of the day . We ate some chocolate and thought about big spaghettis for supper .\"}\n",
      "{\"text\": \"Half-past-one  my lead first . The pegs had come to seem a reasonable load by now , and it was good to use them after carrying them so far . We were able to free-climb bits of the pitch and we used several jammed nuts to save time and effort . There was no ledge so I took a stance in étriers and Mike led on . Oddly , the roof seemed no closer .\"}\n",
      "{\"text\": \"After 90 ft of rather loose pegging he stopped at the foot of the dièdre . Above was a huge flake , apparently poised across the crack , and for a few minutes we thought of swinging across into one of the other cracks  but these were equally loose and ledgeless . I came up , impressed by the instability of some of the pegs and the general looseness of the area where Mike was belayed , but gratified to hear that this compared to A3 climbing in Yosemite . Very cautiously I approached the big flake . From close range I could see that it was part of a really enormous block  half the face  and that there was no danger . It was a remarkable formation , a tongue of rock four feet deep , a foot thick at its centre , and fifteen feet long , extending across the dièdre with daylight behind it all the way . I mantelshelfed onto it and continued .\"}\n",
      "{\"text\": \"Sadly , there was no chimney in the dièdre as we had hoped , and not even a hand-jamming crack , so it was pegs all the way , supplemented by nuts . Again the stance was in étriers but the roof did seem closer  40 ft , I suggested to Mike . Eighty at least was his estimate , and by now daylight was getting short . He ran out 130 ft at best Californian speed and he still was n't there . He found a ledge , the first since lunch , and suggested we 'd have to bivouac there . ' Is it big enough to cook onWait till you see it ' .\"}\n",
      "{\"text\": \"I still had hopes of reaching the shoulder , but darkness came when I was half way up the pitch . In a way it was a relief  tension was reduced , we knew we 'd have to bivouac there  and suddenly I felt really tired . I left three expensive pegs  the first we 'd had to leave  and Mike hauled me bodily onto the ledge , which seemed to be made of wet clay .\"}\n",
      "{\"text\": \"It was already very dark , but he 'd spied out the ground , such as it was . There was a long flake crack , pointing comfortingly down into the mountain and we put several pegs into this . The ' ledge ' was useless , since it was too small for two , and it was under continuous drip from the roof . We stood partly on a tiny , sloping gangway below the flake but mostly in étriers . I was struggling to stay DIRETTISSIMA ON THE PIZ BADII . E awake , but the fun was only beginning . We dressed up in duvets , cagoules and gloves , but long Johns seemed to be out of the question . Then we decided to move further along the flake since Mike was under a big drip . I banged another peg in and it sounded so good that I transferred both étriers to it . We retied the belays , hung out a pan to catch the biggest drip , and settled down under the bivouac sack .\"}\n",
      "{\"text\": \"After a few minutes we both felt very thirsty and peered out to see how much water we 'd collected . Unfortunately we both took off the sack simultaneously and it vanished , slithering wetly down the crag into the night . Suddenly it felt cold . We looked at one another , drank the water and tried to sleep again .\"}\n",
      "{\"text\": \"Although the position was very uncomfortable , I at least was so tired I could sleep . I woke to find myself falling  the ' good ' peg had come out . I never came onto the belays , for after slipping only a couple of feet I was held , mostly by Mike 's hand on the back of my neck but partly , I swear , by will-power . We put a few more pegs in , doubled the belays and tried again . There were no more incidents , but the morning took a very long time to come . I slept a little , but my legs , pressed against the wet rock , were very cold . Mike was less fortunate  his anorak was less waterproof , he was still under a bigger drip , and he did n't sleep at all .\"}\n",
      "{\"text\": \"At first light we began to organise ourselves , but it was a good hour before I started climbing . For one awful moment we were both entirely on one peg , which was n't even fully in , but soon I was close under the roof . Swinging on pegs placed vertically upwards is not my strongest point , so I took a lot of trouble and clipped the ropes into everything . I regretted this when I moved round the very sharp lip and found myself jammed , 15 ft short of a big ledge , in a spectacular position . I had to untie one rope and still needed all my strength to move the other . When Mike came up we saw that one of the ropes was partly severed  it was proving to be an expensive route . He led the last 15 ft to the shoulder and we took off our wet duvets and lay in the sun , delighting in an almost-horizontal world .\"}\n",
      "{\"text\": \"Two big brews made from a snow patch used up our tea and sugar and reluctantly we began to climb again . There was one difficult pitch on the shoulder where a thin slab led into a bank of steep , soggy snow , but otherwise the climbing was easy . Far below we could see a party on the Cassin route , already approaching the central snow patch .\"}\n",
      "{\"text\": \"The descent was rapid although our hands , which had been wet all night , were now very painful . When we reached the hut we met Richard and Chris Wood DIRETTISSIMA OX THE PIZ BADILE who had climbed the North ridge the day before . They told us that we had done a new route  something we 'd suspected , since we 'd seen no trace of Corti after the first couple of pitches of our climb . Fiorelli was engaged on his two-way radio and we gathered from snatches overheard that he was talking about us . He had been up on the Cengalo that morning and had seen us finish . On the best photo he had , he indicated that the Corti route started up our line but branched to the left fairly low down and joined a parallel crack system several hundred feet away . The reason for this was not clear to us  perhaps Corti and Battaglia wrere put off by the loose chimney pitch .\"}\n",
      "{\"text\": \"We paid our bills , and set off for the valley where , it seemed , the whole world was waiting for us . We were very pleased not to have to face the Passo di Bondo again , and grateful to the builders of the excellent Gianetti hut path . When we reached the valley there was n't the battery of microphones and TV cameras we had been led to expect , but the local correspondent ofGiorno did us proud . We had free baths in the hotel at Bagni del Masino , where the water was apparently not only medicinal but radioactive , and dined in style as guests of the management . Before eating we were shown a plaster model of a mountain , recognisable as the Piz Badile only by its labels . We were asked to mark our route with a dotted line like the others . No features could be made out so we put a straight line directly up the centre of the space between the Corti route and the Cassin route . The little group that had gathered was obviously impressed by this , and then someone said the magic word  Direttissima . Wre went in to dinner feeling very pleased with ourselves .\"}\n",
      "{\"text\": \"Summary  Bregaglia . Piz Badile , Northeast face by new route . 8-9 July 1968 . R. J. Isherwood and M. J. Kosterlitz . Standard : ED . Length : c. 2000 ft. Technical description in A.J. 73. 254 .\"}\n",
      "{\"text\": \"Two parties on Yerupaja , 1968\"}\n",
      "{\"text\": \"1 Yerupaja traverse :\"}\n",
      "{\"text\": \"the New Zealand expedition\"}\n",
      "{\"text\": \"David Adcock My tust thoughts ot , m expedition to the Andes were m I < ;57. w hi 1st m l'.ML'l.md , when several members ot the Mountain Club planned to \\\\1s1t the Cordillera Bianca . As a start to preparations I pored through maps and relcrcnces m the Royal ( ieoL'i.iphical Society 's library , collected books and maps , and started to revise the Spanish I had learned in Spam live years earlier . Alas , the team dntted apart and the plans were slicked .\"}\n",
      "{\"text\": \"In |une 1 i/ > o , alter two aeti\\\\ e climhmi ; seasons in New Zealand , w here I now live , it was proposed that the time had come lor the Wellington Section ot the New Zealand Alpinelub to promote its ow 11 o\\\\ else.is expedition . I supported the idea whole-heartedly , producing maps , books and previous notes I had made tor our proposed trip nine years betöre .\"}\n",
      "{\"text\": \"I had read ill Km/1 . mil Schneider 's bookoitlillan li/tinrti , published 111 11 ) 50 , about 1 > erupaia . They wrote : ' The southernmost peak markinu the end of the Cordillera Bianca is the flaciated R.i|utuna . There you fit a view oterupa|a situated to the south , which apart In m hem« . ' the second highest peak ot l' eru is the greatest height vet imscale.l in South America , and an attraction of the 5 Tin Sin y.itiliiiul party und imiUttirs Hack row ( 1 to r ) : David Adcock , Lloyd ( iaHa^'hcr , I'ctcr Harry , Rcihm Hrooks , Judy Brooks . Allan Shcppard , ( iracmc Din l-'ront row ( I In rl : Mariano . Julian , Kn-dc-rico , llidaluo , Kcm-r Hates , Si-rnio greatest importance to mountaineers ' . I had also seen the magnificent photo of Verupaja in David Wall 's hook taken by Vie Walsh from high on Rondo ) . Yerupaja , I felt , was a worthy objective .\"}\n",
      "{\"text\": \"Much had probably taken place since Kinzl 's book had been published , so I set about reading up all the climbing history of the Cordillera Huayhuash , which is a small mountain range in central Peru covering approximately 250 square miles . It lies thirty-five miles south-east ot the better known Cordillera Hlanea , and is 100 miles due north of Lima . C' hicjuian , the nearest town , is only twenty-five miles from the centre of the range , and 170 miles by road from Lima via the coastal town of Paramonga . Verupaja 21,765 ft ( 6634 m ) is the highest mountain m the range , and the second highest in Peru , the highest being Huascaran 22,20^ ft ( 676 S m ) in the Cordillera Hlanea .\"}\n",
      "{\"text\": \"In November 10.66 , before news ot the current season 's attempts had reached us , I presented a report to the Wellington Section committee showing that Yerupaja had been climbed only once , by Harrah and Maxwell in 1950 , and that nine expeditions had since been unsuccessful in their attempts at a second ascent ! Harrah and Maxwell of the Harvard I'niversity team had climbed to the summit on }i July 19,^0 , along the left , or western side , of the South-west YERUPAJA TRAVERSE ridge , skirting beneath the South Summit to the col on the South ridge between the Main and South Summits . Comparing photographs published by Harrah 's expedition and our own eighteen years later , the changes in ice conditions are quite considerable . The Northwest spur which then would probably have been a steep but safe climb all the way to the North Summit , now had an ice-fall at 20,000 ft which threatens the lower part of the route . Below the South Summit , on the other hand , the large ice-fall at 20,000 ft across the southern side of which the Americans must have climbed diagonally to reach the col on the South ridge , has now vanished . I have no doubt that Harrah and Maxwell 's claim to the first ascent is entirely authentic .\"}\n",
      "{\"text\": \"Early in 1967 I learned the results of the 1966 climbing season in the Cordillera Huayhuash , where the main summit of Yerupaja had been climbed no less than three times by expeditions following almost in each other 's footsteps , and a further two unsuccessful attempts .\"}\n",
      "{\"text\": \"Thus I found there had been a total of fifteen attempts since the first ascent in 1950 ( summary on p 253 ) , and that the three successful ascents in 1966 could almost be described as the combined effort of four expeditions on the original route ( Patterson 's magnificent direct ascent to the col excepted ) , as the Americans used fixed ropes left by the Swiss one month before , and left more ropes themselves , presumably used by the Japanese three weeks later .\"}\n",
      "{\"text\": \"I proposed an ascent of the unclimbed Northwest or Northeast spurs to the North Summit , thence along the North ridge to the Main Summit of Yerupaja . In addition to four minor unclimbed summits in the area surrounding Base Camp , our scientific programme covered the collection of Collembola and Mayfly insects , and the collection of Compositae ( daisy ) specimens . Thus the expedition was launched and I was appointed to select and lead the team . I had not mentioned the possibility of a first traverse , though when writing to Leif Patterson about his attempt on the Northwest spur in 1963 , I said that we would have sufficient manpower and equipment to try the traverse .\"}\n",
      "{\"text\": \"On 30 March 1968 , four members of the expedition , including myself , left New Zealand by sea for Panama on the last voyage of the Rangitane . The z\\\\ tons of food and equipment was trans-shipped to the southbound Rossini at Panama , from where I flew to Lima to await its arrival , the other members joining us from Canada . The whole team was assembled in Lima on 2 May , and it took eight days and the lodgement of a £570 bond to secure the release of our gear from customs .\"}\n",
      "{\"text\": \"On 13 May we left Lima by chartered bus for Chiquian , arriving there at 5 l'f ( t \\\\nrth~7ii . s7 spur tif ) i nifïtii.i , Xmlli Suttnnit , < nul wain summit {n ^ tTiip.tja L' hiticr iH i 7,Soo tt ; C';miji II w . is on rinnuKi.1 n > l Ich ot Fro alter a 12 ' , hour journey . As the mules « ere a day late in arriving , we lelt ( . ' hiquian on 15 May stopping overnight at Llaniae , and arrived at our Base Camp site near lake Jahuaeoeha just before dark on the 16th in heavy rain . The total weight of our equipment was now down to 4000 lbs , and this was carried by twenty-nine donkeys and seventeen mules . These animals could carry loads of So ami 120 lbs and were hired for us by our camp guard Hidalgo Arbai/a , who also arranged tor se\\\\en an it ins ( muleteers ) to accompany the animals .\"}\n",
      "{\"text\": \"YI-Kll'AJA TKAVIiKSli I had allowed a ten-day acclimatisation period , during which time members could prepare food and equipment tor carrying up to the higher camps . On the eighth day alter arrivai at Base , Hates and Brooks made a reconnaissance of the Verupaja glacier and found a suitable site for Camp 1 on the undulating ice due west of ' lam Sur at 17,200 ft. This camp was established on the fourteenth day and occupied by a team of two whose job it was to examine the approaches to the Northeast and Northwest spurs ot the North ridge . The Northeast spur was found to terminate on a steep-sided col with a very difficult approach from the snow-basin beneath the North lace . Though climbable the route to the col appeared neither practical nor sate for packing . There was , on the other hand , a good site for Camp 11 on the spacious shoulder ot the Northwest spur at 18,500 ft. On the eighteenth day a snow-cave was started at Camp I , and by the time of its occupation two days later it was approximately 25 cubic yards and easily accommodated the eight-strong team . A total of 132 man-days was spent occupying this cave and it proved most satisfactory and comfortable .\"}\n",
      "{\"text\": \"There was little choice now but to tackle the Northwest spur route , so Camp I1 was established and occupied by Barry and Dingle on the twenty-sixth day . During the next nine days Camp III was sited in a crevasse at 20,300 ft on the spur . This was accomplished first by Barry and Dingle , who made a route up the exposed arête to the face , then up diagonally to the left to regain the line of the spur . Then by Bates and Dingle , who continued the route up to Camp III , assisted on the last day by Brooks and Gallagher..Meanwhile the rest of the team were stocking Camp II , with a notable effort by Judy , who not only made more carries than the rest of us , but was always a willing volunteer when others were tired .\"}\n",
      "{\"text\": \"On 20 June , the thirty-fifth day after our arrival at Base , while Bates and Dingle were between Camps II and III , a sérac caused an avalanche to sweep over 700 ft of the route , removing fixed ropes and pitons . They had a miraculous escape and continued on to Camp III , crossing and recrossing the avalanche track , until they reported to me by radio from above the danger zone . At this stage I decided to abandon the Northwest spur as a route of ascent for the expedition , but as they were now at Camp III , Bates and Dingle elected to attempt the North Summit on the following day , when they reached the virgin 21,500 ft summit at 12.30 . and decided to bivouac just beneath and attempt the traverse of the North ridge to the Main Summit on the following day . After a cold and windy night it clouded by early morning , and as Dingle was showing signs of slight frost-bite they descended to spend a further night at Camp III. Meanwhile Barry and I established a Camp IIla above Rasac Col at 18,800 ft to prepare for the possibility of a traverse by Bates and Dingle , TWO lWKTII'.SVi:i(ri > . \\\\|.\\\\ , 6 X and also as a first move tor the new plan to approach the Mam Summit via the South-west ridge and South Summit . When I learned by radio that Hates and Dingle were descending from Camp III to Camp II , we also returned to Camp II , arriving only a few minutes after them . Now the whole expedition was assembled at Camp II , and within half an hour a second major avalanche swept the Northwest spur . Dingle had suffered superficial trost-bite m both sets of toes , and returned to Base Camp the following day , while Brooks and Gallagher left for Camp Ilia to reconnoitre the route on the South-west ridge .\"}\n",
      "{\"text\": \"The expedition now concentrated on ascending by the South-west ridge and South Summit , and to assist this the rest of us shifted Camp 11 to a more favour-able site 600 ft below , on the glacier due west of the Main Summit . This job took two days to complete , and as we were using ropes to lower loads down the steep snow , it meant a lot ot standing around , and I got superficial frost-bite in both big toes . I then returned to join Dingle at Base Camp on 26 June ( forty-first day ) whilst the others stocked the new Camp Ilia above Rasac Col , and the recce team above made a route to just over 20,000 ft. On the following day Bates and Gallagher reached the 21,37s ft South Summit returning to Camp Ilia ; and two days later Bates and Gallagher , Barry and Sheppard and R. and J. Brooks established Camp IV on a good site at 21,300 ft , after which the two last parties completed the 7^ ft climb to the South Summit , and then returned to Camp Ilia , leaving Bates and Gallagher to attempt the Main Summit on the morrow . From Base Camp Dingle and I maintained good radio contact with the high camps , though we had to climb 1000 ft on the northern slopes of the valley to get these results . The weather had been good , with a fresh easterly breeze and occasional cloud high on the mountain .\"}\n",
      "{\"text\": \"At }pm on 30 June ( forty-fifth day ) , after a magnificent piece of route-finding through and around delicate cornices and in soft snow conditions , Bates and Gallagher reached the 21,765 ft Main Summit after spending nearly three hours on the steep 300 ft broken rock section immediately below the summit . They returned to Camp IV , while Dingle and I went from Base to Camp Ha and I continued on to Camp Ilia for the evening radio contact at 6 , when we excitedly learned from Bates and Gallagher of their successful climb . I returned immediately to Camp Ha . On the following day Barry and Sheppard and R. and J. Brooks climbed to Camp IV , while Bates , Gallagher , Dingle and I occupied Camp Ilia . Whilst a more protracted summit assault would have avoided overcrowding the single mountain tent at Camp IV , it was also apparent that the weather would not hold for more than a few days , so the occupants of Camp IV gallantly sacrificed a chance of getting some sleep on the eve of their summit climb , and faced the prospect of having to go straight down to Camp Ilia when they returned . On 2 July ( forty-seventh day ) , Dingle and I climbed 7 I ti'i nnrth Iront Main Shnuuit IVaks in st-qufiK't1 : North Summit , un-namcd pi-ak ( 5 X^0 nil , \\\\\\\\rupaia C' hico U-xtrrmr nu'ht ) , twin pr.iks l [ irishhaiH'a , Rniuloy Uxtivnu-kit liiK'kyrniiiKl ) , Xinashhanca from Camp II hi to the South Summit and then down to Camp IV , where we were able to street Barry , Sheppard ami R. and J. Brooks on their return from the Main Summit . On the following day Dingle and I set out tor the Main Summit , which we reached at 1 iam , appreciating at every step the magnificent effort made by Bates and ( iallagher three days before . Kven though it had started to cloud we decided to descend the virgin North ridge , choosing the sätest path between the delicate cornices on our lett ( one ot these vanished quite alarmingly when tested trom a safe position ) , and wmdslah on our right . We reached the North Summit at i.^opm , ami having taken the ^00 It fixed rope that Bates and Gallagher left on the difficult section on the south side of the Main Summit , we used this to commence our descent ot the Northwest spur at 2 pin . The descent to Camp III was tedious , as no fixed ropes were placed during the first ascent twelve days before , thereafter all fixed ropes were in place but needed a lot of effort to free them from grooves they had formed in the ice . Dingle , whose descent technique was fast and sure , did all the work on our way down to the old Camp II site , where we arrived S 1 hours later just as it got dark.e had a torch with us , though I knew the route down through the ice-fall to Camp lia , where we were greeted by the Camp IV quartet who had laboured throughout the day striking Camp Ilia and taking down the stores that remained . It was j.^pm , exactly twelve hours after we had set out from Camp I\\\\ . The western side ot the mountain had been in S l 11 < l cast fnn/i Mam Sun/tu/1 I.ookin down tin- K;ist rulucMain Siiimillt ut ) irupaja . Iront ( ' amp II , iulou South Summit . ( init/nu1 I ) inük- stiiiuiinu ' cloud for most ot the day , and elsewhere it was overcast . Meanwhile , Bates and ( iallagher had decided to complete the traverse also , and were at Camp IV hoping the weather would hold .\"}\n",
      "{\"text\": \"On 4 July , Bates and ( iallagher successfully completed the second traverse m nine hours , without the benefit ot a fixed rope on the south side of the Main Summit , w liilst Harry and Brooks set out from Camp lia , climbed to the South Summit , packed Camp IV , and returned attain to Camp lia a fine effort in rapidly deteriorating conditions . I went on down to Base Camp later that day , and on 5 July ( fiftieth day ) , the weather really broke with snow down to Base Camp at 13,300 ft , where the rest of the team arrived during the afternoon . Dingle shot a goose , a duck , and caught six trout , so we enjoyed a really line celebration dinner .\"}\n",
      "{\"text\": \"For the next three weeks we travelled and climbed in the area ( see p 255 below ) , and visited Caruacocha to photograph Yerupaja Irom the north-east . We were also interested to know how the Americans were progressing on the Northeast face , as two of their party had called at our Base Camp on 26 June on their way from I.lamac to Caruacocha . They were making slow progress from then-second camp beneath the face when we saw them , though two of the party reached the summit later .\"}\n",
      "{\"text\": \"We left our Base Camp at Jahuacocha on 29 July ( seventy-fourth day ) , with twelve donkeys , eight mules and tour arrici'(/.\\\\\\\\ stopping overnight at IJamac , where the expedition had been invited to inaugurate five new water fountains and become patrons of the project . We were entertained to a bullfight following Y!Rri'.\\\\|.\\\\ : -nu- : ama/ox ian :\"}\n",
      "{\"text\": \"the ceremony , and in tending one of the less fortunate bullfighters this was the onlv occasion we used our comprehensive medical kit tor injuries . We left for Lima on I August .\"}\n",
      "{\"text\": \"No porters were used on the expedition , only one camp guard was employed and the team members carried all stores to the high camps amounting to approximately 1500 lbs to Camp I , 900 lbs to Camp II ( of which ^00 lbs was moved to become Camp Ha ) , about 160 lbs to Camp III , 250 lbs to Camp Ilia , and 60 lbs to Camp IV. All team members were healthy throughout the expedition , and there were no accidents or injuries . Two of us were affected by superficial frost-bite , but most ot the effects had worn off by the time we reached Lima . We were able to treat a number ot local people sullering from infections during our travels 111 the mountains .\"}\n"
     ]
    }
   ],
   "source": [
    "! cat  BAC_1969_a0_en_paras.jsonl"
   ]
  },
  {
   "cell_type": "markdown",
   "metadata": {},
   "source": [
    "Can you modify the code that the id of the first and last sentence is used as the id of the paragraph? "
   ]
  },
  {
   "cell_type": "markdown",
   "metadata": {},
   "source": [
    "## Read NER file"
   ]
  },
  {
   "cell_type": "code",
   "execution_count": 18,
   "metadata": {},
   "outputs": [
    {
     "name": "stdout",
     "output_type": "stream",
     "text": [
      "<?xml version='1.0' encoding='utf-8'?>\n",
      "<ner>\n",
      "  <geo>\n",
      "    <g id=\"g_10\" level=\"geo\" span=\"a0-s131-w4\" stid=\"g524163\" type=\"mountain\" />\n",
      "    <g id=\"g_11\" level=\"geo\" span=\"a0-s132-w2\" stid=\"g524163\" type=\"mountain\" />\n",
      "    <g id=\"g_13\" level=\"geo\" span=\"a0-s138-w22\" stid=\"g204503\" type=\"mountain\" />\n",
      "    <g id=\"g_15\" level=\"geo\" span=\"a0-s150-w1\" stid=\"g524163\" type=\"mountain\" />\n",
      "    <g id=\"g_16\" level=\"geo\" span=\"a0-s151-w26 a0-s151-w27\" stid=\"g516841\" type=\"mountain\" />\n",
      "    <g id=\"g_18\" level=\"geo\" span=\"a0-s154-w26\" stid=\"g314390\" type=\"mountain\" />\n",
      "    <g id=\"g_20\" level=\"geo\" span=\"a0-s155-w23\" stid=\"g204503\" type=\"mountain\" />\n",
      "    <g id=\"g_21\" level=\"geo\" span=\"a0-s155-w28\" stid=\"g524163\" type=\"mountain\" />\n",
      "    <g id=\"g_22\" level=\"geo\" span=\"a0-s156-w30\" stid=\"g524163\" type=\"mountain\" />\n",
      "    <g id=\"g_28\" level=\"geo\" span=\"a0-s161-w15 a0-s161-w16\" stid=\"g516841\" type=\"mountain\" />\n",
      "    <g id=\"g_29\" level=\"geo\" span=\"a0-s161-w23\" stid=\"g524163\" type=\"mountain\" />\n",
      "    <g id=\"g_31\" level=\"geo\" span=\"a0-s163-w27\" stid=\"g524163\" type=\"mountain\" />\n",
      "    <g id=\"g_32\" level=\"geo\" span=\"a0-s167-w28\" stid=\"g267960\" type=\"mountain\" />\n",
      "    <g id=\"g_43\" level=\"geo\" span=\"a0-s222-w25\" stid=\"g524163\" type=\"mountain\" />\n",
      "    <g id=\"g_889\" level=\"geo\" span=\"a0-s17-w47\" stid=\"s7325451\" type=\"city\" />\n",
      "    <g id=\"g_890\" level=\"geo\" span=\"a0-s19-w22\" stid=\"s7325451\" type=\"city\" />\n",
      "    <g id=\"g_891\" level=\"geo\" span=\"a0-s107-w1\" stid=\"4628\" type=\"city\" />\n",
      "    <g id=\"g_892\" level=\"geo\" span=\"a0-s116-w13\" stid=\"s7325451\" type=\"city\" />\n",
      "    <g id=\"g_1007\" level=\"geo\" span=\"a0-s3-w20 a0-s3-w21\" stid=\"7325305\" type=\"valley\" />\n",
      "    </geo>\n",
      "  <persons>\n",
      "    <person id=\"1\">\n",
      "      <address />\n",
      "      <titles />\n",
      "      <firstname>Jan</firstname>\n",
      "      <lastname>Van</lastname>\n",
      "      <gender />\n"
     ]
    }
   ],
   "source": [
    "! head -n 30 BAC_1969_a0_en-ner.xml"
   ]
  },
  {
   "cell_type": "code",
   "execution_count": 28,
   "metadata": {},
   "outputs": [
    {
     "name": "stdout",
     "output_type": "stream",
     "text": [
      "Mountain occurrences extracted and saved to BAC_1969_a0_en-ner_mountain_occurrences.jsonl\n"
     ]
    }
   ],
   "source": [
    "import xml.etree.ElementTree as ET\n",
    "import json\n",
    "\n",
    "# Load and parse the NER XML file\n",
    "ner_file = 'BAC_1969_a0_en-ner.xml'  # Path to your NER XML file\n",
    "jsonl_file = 'BAC_1969_a0_en-ner_mountain_occurrences.jsonl'  # Path to output JSONL file\n",
    "\n",
    "\n",
    "# Parse the XML file\n",
    "def extract_mountain_occurrences_to_jsonl(ner_file, jsonl_file):\n",
    "    tree = ET.parse(ner_file)\n",
    "    root = tree.getroot()\n",
    "\n",
    "    # Dictionary to store mountain occurrences\n",
    "    mountain_to_sentence_ids = {}\n",
    "\n",
    "    # Iterate over all entities\n",
    "    for entity in root.iter(\"g\"):\n",
    "        if entity.get('type') != \"mountain\":\n",
    "            continue\n",
    "        mountain_id = entity.get('stid')\n",
    "        span = entity.get('span')\n",
    "\n",
    "        if mountain_id and span:\n",
    "            sentence_id = \"-\".join(span.split(\"-\")[:2])  # Extract sentence ID from span\n",
    "            if mountain_id not in mountain_to_sentence_ids:\n",
    "                mountain_to_sentence_ids[mountain_id] = []\n",
    "            mountain_to_sentence_ids[mountain_id].append(sentence_id)\n",
    "\n",
    "    # Write results to JSONL\n",
    "    with open(jsonl_file, 'w', encoding='utf-8') as jsonl:\n",
    "        for mountain_id, sentence_ids in mountain_to_sentence_ids.items():\n",
    "            jsonl.write(json.dumps({\"mountain_id\": mountain_id, \"sentence_ids\": sentence_ids}) + \"\\n\")\n",
    "\n",
    "    print(f\"Mountain occurrences extracted and saved to {jsonl_file}\")\n",
    "\n",
    "# Run the function\n",
    "extract_mountain_occurrences_to_jsonl(ner_file, jsonl_file)\n",
    "\n"
   ]
  },
  {
   "cell_type": "code",
   "execution_count": 29,
   "metadata": {},
   "outputs": [
    {
     "name": "stdout",
     "output_type": "stream",
     "text": [
      "{\"mountain_id\": \"g524163\", \"sentence_ids\": [\"a0-s131\", \"a0-s132\", \"a0-s150\", \"a0-s155\", \"a0-s156\", \"a0-s161\", \"a0-s163\", \"a0-s222\"]}\n",
      "{\"mountain_id\": \"g204503\", \"sentence_ids\": [\"a0-s138\", \"a0-s155\"]}\n",
      "{\"mountain_id\": \"g516841\", \"sentence_ids\": [\"a0-s151\", \"a0-s161\"]}\n",
      "{\"mountain_id\": \"g314390\", \"sentence_ids\": [\"a0-s154\"]}\n",
      "{\"mountain_id\": \"g267960\", \"sentence_ids\": [\"a0-s167\"]}\n"
     ]
    }
   ],
   "source": [
    "!cat BAC_1969_a0_en-ner_mountain_occurrences.jsonl"
   ]
  },
  {
   "cell_type": "code",
   "execution_count": null,
   "metadata": {},
   "outputs": [],
   "source": []
  }
 ],
 "metadata": {
  "kernelspec": {
   "display_name": "Python 3 (ipykernel)",
   "language": "python",
   "name": "python3"
  },
  "language_info": {
   "codemirror_mode": {
    "name": "ipython",
    "version": 3
   },
   "file_extension": ".py",
   "mimetype": "text/x-python",
   "name": "python",
   "nbconvert_exporter": "python",
   "pygments_lexer": "ipython3",
   "version": "3.12.7"
  }
 },
 "nbformat": 4,
 "nbformat_minor": 4
}
