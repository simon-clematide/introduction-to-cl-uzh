{
 "cells": [
  {
   "cell_type": "markdown",
   "metadata": {
    "editable": true,
    "slideshow": {
     "slide_type": "slide"
    },
    "tags": []
   },
   "source": [
    "# JSON and JSONL Processing Basics\n",
    "Show a JSON serialization"
   ]
  },
  {
   "cell_type": "code",
   "execution_count": 1,
   "metadata": {
    "editable": true,
    "scrolled": true,
    "slideshow": {
     "slide_type": ""
    },
    "tags": []
   },
   "outputs": [
    {
     "name": "stdout",
     "output_type": "stream",
     "text": [
      "{\n",
      "    \"name\": \"Alice\",          \n",
      "    \"age\": 25,                \n",
      "    \"is_student\": true,      \n",
      "    \"subjects\": [\"Math\", \"CS\"],\n",
      "    \"awards\": null\n",
      "}\n"
     ]
    }
   ],
   "source": [
    "!cat example.json"
   ]
  },
  {
   "cell_type": "markdown",
   "metadata": {
    "editable": true,
    "slideshow": {
     "slide_type": "slide"
    },
    "tags": []
   },
   "source": [
    "## Import the module `json` "
   ]
  },
  {
   "cell_type": "code",
   "execution_count": 4,
   "metadata": {
    "editable": true,
    "slideshow": {
     "slide_type": ""
    },
    "tags": []
   },
   "outputs": [],
   "source": [
    "import json"
   ]
  },
  {
   "cell_type": "markdown",
   "metadata": {
    "editable": true,
    "slideshow": {
     "slide_type": "subslide"
    },
    "tags": []
   },
   "source": [
    "## Load a JSON object from a string"
   ]
  },
  {
   "cell_type": "code",
   "execution_count": 5,
   "metadata": {},
   "outputs": [],
   "source": [
    "data = '{\"name\": \"Alice\", \"awards\":null, \"is_student\": true, \"subjects\": [\"Math\", \"CS\"]}'\n",
    "parsed_data = json.loads(data)"
   ]
  },
  {
   "cell_type": "code",
   "execution_count": 6,
   "metadata": {},
   "outputs": [
    {
     "name": "stdout",
     "output_type": "stream",
     "text": [
      "Alice\n"
     ]
    }
   ],
   "source": [
    "print(parsed_data[\"name\"])  "
   ]
  },
  {
   "cell_type": "code",
   "execution_count": 7,
   "metadata": {},
   "outputs": [
    {
     "name": "stdout",
     "output_type": "stream",
     "text": [
      "True\n"
     ]
    }
   ],
   "source": [
    "print(parsed_data[\"is_student\"]) "
   ]
  },
  {
   "cell_type": "code",
   "execution_count": 8,
   "metadata": {},
   "outputs": [
    {
     "name": "stdout",
     "output_type": "stream",
     "text": [
      "None\n"
     ]
    }
   ],
   "source": [
    "print(parsed_data[\"awards\"]) "
   ]
  },
  {
   "cell_type": "code",
   "execution_count": 9,
   "metadata": {},
   "outputs": [
    {
     "name": "stdout",
     "output_type": "stream",
     "text": [
      "{'name': 'Alice', 'awards': None, 'is_student': True, 'subjects': ['Math', 'CS']}\n"
     ]
    }
   ],
   "source": [
    "print(parsed_data) "
   ]
  },
  {
   "cell_type": "markdown",
   "metadata": {
    "editable": true,
    "slideshow": {
     "slide_type": "subslide"
    },
    "tags": []
   },
   "source": [
    "## Write JSON to a file"
   ]
  },
  {
   "cell_type": "code",
   "execution_count": 11,
   "metadata": {
    "editable": true,
    "slideshow": {
     "slide_type": ""
    },
    "tags": []
   },
   "outputs": [],
   "source": [
    "data = {\n",
    "    \"name\": \"Jürgen\",\n",
    "    \"age\": 25,\n",
    "    \"is_student\": True,\n",
    "    \"subjects\": [\"Math\", \"CS\"],\n",
    "    \"awards\":None\n",
    "}"
   ]
  },
  {
   "cell_type": "code",
   "execution_count": 12,
   "metadata": {
    "editable": true,
    "slideshow": {
     "slide_type": ""
    },
    "tags": []
   },
   "outputs": [
    {
     "name": "stdout",
     "output_type": "stream",
     "text": [
      "JSON saved to data.json\n"
     ]
    }
   ],
   "source": [
    "with open(\"data.json\", \"w\", encoding=\"utf-8\") as f:\n",
    "    json.dump(data, f, indent=4, ensure_ascii=False)\n",
    "\n",
    "print(\"JSON saved to data.json\")"
   ]
  },
  {
   "cell_type": "code",
   "execution_count": 13,
   "metadata": {
    "editable": true,
    "slideshow": {
     "slide_type": ""
    },
    "tags": []
   },
   "outputs": [
    {
     "name": "stdout",
     "output_type": "stream",
     "text": [
      "{\n",
      "    \"name\": \"Jürgen\",\n",
      "    \"age\": 25,\n",
      "    \"is_student\": true,\n",
      "    \"subjects\": [\n",
      "        \"Math\",\n",
      "        \"CS\"\n",
      "    ],\n",
      "    \"awards\": null\n",
      "}"
     ]
    }
   ],
   "source": [
    "! cat data.json"
   ]
  },
  {
   "cell_type": "code",
   "execution_count": 15,
   "metadata": {
    "editable": true,
    "slideshow": {
     "slide_type": ""
    },
    "tags": []
   },
   "outputs": [
    {
     "name": "stdout",
     "output_type": "stream",
     "text": [
      "JSON saved to data.json\n"
     ]
    }
   ],
   "source": [
    "with open(\"data.json\", \"w\", encoding=\"utf-8\") as f:\n",
    "    json.dump(data, f, ensure_ascii=False) # no whitespace multiline formatting\n",
    "\n",
    "print(\"JSON saved to data.json\")"
   ]
  },
  {
   "cell_type": "code",
   "execution_count": 16,
   "metadata": {
    "editable": true,
    "slideshow": {
     "slide_type": ""
    },
    "tags": []
   },
   "outputs": [
    {
     "name": "stdout",
     "output_type": "stream",
     "text": [
      "{\"name\": \"Jürgen\", \"age\": 25, \"is_student\": true, \"subjects\": [\"Math\", \"CS\"], \"awards\": null}"
     ]
    }
   ],
   "source": [
    "! cat data.json"
   ]
  },
  {
   "cell_type": "markdown",
   "metadata": {
    "editable": true,
    "slideshow": {
     "slide_type": "slide"
    },
    "tags": []
   },
   "source": [
    "## Read JSONL file"
   ]
  },
  {
   "cell_type": "code",
   "execution_count": 17,
   "metadata": {
    "editable": true,
    "slideshow": {
     "slide_type": ""
    },
    "tags": []
   },
   "outputs": [
    {
     "name": "stdout",
     "output_type": "stream",
     "text": [
      "{\"name\": \"Alice\", \"age\": 25, \"is_student\": false, \"subjects\": [\"Math\", \"CS\"]}\n",
      "{\"name\": \"Bob\", \"age\": 30, \"is_student\": true, \"subjects\": [\"Physics\"]}\n",
      "{\"name\": \"Charlie\", \"age\": 35, \"is_student\": false, \"subjects\": [],\"awards\":\"Turing\"}\n"
     ]
    }
   ],
   "source": [
    "! cat example.jsonl"
   ]
  },
  {
   "cell_type": "markdown",
   "metadata": {
    "editable": true,
    "slideshow": {
     "slide_type": ""
    },
    "tags": []
   },
   "source": [
    "Read line by line and parse line as json!"
   ]
  },
  {
   "cell_type": "code",
   "execution_count": 19,
   "metadata": {
    "editable": true,
    "slideshow": {
     "slide_type": "fragment"
    },
    "tags": []
   },
   "outputs": [
    {
     "name": "stdout",
     "output_type": "stream",
     "text": [
      "Alice False\n",
      "Bob True\n",
      "Charlie False\n"
     ]
    }
   ],
   "source": [
    "# Reading JSONL\n",
    "with open(\"example.jsonl\", \"r\", encoding=\"utf-8\") as f:\n",
    "    for line in f:\n",
    "        record = json.loads(line)\n",
    "        print(record[\"name\"], record[\"is_student\"])\n"
   ]
  },
  {
   "cell_type": "markdown",
   "metadata": {
    "editable": true,
    "slideshow": {
     "slide_type": "slide"
    },
    "tags": []
   },
   "source": [
    "## Writing JSONL file\n"
   ]
  },
  {
   "cell_type": "code",
   "execution_count": 24,
   "metadata": {},
   "outputs": [],
   "source": [
    "data = [\n",
    "    {\"name\": \"Alice\", \"age\": 25, \"is_student\": False, \"subjects\": [\"Math\", \"CS\"]},\n",
    "    {\"name\": \"Bob\", \"age\": 30, \"is_student\": True, \"subjects\": [\"Physics\"]},\n",
    "    {\"name\": \"Charlie\", \"age\": 35, \"is_student\": False, \"subjects\": [\"Chemistry\", \"Biology\"]}\n",
    "]\n",
    "\n",
    "with open(\"data.jsonl\", \"w\",encoding=\"utf-8\") as f:\n",
    "    for record in data:\n",
    "        f.write(json.dumps(record) + \"\\n\")\n"
   ]
  },
  {
   "cell_type": "code",
   "execution_count": 25,
   "metadata": {},
   "outputs": [
    {
     "name": "stdout",
     "output_type": "stream",
     "text": [
      "{\"name\": \"Alice\", \"age\": 25, \"is_student\": false, \"subjects\": [\"Math\", \"CS\"]}\n",
      "{\"name\": \"Bob\", \"age\": 30, \"is_student\": true, \"subjects\": [\"Physics\"]}\n",
      "{\"name\": \"Charlie\", \"age\": 35, \"is_student\": false, \"subjects\": [\"Chemistry\", \"Biology\"]}\n"
     ]
    }
   ],
   "source": [
    "! cat data.jsonl"
   ]
  },
  {
   "cell_type": "markdown",
   "metadata": {},
   "source": [
    "# Your turn: Experiment with turning XML into JSONL"
   ]
  }
 ],
 "metadata": {
  "kernelspec": {
   "display_name": "Python 3 (ipykernel)",
   "language": "python",
   "name": "python3"
  },
  "language_info": {
   "codemirror_mode": {
    "name": "ipython",
    "version": 3
   },
   "file_extension": ".py",
   "mimetype": "text/x-python",
   "name": "python",
   "nbconvert_exporter": "python",
   "pygments_lexer": "ipython3",
   "version": "3.12.7"
  }
 },
 "nbformat": 4,
 "nbformat_minor": 4
}
