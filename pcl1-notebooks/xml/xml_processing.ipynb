{
 "cells": [
  {
   "cell_type": "markdown",
   "metadata": {
    "editable": true,
    "slideshow": {
     "slide_type": "slide"
    },
    "tags": []
   },
   "source": [
    "# XML Processing Basics\n",
    "Reading, accessing, traversing and transforming XML documents"
   ]
  },
  {
   "cell_type": "code",
   "execution_count": 2,
   "metadata": {
    "editable": true,
    "scrolled": true,
    "slideshow": {
     "slide_type": ""
    },
    "tags": []
   },
   "outputs": [
    {
     "name": "stdout",
     "output_type": "stream",
     "text": [
      "<!-- XML file example for Python ElementTree (Original example by Martin Volk)-->\n",
      "<div> <!-- The root element: root.tag contains the div -->\n",
      "   <!-- Sequence of subelements s are in a Python -->\n",
      "   <s id=\"a2-s117\" lang=\"en\">\n",
      "   \t<!-- all subelements w are in a list -->\n",
      "        <w id=\"a2-s117-w1\" pos=\"VBZ\" lemma=\"be\">Is</w>\n",
      "        <!-- the attributes will be in a Python dictionary -->\n",
      "        <!-- {'id':'a2-s117-w1', 'pos':'VBZ', 'lemma':'be'} -->\n",
      "        <w id=\"a2-s117-w2\" pos=\"DT\" lemma=\"the\">the</w>\n",
      "        <!-- the text data in element w can be access via element.text -->\n",
      "        <w id=\"a2-s117-w3\" pos=\"NN\" lemma=\"west\">West</w>\n",
      "        <w id=\"a2-s117-w4\" pos=\"RB\" lemma=\"still\">still</w>\n",
      "        <w id=\"a2-s117-w5\" pos=\"DT\" lemma=\"a\">a</w>\n",
      "        <w id=\"a2-s117-w6\" pos=\"JJ\" lemma=\"dominating\">dominating</w>\n",
      "        <w id=\"a2-s117-w7\" pos=\"NN\" lemma=\"power\">power</w>\n",
      "        <w id=\"a2-s117-w8\" pos=\"SENT\" lemma=\"?\">?</w>\n",
      "   </s>\n",
      "   <s id=\"a2-s118\" lang=\"en\">\n",
      "        <w id=\"a2-s118-w1\" pos=\"VBZ\" lemma=\"be\">Is</w>\n",
      "        <w id=\"a2-s118-w2\" pos=\"DT\" lemma=\"the\">the</w>\n",
      "        <w id=\"a2-s118-w3\" pos=\"NN\" lemma=\"east\">East</w>\n",
      "\t</s>\n",
      "</div>\n"
     ]
    }
   ],
   "source": [
    "!cat example.xml"
   ]
  },
  {
   "cell_type": "markdown",
   "metadata": {
    "editable": true,
    "slideshow": {
     "slide_type": "slide"
    },
    "tags": []
   },
   "source": [
    "## Import the module `ElementTree` from the package `xml.etree`under the name `ET`"
   ]
  },
  {
   "cell_type": "code",
   "execution_count": null,
   "metadata": {
    "editable": true,
    "slideshow": {
     "slide_type": ""
    },
    "tags": []
   },
   "outputs": [],
   "source": [
    "import xml.etree.ElementTree as ET"
   ]
  },
  {
   "cell_type": "markdown",
   "metadata": {
    "editable": true,
    "slideshow": {
     "slide_type": "subslide"
    },
    "tags": []
   },
   "source": [
    "## Parse the example XML file into a hierarchical xml element tree object"
   ]
  },
  {
   "cell_type": "code",
   "execution_count": null,
   "metadata": {},
   "outputs": [],
   "source": [
    "tree = ET.parse('example.xml')"
   ]
  },
  {
   "cell_type": "code",
   "execution_count": null,
   "metadata": {},
   "outputs": [],
   "source": [
    "type(tree)"
   ]
  },
  {
   "cell_type": "markdown",
   "metadata": {
    "editable": true,
    "slideshow": {
     "slide_type": "subslide"
    },
    "tags": []
   },
   "source": [
    "## Get the root element"
   ]
  },
  {
   "cell_type": "code",
   "execution_count": null,
   "metadata": {
    "editable": true,
    "slideshow": {
     "slide_type": ""
    },
    "tags": []
   },
   "outputs": [],
   "source": [
    "root = tree.getroot()"
   ]
  },
  {
   "cell_type": "code",
   "execution_count": null,
   "metadata": {
    "editable": true,
    "slideshow": {
     "slide_type": ""
    },
    "tags": []
   },
   "outputs": [],
   "source": [
    "type(root)"
   ]
  },
  {
   "cell_type": "markdown",
   "metadata": {
    "editable": true,
    "slideshow": {
     "slide_type": ""
    },
    "tags": []
   },
   "source": [
    "Get the tag of the root element"
   ]
  },
  {
   "cell_type": "code",
   "execution_count": null,
   "metadata": {
    "editable": true,
    "slideshow": {
     "slide_type": ""
    },
    "tags": []
   },
   "outputs": [],
   "source": [
    "root.tag"
   ]
  },
  {
   "cell_type": "markdown",
   "metadata": {
    "editable": true,
    "slideshow": {
     "slide_type": "slide"
    },
    "tags": []
   },
   "source": [
    "## Loop over all immediate subelements of the root"
   ]
  },
  {
   "cell_type": "code",
   "execution_count": null,
   "metadata": {
    "editable": true,
    "slideshow": {
     "slide_type": ""
    },
    "tags": []
   },
   "outputs": [],
   "source": [
    "for element in root:\n",
    "    print(element.tag)"
   ]
  },
  {
   "cell_type": "markdown",
   "metadata": {
    "editable": true,
    "slideshow": {
     "slide_type": ""
    },
    "tags": []
   },
   "source": [
    "The subelements of an element are a list supporting numerical indexing access and slicing."
   ]
  },
  {
   "cell_type": "code",
   "execution_count": null,
   "metadata": {
    "editable": true,
    "slideshow": {
     "slide_type": "fragment"
    },
    "tags": []
   },
   "outputs": [],
   "source": [
    "sent1 = root[0]"
   ]
  },
  {
   "cell_type": "code",
   "execution_count": null,
   "metadata": {},
   "outputs": [],
   "source": [
    "sent1[0:3]"
   ]
  },
  {
   "cell_type": "markdown",
   "metadata": {
    "editable": true,
    "slideshow": {
     "slide_type": "slide"
    },
    "tags": []
   },
   "source": [
    "## Loop over all nested subelements (traverse a tree)\n",
    "A recursive function to recursively traverse and print all tags in an XML document according to their nestedness.\n",
    "A recursive function calls itself when executed."
   ]
  },
  {
   "cell_type": "code",
   "execution_count": null,
   "metadata": {},
   "outputs": [],
   "source": [
    "def print_indented_tags(element, indent=\"\"):\n",
    "    print(indent + element.tag)\n",
    "    for child in element:\n",
    "        print_indented_tags(child, indent + \"    \")\n",
    "print_indented_tags(root)"
   ]
  },
  {
   "cell_type": "markdown",
   "metadata": {
    "editable": true,
    "slideshow": {
     "slide_type": "slide"
    },
    "tags": []
   },
   "source": [
    "## Loop over specific nested elments in a tree"
   ]
  },
  {
   "cell_type": "code",
   "execution_count": null,
   "metadata": {},
   "outputs": [],
   "source": [
    "for element in root.iter('w'):\n",
    "    print(element.text)"
   ]
  },
  {
   "cell_type": "markdown",
   "metadata": {
    "editable": true,
    "slideshow": {
     "slide_type": ""
    },
    "tags": []
   },
   "source": [
    "## Count all immediate subelements with a given tag"
   ]
  },
  {
   "cell_type": "code",
   "execution_count": null,
   "metadata": {},
   "outputs": [],
   "source": [
    "len(sent1.findall('w'))"
   ]
  },
  {
   "cell_type": "markdown",
   "metadata": {
    "editable": true,
    "slideshow": {
     "slide_type": "slide"
    },
    "tags": []
   },
   "source": [
    "## Get a specific attribute of an element"
   ]
  },
  {
   "cell_type": "code",
   "execution_count": null,
   "metadata": {},
   "outputs": [],
   "source": [
    "sent1 = root[0]\n",
    "sent1.get('id')"
   ]
  },
  {
   "cell_type": "markdown",
   "metadata": {},
   "source": [
    "## Get all attributes of an element\n",
    "The Python attribute `attrib` is a dictionary containing all XML attributes, that is key/value pairs."
   ]
  },
  {
   "cell_type": "code",
   "execution_count": null,
   "metadata": {},
   "outputs": [],
   "source": [
    "sent1.attrib"
   ]
  },
  {
   "cell_type": "markdown",
   "metadata": {},
   "source": [
    "Get a specific value in the tree by indexing"
   ]
  },
  {
   "cell_type": "code",
   "execution_count": null,
   "metadata": {},
   "outputs": [],
   "source": [
    "sent1[0].attrib"
   ]
  },
  {
   "cell_type": "markdown",
   "metadata": {
    "editable": true,
    "slideshow": {
     "slide_type": "slide"
    },
    "tags": []
   },
   "source": [
    "## Get the text data of an element\n",
    "The Python attribute `.text` contains the (first) text data of an element as a string."
   ]
  },
  {
   "cell_type": "code",
   "execution_count": null,
   "metadata": {
    "editable": true,
    "slideshow": {
     "slide_type": ""
    },
    "tags": []
   },
   "outputs": [],
   "source": [
    "sent1[0].text"
   ]
  },
  {
   "cell_type": "markdown",
   "metadata": {
    "editable": true,
    "slideshow": {
     "slide_type": ""
    },
    "tags": []
   },
   "source": [
    "The layout texts in mixed elements containing text and other elements is not handled with builtin `xml` package. XML comments are also just removed in the DOM. [`lxml`](https://lxml.de/) is a more complete XML processor library for Python."
   ]
  },
  {
   "cell_type": "code",
   "execution_count": null,
   "metadata": {
    "editable": true,
    "slideshow": {
     "slide_type": ""
    },
    "tags": []
   },
   "outputs": [],
   "source": [
    "root.text"
   ]
  },
  {
   "cell_type": "code",
   "execution_count": null,
   "metadata": {
    "editable": true,
    "slideshow": {
     "slide_type": "slide"
    },
    "tags": []
   },
   "outputs": [],
   "source": [
    "for text in root.itertext():\n",
    "    print(\"'\",text,\"'\",sep=\"\")"
   ]
  },
  {
   "cell_type": "markdown",
   "metadata": {
    "editable": true,
    "slideshow": {
     "slide_type": ""
    },
    "tags": []
   },
   "source": [
    "## Get the list of tokens with list comprehension"
   ]
  },
  {
   "cell_type": "code",
   "execution_count": null,
   "metadata": {},
   "outputs": [],
   "source": [
    "[w.text for w in sent1]"
   ]
  },
  {
   "cell_type": "markdown",
   "metadata": {
    "editable": true,
    "slideshow": {
     "slide_type": "slide"
    },
    "tags": []
   },
   "source": [
    "## Your task\n",
    "Recreate the grep verticalized format from grepping exercise for the example text above\n",
    "```\n",
    "<s lang=\"en\" n=\"a2-s117\">\n",
    "Is\tVBZ\tbe\n",
    "the\tDT\tthe\n",
    "West\tNN\twest\n",
    "still\tRB\tstill\n",
    "a\tDT\ta\n",
    "dominating\tJJ\tdominating\n",
    "power\tNN\tpower\n",
    "?\tSENT\t?\n",
    "<s lang=\"en\" n=\"a2-s118\">\n",
    "Is\tVBZ\tbe\n",
    "the\tDT\tthe\n",
    "East\tNN\teast\n",
    "\n",
    "```"
   ]
  },
  {
   "cell_type": "code",
   "execution_count": null,
   "metadata": {},
   "outputs": [],
   "source": [
    "for r in root.iter('div'):\n",
    "    print(r)"
   ]
  },
  {
   "cell_type": "code",
   "execution_count": null,
   "metadata": {},
   "outputs": [],
   "source": []
  }
 ],
 "metadata": {
  "kernelspec": {
   "display_name": "Python 3 (ipykernel)",
   "language": "python",
   "name": "python3"
  },
  "language_info": {
   "codemirror_mode": {
    "name": "ipython",
    "version": 3
   },
   "file_extension": ".py",
   "mimetype": "text/x-python",
   "name": "python",
   "nbconvert_exporter": "python",
   "pygments_lexer": "ipython3",
   "version": "3.12.6"
  }
 },
 "nbformat": 4,
 "nbformat_minor": 4
}
