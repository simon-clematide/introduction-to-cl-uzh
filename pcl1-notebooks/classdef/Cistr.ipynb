{
 "cells": [
  {
   "cell_type": "markdown",
   "metadata": {},
   "source": [
    "# Defining Your Own Classes\n",
    "Case-insensitive Strings"
   ]
  },
  {
   "cell_type": "code",
   "execution_count": null,
   "metadata": {},
   "outputs": [],
   "source": [
    "class Istr(object):                # subclass of object\n",
    "    \"\"\"Case-insensitive string class\"\"\"\n",
    "\n",
    "    def __init__(self, s):         # constructor function\n",
    "        self._is = s.lower()       # self is instance parameter\n",
    "                                   # self._is is an object attribute\n",
    "\n",
    "    def endswith(self, s):          # method endswith(s)\n",
    "        return self._is.endswith(s.lower())\n"
   ]
  }
 ],
 "metadata": {
  "kernelspec": {
   "display_name": "Python 3 (ipykernel)",
   "language": "python",
   "name": "python3"
  },
  "language_info": {
   "codemirror_mode": {
    "name": "ipython",
    "version": 3
   },
   "file_extension": ".py",
   "mimetype": "text/x-python",
   "name": "python",
   "nbconvert_exporter": "python",
   "pygments_lexer": "ipython3",
   "version": "3.10.2"
  }
 },
 "nbformat": 4,
 "nbformat_minor": 1
}
