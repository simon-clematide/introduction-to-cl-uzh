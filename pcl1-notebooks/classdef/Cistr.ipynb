{
 "cells": [
  {
   "cell_type": "markdown",
   "metadata": {},
   "source": [
    "# Defining Your Own Classes\n",
    "Le§\n",
    "Case-insensitive Strings"
   ]
  },
  {
   "cell_type": "code",
   "execution_count": null,
   "metadata": {},
   "outputs": [],
   "source": [
    "class Istr(object):                # subclass of object\n",
    "    \"\"\"Case-insensitive string class\"\"\"\n",
    "\n",
    "    def __init__(self, s):         # constructor function\n",
    "        self._is = s.lower()       # self is instance parameter\n",
    "                                   # self._is is an object attribute\n",
    "\n",
    "    def endswith(self, s):          # method endswith(s)\n",
    "        return self._is.endswith(s.lower())\n"
   ]
  }
 ],
 "metadata": {},
 "nbformat": 4,
 "nbformat_minor": 1
}
