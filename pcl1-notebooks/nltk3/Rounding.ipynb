{
 "cells": [
  {
   "cell_type": "markdown",
   "metadata": {},
   "source": [
    "# Rounding numbers"
   ]
  },
  {
   "cell_type": "code",
   "execution_count": 1,
   "metadata": {},
   "outputs": [
    {
     "name": "stdout",
     "output_type": "stream",
     "text": [
      "A round of rounding\n",
      "round(0.05,1) ==> 0.1\n",
      "round(0.15,1) ==> 0.1\n",
      "round(0.25,1) ==> 0.2\n",
      "round(0.35,1) ==> 0.3\n",
      "round(0.45,1) ==> 0.5\n",
      "round(0.55,1) ==> 0.6\n",
      "round(0.65,1) ==> 0.7\n",
      "round(0.75,1) ==> 0.8\n",
      "round(0.85,1) ==> 0.8\n",
      "round(0.95,1) ==> 0.9\n",
      "\n",
      "Rounding by formating\n",
      "{:.1f}.format(0.05) ==> 0.1\n",
      "{:.1f}.format(0.15) ==> 0.1\n",
      "{:.1f}.format(0.25) ==> 0.2\n",
      "{:.1f}.format(0.35) ==> 0.3\n",
      "{:.1f}.format(0.45) ==> 0.5\n",
      "{:.1f}.format(0.55) ==> 0.6\n",
      "{:.1f}.format(0.65) ==> 0.7\n",
      "{:.1f}.format(0.75) ==> 0.8\n",
      "{:.1f}.format(0.85) ==> 0.8\n",
      "{:.1f}.format(0.95) ==> 0.9\n"
     ]
    }
   ],
   "source": [
    "print(\"A round of rounding\")\n",
    "\n",
    "print(\"round(0.05,1) ==>\", round(0.05,1))\n",
    "print(\"round(0.15,1) ==>\", round(0.15,1))\n",
    "print(\"round(0.25,1) ==>\", round(0.25,1))\n",
    "print(\"round(0.35,1) ==>\", round(0.35,1))\n",
    "print(\"round(0.45,1) ==>\", round(0.45,1))\n",
    "print(\"round(0.55,1) ==>\", round(0.55,1))\n",
    "print(\"round(0.65,1) ==>\", round(0.65,1))\n",
    "print(\"round(0.75,1) ==>\", round(0.75,1))\n",
    "print(\"round(0.85,1) ==>\", round(0.85,1))\n",
    "print(\"round(0.95,1) ==>\", round(0.95,1))\n",
    "\n",
    "print()\n",
    "print(\"Rounding by formating\")\n",
    "\n",
    "print(\"{:.1f}.format(0.05) ==>\",'{:.1f}'.format(0.05))\n",
    "print(\"{:.1f}.format(0.15) ==>\",'{:.1f}'.format(0.15))\n",
    "print(\"{:.1f}.format(0.25) ==>\",'{:.1f}'.format(0.25))\n",
    "print(\"{:.1f}.format(0.35) ==>\",'{:.1f}'.format(0.35))\n",
    "print(\"{:.1f}.format(0.45) ==>\",'{:.1f}'.format(0.45))\n",
    "print(\"{:.1f}.format(0.55) ==>\",'{:.1f}'.format(0.55))\n",
    "print(\"{:.1f}.format(0.65) ==>\",'{:.1f}'.format(0.65))\n",
    "print(\"{:.1f}.format(0.75) ==>\",'{:.1f}'.format(0.75))\n",
    "print(\"{:.1f}.format(0.85) ==>\",'{:.1f}'.format(0.85))\n",
    "print(\"{:.1f}.format(0.95) ==>\",'{:.1f}'.format(0.95))"
   ]
  },
  {
   "cell_type": "code",
   "execution_count": null,
   "metadata": {},
   "outputs": [],
   "source": []
  }
 ],
 "metadata": {
  "kernelspec": {
   "display_name": "Python 3",
   "language": "python",
   "name": "python3"
  },
  "language_info": {
   "codemirror_mode": {
    "name": "ipython",
    "version": 3
   },
   "file_extension": ".py",
   "mimetype": "text/x-python",
   "name": "python",
   "nbconvert_exporter": "python",
   "pygments_lexer": "ipython3",
   "version": "3.7.3"
  }
 },
 "nbformat": 4,
 "nbformat_minor": 2
}
