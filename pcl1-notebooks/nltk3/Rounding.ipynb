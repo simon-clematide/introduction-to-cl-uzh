{
 "cells": [
  {
   "cell_type": "markdown",
   "metadata": {},
   "source": [
    "# Rounding numbers\n",
    "Learning goals:\n",
    " - Understand that rounding of floating point numbers in Python tries to be fair\n",
    " - Understanding that formatting floats to a fixed number of decimal places means rounding them properly"
   ]
  },
  {
   "cell_type": "code",
   "execution_count": null,
   "metadata": {},
   "outputs": [],
   "source": [
    "print(\"A round of rounding\")\n",
    "\n",
    "print(\"round(0.05,1) ==>\", round(0.05,1))\n",
    "print(\"round(0.15,1) ==>\", round(0.15,1))\n",
    "print(\"round(0.25,1) ==>\", round(0.25,1))\n",
    "print(\"round(0.35,1) ==>\", round(0.35,1))\n",
    "print(\"round(0.45,1) ==>\", round(0.45,1))\n",
    "print(\"round(0.55,1) ==>\", round(0.55,1))\n",
    "print(\"round(0.65,1) ==>\", round(0.65,1))\n",
    "print(\"round(0.75,1) ==>\", round(0.75,1))\n",
    "print(\"round(0.85,1) ==>\", round(0.85,1))\n",
    "print(\"round(0.95,1) ==>\", round(0.95,1))\n",
    "\n",
    "print()\n",
    "print(\"Rounding by formating with format method\")\n",
    "\n",
    "print(\"{:.1f}.format(0.05) ==>\",'{:.1f}'.format(0.05))\n",
    "print(\"{:.1f}.format(0.15) ==>\",'{:.1f}'.format(0.15))\n",
    "print(\"{:.1f}.format(0.25) ==>\",'{:.1f}'.format(0.25))\n",
    "print(\"{:.1f}.format(0.35) ==>\",'{:.1f}'.format(0.35))\n",
    "print(\"{:.1f}.format(0.45) ==>\",'{:.1f}'.format(0.45))\n",
    "print(\"{:.1f}.format(0.55) ==>\",'{:.1f}'.format(0.55))\n",
    "print(\"{:.1f}.format(0.65) ==>\",'{:.1f}'.format(0.65))\n",
    "print(\"{:.1f}.format(0.75) ==>\",'{:.1f}'.format(0.75))\n",
    "print(\"{:.1f}.format(0.85) ==>\",'{:.1f}'.format(0.85))\n",
    "print(\"{:.1f}.format(0.95) ==>\",'{:.1f}'.format(0.95))\n",
    "\n",
    "print()\n",
    "print(\"Rounding by formating f-strings\")\n",
    "\n",
    "print(f\"f'{{0.05:.1f}} ==> {0.05:.1f}\")\n",
    "print(f\"f'{{0.15:.1f}} ==> {0.15:.1f}\")\n",
    "print(f\"f'{{0.25:.1f}} ==> {0.25:.1f}\")\n",
    "print(f\"f'{{0.35:.1f}} ==> {0.35:.1f}\")\n",
    "print(f\"f'{{0.45:.1f}} ==> {0.45:.1f}\")\n",
    "print(f\"f'{{0.55:.1f}} ==> {0.55:.1f}\")\n",
    "print(f\"f'{{0.65:.1f}} ==> {0.65:.1f}\")\n",
    "print(f\"f'{{0.75:.1f}} ==> {0.75:.1f}\")\n",
    "print(f\"f'{{0.85:.1f}} ==> {0.85:.1f}\")\n",
    "print(f\"f'{{0.95:.1f}} ==> {0.95:.1f}\")"
   ]
  }
 ],
 "metadata": {
  "kernelspec": {
   "display_name": "Python 3 (ipykernel)",
   "language": "python",
   "name": "python3"
  },
  "language_info": {
   "codemirror_mode": {
    "name": "ipython",
    "version": 3
   },
   "file_extension": ".py",
   "mimetype": "text/x-python",
   "name": "python",
   "nbconvert_exporter": "python",
   "pygments_lexer": "ipython3",
   "version": "3.10.2"
  }
 },
 "nbformat": 4,
 "nbformat_minor": 2
}
