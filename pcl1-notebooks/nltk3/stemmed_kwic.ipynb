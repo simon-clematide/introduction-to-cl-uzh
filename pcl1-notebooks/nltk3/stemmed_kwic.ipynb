{
 "cells": [
  {
   "cell_type": "markdown",
   "metadata": {
    "slideshow": {
     "slide_type": "slide"
    }
   },
   "source": [
    "# Self-programmed stemmed KWIC in Python"
   ]
  },
  {
   "cell_type": "markdown",
   "metadata": {
    "slideshow": {
     "slide_type": "slide"
    }
   },
   "source": [
    "## Definition of the class for regex-based stemmers \n",
    "A primitive default regex for stemming is provided"
   ]
  },
  {
   "cell_type": "code",
   "execution_count": 1,
   "metadata": {},
   "outputs": [],
   "source": [
    "import nltk, re\n",
    "\n",
    "class RegexStemmer(object):\n",
    "    def __init__(self, r=r'^(.*?)(ing|ly|ed|ious|ies|ive|es|s|ment)?$'):\n",
    "        self._r = r\n",
    "\n",
    "    def stem(self,word):\n",
    "        m = re.match(self._r, word)\n",
    "        return m.group(1)"
   ]
  },
  {
   "cell_type": "code",
   "execution_count": 2,
   "metadata": {},
   "outputs": [
    {
     "data": {
      "text/plain": [
       "'seem'"
      ]
     },
     "execution_count": 2,
     "metadata": {},
     "output_type": "execute_result"
    }
   ],
   "source": [
    "regex_stemmer = RegexStemmer()\n",
    "regex_stemmer.stem('seeming')"
   ]
  },
  {
   "cell_type": "markdown",
   "metadata": {
    "slideshow": {
     "slide_type": "slide"
    }
   },
   "source": [
    "## Definition of the class for indexed texts incl. concordances"
   ]
  },
  {
   "cell_type": "code",
   "execution_count": 3,
   "metadata": {},
   "outputs": [],
   "source": [
    "class IndexedText(object):\n",
    "\n",
    "    def __init__(self, stemmer, text):\n",
    "        self._text = text\n",
    "        self._stemmer = stemmer\n",
    "        self._index = nltk.Index((self._stem(word), i)\n",
    "                                 for (i, word) in enumerate(text))\n",
    "\n",
    "    def _stem(self, word):\n",
    "        return self._stemmer.stem(word).lower()\n",
    "\n",
    "\n",
    "    def concordance(self, word, width=40):\n",
    "        key = self._stem(word)\t\t# stemmed keyword\n",
    "        wc = width//4\t\t\t\t# words of context to consider\n",
    "        for i in self._index[key]:\n",
    "            lcontext = ' '.join(self._text[i-wc:i])\n",
    "            rcontext = ' '.join(self._text[i:i+wc])\n",
    "            ldisplay = f'{lcontext[-width:]:>{width}}' # trim to desired character width\n",
    "            rdisplay = f'{rcontext[:width]:{width}}'   # trim to desired character width\n",
    "            print(ldisplay, rdisplay)\n"
   ]
  },
  {
   "cell_type": "markdown",
   "metadata": {
    "slideshow": {
     "slide_type": "slide"
    }
   },
   "source": [
    "## Demo of the self-made KWIC program"
   ]
  },
  {
   "cell_type": "code",
   "execution_count": 4,
   "metadata": {
    "slideshow": {
     "slide_type": "fragment"
    }
   },
   "outputs": [],
   "source": [
    "text = nltk.corpus.webtext.words('grail.txt')\n",
    "regex_index = IndexedText(regex_stemmer, text)"
   ]
  },
  {
   "cell_type": "markdown",
   "metadata": {
    "slideshow": {
     "slide_type": "fragment"
    }
   },
   "source": [
    "Apply concordance method to indexed text"
   ]
  },
  {
   "cell_type": "code",
   "execution_count": 11,
   "metadata": {
    "slideshow": {
     "slide_type": "-"
    }
   },
   "outputs": [
    {
     "name": "stdout",
     "output_type": "stream",
     "text": [
      " cross this bridge . BLACK KNIGHT : Then you shall die . ARTHUR : I command you , as King of the     \n",
      "n , rode forth from Camelot . He was not afraid to die , O brave Sir Robin . He was not at all       \n"
     ]
    }
   ],
   "source": [
    "regex_index.concordance('die',width=50)"
   ]
  },
  {
   "cell_type": "code",
   "execution_count": 9,
   "metadata": {
    "slideshow": {
     "slide_type": "slide"
    }
   },
   "outputs": [
    {
     "name": "stdout",
     "output_type": "stream",
     "text": [
      "     it says . ARTHUR : Look , if he was dying , he wouldn ' t bother to carve ' \n"
     ]
    }
   ],
   "source": [
    "regex_index.concordance('dying')"
   ]
  },
  {
   "cell_type": "markdown",
   "metadata": {
    "slideshow": {
     "slide_type": "slide"
    }
   },
   "source": [
    "## Use a prefabricated stemmer with the self-built text indexing class\n",
    "Condition: Stemmer must be able to call the method `stem()`.\n",
    "Remember... [duck typing](https://www.youtube.com/watch?v=x3v9zMX1s4s)"
   ]
  },
  {
   "cell_type": "code",
   "execution_count": 13,
   "metadata": {},
   "outputs": [
    {
     "name": "stdout",
     "output_type": "stream",
     "text": [
      "GHT : Then you shall die . ARTHUR : I    \n",
      "He was not afraid to die , O brave Sir   \n",
      ", you shall not have died in vain ! CONCO\n",
      "         Oh , he ' s died ! FATHER : And \n",
      "YNARD : He must have died while carving i\n",
      "    Look , if he was dying , he wouldn ' \n"
     ]
    }
   ],
   "source": [
    "porter_stemmer = nltk.PorterStemmer()\n",
    "porter_index = IndexedText(porter_stemmer, text)\n",
    "porter_index.concordance('dying', width=20)"
   ]
  },
  {
   "cell_type": "markdown",
   "metadata": {
    "slideshow": {
     "slide_type": "fragment"
    }
   },
   "source": [
    "Well-behaved object-oriented decomposition allows for plug'n'play of components."
   ]
  },
  {
   "cell_type": "markdown",
   "metadata": {
    "slideshow": {
     "slide_type": "slide"
    }
   },
   "source": [
    "### The [Lancaster stemmer](https://www.youtube.com/watch?v=x3v9zMX1s4s) in action"
   ]
  },
  {
   "cell_type": "code",
   "execution_count": 14,
   "metadata": {
    "slideshow": {
     "slide_type": "-"
    }
   },
   "outputs": [
    {
     "name": "stdout",
     "output_type": "stream",
     "text": [
      "ve , brave Concorde , you shall not have died in vain ! CONCORDE : Uh , I '      \n",
      "               ! GUEST # 2 : Oh , he ' s died ! FATHER : And I want his only daug\n",
      " : What is that ? MAYNARD : He must have died while carving it . LAUNCELOT : Oh ,\n"
     ]
    }
   ],
   "source": [
    "lancaster_stemmer = nltk.LancasterStemmer()\n",
    "lancaster_index = IndexedText(lancaster_stemmer, text)\n",
    "lancaster_index.concordance('died')"
   ]
  }
 ],
 "metadata": {
  "anaconda-cloud": {},
  "celltoolbar": "Slideshow",
  "kernelspec": {
   "display_name": "Python 3",
   "language": "python",
   "name": "python3"
  },
  "language_info": {
   "codemirror_mode": {
    "name": "ipython",
    "version": 3
   },
   "file_extension": ".py",
   "mimetype": "text/x-python",
   "name": "python",
   "nbconvert_exporter": "python",
   "pygments_lexer": "ipython3",
   "version": "3.7.3"
  },
  "latex_envs": {
   "bibliofile": "biblio.bib",
   "cite_by": "apalike",
   "current_citInitial": 1,
   "eqLabelWithNumbers": true,
   "eqNumInitial": 0
  },
  "livereveal": {
   "center": true,
   "embedded": true,
   "enable_chalkboard": true,
   "scroll": true,
   "start_slideshow_at": "selected",
   "theme": "simple",
   "transition": "fade"
  }
 },
 "nbformat": 4,
 "nbformat_minor": 1
}
