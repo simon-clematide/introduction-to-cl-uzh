{
 "cells": [
  {
   "cell_type": "markdown",
   "id": "fbdf4fad",
   "metadata": {},
   "source": [
    "# An example for random sampling"
   ]
  },
  {
   "cell_type": "code",
   "execution_count": 2,
   "id": "43321bbb",
   "metadata": {},
   "outputs": [
    {
     "name": "stdout",
     "output_type": "stream",
     "text": [
      "U28\n",
      "and\n",
      "fir\n",
      "U66\n",
      "your\n",
      "everyone\n",
      "got\n",
      "u\n",
      "for\n",
      "U39\n",
      "lol\n",
      "JOIN\n",
      "softener\n",
      ".....\n",
      "like\n",
      "hear\n",
      "that\n",
      "come\n",
      "yards\n",
      "just\n"
     ]
    }
   ],
   "source": [
    "import nltk, random\n",
    "\n",
    "corpus = nltk.corpus.nps_chat.words()\n",
    "\n",
    "# for demonstration\n",
    "for i in random.sample(range(len(corpus)),20):\n",
    "    print(corpus[i])\n",
    "\n",
    "\n",
    "# as a reusable function with a generator return value\n",
    "def sample_corpus1(text, size):\n",
    "    return (text[i] for i in random.sample(range(len(text)),size))\n",
    "\n",
    "# as a reusable function with a list return value\n",
    "def sample_corpus2(text, size):\n",
    "    return [text[i] for i in random.sample(range(len(text)),size)]"
   ]
  },
  {
   "cell_type": "code",
   "execution_count": 4,
   "id": "598d4485",
   "metadata": {},
   "outputs": [
    {
     "name": "stdout",
     "output_type": "stream",
     "text": [
      "['PART', '..', 'player', 'that', 'wheres', 'try', '.', 'for', 'ring', 'U107', 'the', 'females', '.', 'easier', 'JOIN', '18', 'hey', 'but', 'listening', 'apron']\n"
     ]
    }
   ],
   "source": [
    "print(sample_corpus2(corpus, 20))"
   ]
  },
  {
   "cell_type": "code",
   "execution_count": null,
   "id": "de1836ae",
   "metadata": {},
   "outputs": [],
   "source": []
  }
 ],
 "metadata": {
  "kernelspec": {
   "display_name": "Python 3 (ipykernel)",
   "language": "python",
   "name": "python3"
  },
  "language_info": {
   "codemirror_mode": {
    "name": "ipython",
    "version": 3
   },
   "file_extension": ".py",
   "mimetype": "text/x-python",
   "name": "python",
   "nbconvert_exporter": "python",
   "pygments_lexer": "ipython3",
   "version": "3.11.10"
  }
 },
 "nbformat": 4,
 "nbformat_minor": 5
}
