{
 "cells": [
  {
   "cell_type": "markdown",
   "metadata": {
    "slideshow": {
     "slide_type": "slide"
    }
   },
   "source": [
    "# Repräsentation von reinen Text-Korpora (SAC)"
   ]
  },
  {
   "cell_type": "markdown",
   "metadata": {
    "slideshow": {
     "slide_type": "slide"
    }
   },
   "source": [
    "Text+Berg XML in Textformat verwandeln mit xmlstarlet (ein Satz pro Zeile, Tokens mit Leerzeichen getrennt)\n",
    "\n",
    "_(Annahme: Im Unterverzeichnis SAC befinden sich alle XML-Dateien von Text+Berg)_"
   ]
  },
  {
   "cell_type": "code",
   "execution_count": null,
   "metadata": {
    "slideshow": {
     "slide_type": "-"
    }
   },
   "outputs": [],
   "source": [
    "%%bash \n",
    "for f in SAC/*_{mul,de}.xml ; do\n",
    "    if test $f.txt -ot $f   # if $f.txt exists and is newer than $f\n",
    "    then\n",
    "        echo \"$f needs conversion ...\" 1>&2\n",
    "        xmlstarlet sel -T -t -m //div -nl -m \".//s[@lang='de']\" -nl  -m  \".//w\" -v \".\" -o $' ' < $f > $f.txt\n",
    "    fi\n",
    "done"
   ]
  },
  {
   "cell_type": "code",
   "execution_count": null,
   "metadata": {},
   "outputs": [],
   "source": [
    "! edit SAC/SAC-Jahrbuch_1864_mul.xml.txt"
   ]
  },
  {
   "cell_type": "markdown",
   "metadata": {
    "slideshow": {
     "slide_type": "slide"
    }
   },
   "source": [
    "### Eigene gutenberg-artige Korpora erstellen"
   ]
  },
  {
   "cell_type": "code",
   "execution_count": null,
   "metadata": {
    "slideshow": {
     "slide_type": "-"
    }
   },
   "outputs": [],
   "source": [
    "import nltk\n",
    "from nltk.corpus.reader.plaintext import PlaintextCorpusReader\n",
    "from nltk.tokenize import RegexpTokenizer\n",
    "root = 'SAC/'\n",
    "file_pattern = r'.+\\.txt'\n",
    "\n",
    "my_SAC = PlaintextCorpusReader(root,\n",
    "                    file_pattern,\n",
    "                    encoding='utf-8',\n",
    "                    word_tokenizer=RegexpTokenizer(r'[ \\n]', gaps=True, discard_empty=True),\n",
    "                    sent_tokenizer=RegexpTokenizer(r'\\n', gaps=True, discard_empty=True)\n",
    "                    )\n",
    "\n",
    "my_SAC.sents()[:5]\n"
   ]
  },
  {
   "cell_type": "markdown",
   "metadata": {
    "slideshow": {
     "slide_type": "slide"
    }
   },
   "source": [
    "# Häufigkeitsverteilungen\n",
    "Ob Generator oder explizite Liste macht einen riesigen Unterschied im Speicherverbrauch!"
   ]
  },
  {
   "cell_type": "code",
   "execution_count": null,
   "metadata": {},
   "outputs": [],
   "source": [
    "# %time sac_fd = nltk.FreqDist(list(my_SAC.words()))\n",
    "%time sac_fd = nltk.FreqDist(my_SAC.words())"
   ]
  },
  {
   "cell_type": "code",
   "execution_count": null,
   "metadata": {},
   "outputs": [],
   "source": [
    "sac_fd.N()"
   ]
  },
  {
   "cell_type": "code",
   "execution_count": null,
   "metadata": {},
   "outputs": [],
   "source": [
    "sac_fd.tabulate(10)"
   ]
  },
  {
   "cell_type": "code",
   "execution_count": null,
   "metadata": {
    "slideshow": {
     "slide_type": "slide"
    }
   },
   "outputs": [],
   "source": [
    "%time sorted([w for w in sac_fd \\\n",
    "            if len(w) > 32 and sac_fd[w] > 2])"
   ]
  },
  {
   "cell_type": "markdown",
   "metadata": {
    "slideshow": {
     "slide_type": "slide"
    }
   },
   "source": [
    "### Tagged Text+Berg Corpus"
   ]
  },
  {
   "cell_type": "code",
   "execution_count": null,
   "metadata": {
    "slideshow": {
     "slide_type": "slide"
    }
   },
   "outputs": [],
   "source": [
    "from nltk.corpus.reader.tagged import TaggedCorpusReader"
   ]
  },
  {
   "cell_type": "code",
   "execution_count": null,
   "metadata": {},
   "outputs": [],
   "source": [
    "%%bash \n",
    "for f in SAC/*_{mul,de}.xml ; do\n",
    "    if test $f.vttxt -ot $f \n",
    "    then\n",
    "        echo \"$f needs conversion ...\" 1>&2\n",
    "        xmlstarlet sel -T -t -m //div -nl -m \".//s[@lang='de']\" -nl  -m  \".//w\" -v \".\" -o $'\\t' -v '@pos' -o ' ' < $f > $f.vttxt\n",
    "    fi\n",
    "done"
   ]
  },
  {
   "cell_type": "code",
   "execution_count": null,
   "metadata": {},
   "outputs": [],
   "source": [
    "! edit SAC/SAC-Jahrbuch_1864_mul.xml.vttxt"
   ]
  },
  {
   "cell_type": "code",
   "execution_count": null,
   "metadata": {
    "slideshow": {
     "slide_type": "slide"
    }
   },
   "outputs": [],
   "source": [
    "file_pattern = r'.+\\.vttxt$'\n",
    "my_tagged_SAC = TaggedCorpusReader(root,\n",
    "                    file_pattern,\n",
    "                    encoding='utf-8',\n",
    "                    sep='\\t',\n",
    "                    word_tokenizer=RegexpTokenizer(r'[^ ]+'),\n",
    "                    sent_tokenizer=RegexpTokenizer(r'[^\\n]+')\n",
    "                    )"
   ]
  },
  {
   "cell_type": "code",
   "execution_count": null,
   "metadata": {},
   "outputs": [],
   "source": [
    "my_tagged_SAC.tagged_sents()[0:13]"
   ]
  },
  {
   "cell_type": "code",
   "execution_count": null,
   "metadata": {},
   "outputs": [],
   "source": [
    "%time sac_tfd = nltk.ConditionalFreqDist((t,w) for (w,t) in my_tagged_SAC.tagged_words())"
   ]
  },
  {
   "cell_type": "code",
   "execution_count": null,
   "metadata": {},
   "outputs": [],
   "source": [
    "sac_tfd['NE'].tabulate(3)"
   ]
  },
  {
   "cell_type": "code",
   "execution_count": null,
   "metadata": {},
   "outputs": [],
   "source": [
    "sorted([w for w in sac_tfd['ADJA'] \\\n",
    "            if len(w) > 18 and sac_tfd['ADJA'][w] > 0])"
   ]
  },
  {
   "cell_type": "code",
   "execution_count": null,
   "metadata": {
    "slideshow": {
     "slide_type": "slide"
    }
   },
   "outputs": [],
   "source": [
    "sac_1865 = nltk.ConditionalFreqDist((t,w) for (w,t) in my_tagged_SAC.tagged_words('SAC-Jahrbuch_1865_mul.xml.ttxt') if len(w)> 5)\n",
    "sac_1999 = nltk.ConditionalFreqDist((t,w) for (w,t) in my_tagged_SAC.tagged_words('SAC-Jahrbuch_1999_de.xml.ttxt')if len(w)> 5)\n",
    "sac_diff = (sac_1865-sac_1999)-sac_1999"
   ]
  },
  {
   "cell_type": "code",
   "execution_count": null,
   "metadata": {},
   "outputs": [],
   "source": [
    "sac_diff['VVINF'].tabulate(10)"
   ]
  }
 ],
 "metadata": {
  "livereveal": {
   "center": false,
   "embedded": true,
   "start_slideshow_at": "selected",
   "theme": "simple",
   "transition": "fade"
  }
 },
 "nbformat": 4,
 "nbformat_minor": 1
}
