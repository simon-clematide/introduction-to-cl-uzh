{
 "cells": [
  {
   "cell_type": "code",
   "execution_count": null,
   "id": "3f5009ee",
   "metadata": {},
   "outputs": [],
   "source": [
    "!jt -t oceans16"
   ]
  }
 ],
 "metadata": {},
 "nbformat": 4,
 "nbformat_minor": 5
}
