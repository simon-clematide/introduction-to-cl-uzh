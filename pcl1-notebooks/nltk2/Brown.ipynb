{
 "cells": [
  {
   "cell_type": "markdown",
   "metadata": {
    "editable": true,
    "slideshow": {
     "slide_type": "slide"
    },
    "tags": []
   },
   "source": [
    "# Exploring a POS-Tagged and Text-Type-Balanced Corpus using Conditional Frequency Distributions\n",
    "Learning goals:\n",
    " - Get to know the Electronic Pioneer corpus from 1961 (see http://en.wikipedia.org/wiki/Brown_Corpus) (punch card times)\n",
    " - Understand how to represent tagged corpora in a structured format\n",
    " - Understan how powerful indexing in structured representations is\n",
    " - Understand how conditional frequency distributions allow quick comparative evaluations in corpus linguistics"
   ]
  },
  {
   "cell_type": "markdown",
   "metadata": {
    "slideshow": {
     "slide_type": "slide"
    }
   },
   "source": [
    "What does textual representation look like in the original files?"
   ]
  },
  {
   "cell_type": "code",
   "execution_count": 16,
   "metadata": {
    "slideshow": {
     "slide_type": "-"
    }
   },
   "outputs": [
    {
     "name": "stdout",
     "output_type": "stream",
     "text": [
      "\n",
      "\n",
      "\tEmory/np-tl University's/nn$-tl Board/nn-tl of/in-tl Trustees/nns-tl announced/vbd Friday/nr that/cs it/pps was/bedz prepared/vbn to/to accept/vb students/nns of/in any/dti race/nn as/ql soon/rb as/cs the/at state's/nn$ tax/nn laws/nns made/vbd such/abl a/at step/nn possible/jj ./.\n",
      "\n",
      "\n",
      "\t``/`` Emory/np-tl University's/nn$-tl charter/nn and/cc by-laws/nns have/hv never/rb required/vbn admission/nn or/cc rejection/nn of/in students/nns on/in the/at basis/nn of/in race/nn ''/'' ,/, board/nn chairman/nn Henry/np L./np Bowden/np stated/vbd ./.\n",
      "\n",
      "\n",
      "\tBut/cc an/at official/jj statement/nn adopted/vbn by/in the/at 33-man/jj Emory/np board/nn at/in its/pp$ annual/jj meeting/nn Friday/nr noted/vbd that/cs state/nn taxing/vbg requirements/nns at/in present/nn are/ber a/at roadblock/nn to/in accepting/vbg Negroes/nps ./.\n",
      "\n"
     ]
    }
   ],
   "source": [
    "! head ~/nltk_data/corpora/brown/ca22"
   ]
  },
  {
   "cell_type": "markdown",
   "metadata": {},
   "source": [
    "What is a reasonable data structure for POS tagged corpora?"
   ]
  },
  {
   "cell_type": "code",
   "execution_count": 17,
   "metadata": {
    "slideshow": {
     "slide_type": "slide"
    }
   },
   "outputs": [
    {
     "data": {
      "text/plain": [
       "[('It', 'PPS'),\n",
       " ('was', 'BEDZ'),\n",
       " ('among', 'IN'),\n",
       " ('these', 'DTS'),\n",
       " ('that', 'CS'),\n",
       " ('Hinkle', 'NP'),\n",
       " ('identified', 'VBD'),\n",
       " ('a', 'AT'),\n",
       " ('photograph', 'NN'),\n",
       " ('of', 'IN'),\n",
       " ('Barco', 'NP'),\n",
       " ('!', '.'),\n",
       " ('!', '.'),\n",
       " ('For', 'CS'),\n",
       " ('it', 'PPS'),\n",
       " ('seems', 'VBZ'),\n",
       " ('that', 'CS'),\n",
       " ('Barco', 'NP'),\n",
       " (',', ','),\n",
       " ('fancying', 'VBG')]"
      ]
     },
     "execution_count": 17,
     "metadata": {},
     "output_type": "execute_result"
    }
   ],
   "source": [
    "from nltk.corpus import brown\n",
    "brown_tagged_words_humor = brown.tagged_words(categories='humor')\n",
    "brown_tagged_words_humor[:20]"
   ]
  },
  {
   "cell_type": "markdown",
   "metadata": {
    "slideshow": {
     "slide_type": "slide"
    }
   },
   "source": [
    "## Corpus as sequence of tuples (word, POS tag)"
   ]
  },
  {
   "cell_type": "code",
   "execution_count": 18,
   "metadata": {},
   "outputs": [
    {
     "data": {
      "text/plain": [
       "[('It', 'PPS'), ('was', 'BEDZ'), ('among', 'IN'), ...]"
      ]
     },
     "execution_count": 18,
     "metadata": {},
     "output_type": "execute_result"
    }
   ],
   "source": [
    "brown_tagged_words_humor"
   ]
  },
  {
   "cell_type": "markdown",
   "metadata": {
    "slideshow": {
     "slide_type": "fragment"
    }
   },
   "source": [
    "What does the following expression calculate?"
   ]
  },
  {
   "cell_type": "code",
   "execution_count": 19,
   "metadata": {},
   "outputs": [
    {
     "data": {
      "text/plain": [
       "'P'"
      ]
     },
     "execution_count": 19,
     "metadata": {},
     "output_type": "execute_result"
    }
   ],
   "source": [
    "brown_tagged_words_humor[0][1][0]"
   ]
  },
  {
   "cell_type": "markdown",
   "metadata": {
    "slideshow": {
     "slide_type": "slide"
    }
   },
   "source": [
    "## The balanced corpus contains texts from 15 categories."
   ]
  },
  {
   "cell_type": "code",
   "execution_count": 20,
   "metadata": {},
   "outputs": [
    {
     "data": {
      "text/plain": [
       "['adventure',\n",
       " 'belles_lettres',\n",
       " 'editorial',\n",
       " 'fiction',\n",
       " 'government',\n",
       " 'hobbies',\n",
       " 'humor',\n",
       " 'learned',\n",
       " 'lore',\n",
       " 'mystery',\n",
       " 'news',\n",
       " 'religion',\n",
       " 'reviews',\n",
       " 'romance',\n",
       " 'science_fiction']"
      ]
     },
     "execution_count": 20,
     "metadata": {},
     "output_type": "execute_result"
    }
   ],
   "source": [
    "brown.categories()"
   ]
  },
  {
   "cell_type": "markdown",
   "metadata": {
    "slideshow": {
     "slide_type": "slide"
    }
   },
   "source": [
    "# Show the path of every 25th file of the 500 files in the corpus."
   ]
  },
  {
   "cell_type": "code",
   "execution_count": 21,
   "metadata": {
    "slideshow": {
     "slide_type": "-"
    }
   },
   "outputs": [
    {
     "name": "stdout",
     "output_type": "stream",
     "text": [
      "/Users/siclemat/nltk_data/corpora/brown\n",
      "/Users/siclemat/nltk_data/corpora/brown/ca02 ca02\n",
      "/Users/siclemat/nltk_data/corpora/brown/ca27 ca27\n",
      "/Users/siclemat/nltk_data/corpora/brown/cb08 cb08\n",
      "/Users/siclemat/nltk_data/corpora/brown/cc06 cc06\n",
      "/Users/siclemat/nltk_data/corpora/brown/cd14 cd14\n",
      "/Users/siclemat/nltk_data/corpora/brown/ce22 ce22\n",
      "/Users/siclemat/nltk_data/corpora/brown/cf11 cf11\n",
      "/Users/siclemat/nltk_data/corpora/brown/cf36 cf36\n",
      "/Users/siclemat/nltk_data/corpora/brown/cg13 cg13\n",
      "/Users/siclemat/nltk_data/corpora/brown/cg38 cg38\n",
      "/Users/siclemat/nltk_data/corpora/brown/cg63 cg63\n",
      "/Users/siclemat/nltk_data/corpora/brown/ch13 ch13\n",
      "/Users/siclemat/nltk_data/corpora/brown/cj08 cj08\n",
      "/Users/siclemat/nltk_data/corpora/brown/cj33 cj33\n",
      "/Users/siclemat/nltk_data/corpora/brown/cj58 cj58\n",
      "/Users/siclemat/nltk_data/corpora/brown/ck03 ck03\n",
      "/Users/siclemat/nltk_data/corpora/brown/ck28 ck28\n",
      "/Users/siclemat/nltk_data/corpora/brown/cl24 cl24\n",
      "/Users/siclemat/nltk_data/corpora/brown/cn19 cn19\n",
      "/Users/siclemat/nltk_data/corpora/brown/cp15 cp15\n"
     ]
    }
   ],
   "source": [
    "print(brown.root)\n",
    "for f in brown.fileids()[1:500:25]:\n",
    "    print(brown.abspath(f), f)"
   ]
  },
  {
   "cell_type": "markdown",
   "metadata": {
    "slideshow": {
     "slide_type": "slide"
    }
   },
   "source": [
    "## Bivariate frequency distributions \n",
    " - Separate distributions on a variable computed for another variable"
   ]
  },
  {
   "cell_type": "markdown",
   "metadata": {
    "slideshow": {
     "slide_type": "slide"
    }
   },
   "source": [
    "## Compute a bivariate frequency distribution of words separately for each genre"
   ]
  },
  {
   "cell_type": "code",
   "execution_count": 13,
   "metadata": {},
   "outputs": [
    {
     "data": {
      "text/plain": [
       "nltk.probability.ConditionalFreqDist"
      ]
     },
     "execution_count": 13,
     "metadata": {},
     "output_type": "execute_result"
    }
   ],
   "source": [
    "import nltk\n",
    "from nltk.corpus import brown\n",
    "\n",
    "\n",
    "cfd = nltk.ConditionalFreqDist([\n",
    "    (genre, word)\n",
    "    for genre in brown.categories()\n",
    "      for word in brown.words(categories=genre)])\n",
    "type(cfd)"
   ]
  },
  {
   "cell_type": "markdown",
   "metadata": {},
   "source": [
    "How many times appears the word \"woman\" in the two genres \"romance\" and \"religion\"?"
   ]
  },
  {
   "cell_type": "code",
   "execution_count": null,
   "metadata": {
    "slideshow": {
     "slide_type": "fragment"
    }
   },
   "outputs": [],
   "source": [
    "cfd[\"romance\"][\"woman\"], cfd[\"religion\"][\"woman\"]"
   ]
  },
  {
   "cell_type": "markdown",
   "metadata": {
    "slideshow": {
     "slide_type": "slide"
    }
   },
   "source": [
    "Display table for a selection of words for each genre"
   ]
  },
  {
   "cell_type": "code",
   "execution_count": null,
   "metadata": {
    "slideshow": {
     "slide_type": "-"
    }
   },
   "outputs": [],
   "source": [
    "genres = ['news', 'religion', 'hobbies',\n",
    "         'science_fiction', 'romance', 'humor']\n",
    "\n",
    "modals = ['god','good','bad','man','woman']\n",
    "cfd.tabulate(conditions=genres, samples=modals)"
   ]
  },
  {
   "cell_type": "markdown",
   "metadata": {
    "slideshow": {
     "slide_type": "slide"
    }
   },
   "source": [
    "Bivariate frequency distributions contain a univariate frequency distributions for each condition"
   ]
  },
  {
   "cell_type": "code",
   "execution_count": null,
   "metadata": {},
   "outputs": [],
   "source": [
    "type(cfd['religion'])"
   ]
  },
  {
   "cell_type": "code",
   "execution_count": null,
   "metadata": {},
   "outputs": [],
   "source": [
    "cfd['religion'].N(), cfd['news'].N()"
   ]
  },
  {
   "cell_type": "markdown",
   "metadata": {
    "slideshow": {
     "slide_type": "slide"
    }
   },
   "source": [
    "Quiz question: Is the relative frequency of the word \"woman\" greater in the category \"news\" than in the category \"religion\"?"
   ]
  },
  {
   "cell_type": "code",
   "execution_count": null,
   "metadata": {},
   "outputs": [],
   "source": [
    "cfd['news'].freq('woman')"
   ]
  },
  {
   "cell_type": "code",
   "execution_count": null,
   "metadata": {},
   "outputs": [],
   "source": [
    "cfd['religion'].freq('woman')"
   ]
  },
  {
   "cell_type": "code",
   "execution_count": null,
   "metadata": {},
   "outputs": [],
   "source": [
    "cfd['news'].freq('woman') > cfd['religion'].freq('woman')"
   ]
  },
  {
   "cell_type": "markdown",
   "metadata": {},
   "source": [
    "Is it more likely to find the word \"man\" in the category \"news\" than \"religion\"? "
   ]
  },
  {
   "cell_type": "code",
   "execution_count": null,
   "metadata": {},
   "outputs": [],
   "source": [
    "cfd['news'].freq('man') > cfd['religion'].freq('man')"
   ]
  },
  {
   "cell_type": "markdown",
   "metadata": {},
   "source": [
    "Your turn: Test a word distribution hypothesis..."
   ]
  },
  {
   "cell_type": "markdown",
   "metadata": {},
   "source": [
    "# Task: How would Conditional Frequency Distribution look like that counts for each word the distribution of its POS tag?\n",
    "In other words, how can we build a tagger lexicon in one expression? Can you complete the following code?"
   ]
  },
  {
   "cell_type": "code",
   "execution_count": null,
   "metadata": {},
   "outputs": [],
   "source": [
    "\n",
    "tagging_lexicon = nltk.ConditionalFreqDist([\n",
    "    #your code here\n",
    "])"
   ]
  },
  {
   "cell_type": "code",
   "execution_count": null,
   "metadata": {},
   "outputs": [],
   "source": [
    "tagging_lexicon[\"can\"]"
   ]
  }
 ],
 "metadata": {
  "kernelspec": {
   "display_name": "Python (kernel_name)",
   "language": "python",
   "name": "kernel_name"
  },
  "language_info": {
   "codemirror_mode": {
    "name": "ipython",
    "version": 3
   },
   "file_extension": ".py",
   "mimetype": "text/x-python",
   "name": "python",
   "nbconvert_exporter": "python",
   "pygments_lexer": "ipython3",
   "version": "3.12.6"
  },
  "livereveal": {
   "auto_select": "none",
   "center": true,
   "embedded": true,
   "enable_chalkboard": true,
   "scroll": true,
   "start_slideshow_at": "selected",
   "theme": "simple",
   "transition": "fade"
  }
 },
 "nbformat": 4,
 "nbformat_minor": 4
}
