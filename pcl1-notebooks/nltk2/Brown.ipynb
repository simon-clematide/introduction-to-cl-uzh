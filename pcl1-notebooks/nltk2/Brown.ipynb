{
 "cells": [
  {
   "cell_type": "markdown",
   "metadata": {
    "slideshow": {
     "slide_type": "slide"
    }
   },
   "source": [
    "# Brown Corpus\n",
    "Electronic Pioneer corpus from 1961 (see http://en.wikipedia.org/wiki/Brown_Corpus)"
   ]
  },
  {
   "cell_type": "markdown",
   "metadata": {
    "slideshow": {
     "slide_type": "slide"
    }
   },
   "source": [
    "What does textual representation look like in the original files?"
   ]
  },
  {
   "cell_type": "code",
   "execution_count": null,
   "metadata": {
    "slideshow": {
     "slide_type": "-"
    }
   },
   "outputs": [],
   "source": [
    "! head ~/nltk_data/corpora/brown/ca22"
   ]
  },
  {
   "cell_type": "markdown",
   "metadata": {},
   "source": [
    "What is a reasonable data structure for POS tagged corpora?"
   ]
  },
  {
   "cell_type": "code",
   "execution_count": null,
   "metadata": {
    "slideshow": {
     "slide_type": "slide"
    }
   },
   "outputs": [],
   "source": [
    "from nltk.corpus import brown\n",
    "brown_tagged_words = brown.tagged_words(categories='humor')\n",
    "brown_tagged_words[:20]"
   ]
  },
  {
   "cell_type": "markdown",
   "metadata": {
    "slideshow": {
     "slide_type": "slide"
    }
   },
   "source": [
    "## Corpus as sequence of tuples (word, POS tag)"
   ]
  },
  {
   "cell_type": "code",
   "execution_count": 3,
   "metadata": {},
   "outputs": [
    {
     "data": {
      "text/plain": [
       "[('It', 'PPS'), ('was', 'BEDZ'), ('among', 'IN'), ...]"
      ]
     },
     "execution_count": 3,
     "metadata": {},
     "output_type": "execute_result"
    }
   ],
   "source": [
    "brown_tagged_words[:]"
   ]
  },
  {
   "cell_type": "markdown",
   "metadata": {
    "slideshow": {
     "slide_type": "fragment"
    }
   },
   "source": [
    "What does the following expression calculate?"
   ]
  },
  {
   "cell_type": "code",
   "execution_count": 4,
   "metadata": {},
   "outputs": [
    {
     "data": {
      "text/plain": [
       "'P'"
      ]
     },
     "execution_count": 4,
     "metadata": {},
     "output_type": "execute_result"
    }
   ],
   "source": [
    "brown_tagged_words[0][1][0]"
   ]
  },
  {
   "cell_type": "markdown",
   "metadata": {
    "slideshow": {
     "slide_type": "slide"
    }
   },
   "source": [
    "## The balanced corpus contains texts from 15 categories."
   ]
  },
  {
   "cell_type": "code",
   "execution_count": 5,
   "metadata": {},
   "outputs": [
    {
     "data": {
      "text/plain": [
       "['adventure',\n",
       " 'belles_lettres',\n",
       " 'editorial',\n",
       " 'fiction',\n",
       " 'government',\n",
       " 'hobbies',\n",
       " 'humor',\n",
       " 'learned',\n",
       " 'lore',\n",
       " 'mystery',\n",
       " 'news',\n",
       " 'religion',\n",
       " 'reviews',\n",
       " 'romance',\n",
       " 'science_fiction']"
      ]
     },
     "execution_count": 5,
     "metadata": {},
     "output_type": "execute_result"
    }
   ],
   "source": [
    "brown.categories()"
   ]
  },
  {
   "cell_type": "code",
   "execution_count": 6,
   "metadata": {
    "slideshow": {
     "slide_type": "slide"
    }
   },
   "outputs": [
    {
     "name": "stdout",
     "output_type": "stream",
     "text": [
      "/Users/siclemat/nltk_data/corpora/brown/ca02\n",
      "/Users/siclemat/nltk_data/corpora/brown/ca22\n",
      "/Users/siclemat/nltk_data/corpora/brown/ca42\n",
      "/Users/siclemat/nltk_data/corpora/brown/cb18\n",
      "/Users/siclemat/nltk_data/corpora/brown/cc11\n",
      "/Users/siclemat/nltk_data/corpora/brown/cd14\n",
      "/Users/siclemat/nltk_data/corpora/brown/ce17\n",
      "/Users/siclemat/nltk_data/corpora/brown/cf01\n",
      "/Users/siclemat/nltk_data/corpora/brown/cf21\n",
      "/Users/siclemat/nltk_data/corpora/brown/cf41\n",
      "/Users/siclemat/nltk_data/corpora/brown/cg13\n",
      "/Users/siclemat/nltk_data/corpora/brown/cg33\n",
      "/Users/siclemat/nltk_data/corpora/brown/cg53\n",
      "/Users/siclemat/nltk_data/corpora/brown/cg73\n",
      "/Users/siclemat/nltk_data/corpora/brown/ch18\n",
      "/Users/siclemat/nltk_data/corpora/brown/cj08\n",
      "/Users/siclemat/nltk_data/corpora/brown/cj28\n",
      "/Users/siclemat/nltk_data/corpora/brown/cj48\n",
      "/Users/siclemat/nltk_data/corpora/brown/cj68\n",
      "/Users/siclemat/nltk_data/corpora/brown/ck08\n",
      "/Users/siclemat/nltk_data/corpora/brown/ck28\n",
      "/Users/siclemat/nltk_data/corpora/brown/cl19\n",
      "/Users/siclemat/nltk_data/corpora/brown/cn09\n",
      "/Users/siclemat/nltk_data/corpora/brown/cn29\n",
      "/Users/siclemat/nltk_data/corpora/brown/cp20\n"
     ]
    },
    {
     "data": {
      "text/plain": [
       "FileSystemPathPointer('/Users/siclemat/nltk_data/corpora/brown')"
      ]
     },
     "execution_count": 6,
     "metadata": {},
     "output_type": "execute_result"
    }
   ],
   "source": [
    "# Show the path of every 20th file of the 500 files in the corpus.\n",
    "\n",
    "for f in brown.fileids()[1:500:20]:\n",
    "    print(brown.abspath(f))\n",
    "\n",
    "brown.root"
   ]
  },
  {
   "cell_type": "markdown",
   "metadata": {
    "slideshow": {
     "slide_type": "slide"
    }
   },
   "source": [
    "## Bivariate frequency distributions"
   ]
  },
  {
   "cell_type": "code",
   "execution_count": null,
   "metadata": {
    "slideshow": {
     "slide_type": "slide"
    }
   },
   "outputs": [],
   "source": [
    "import nltk\n",
    "from nltk.corpus import brown\n",
    "\n",
    "cfd = nltk.ConditionalFreqDist([\n",
    "    (genre, word)\n",
    "    for genre in brown.categories()\n",
    "    for word in brown.words(categories=genre)])\n",
    "\n",
    "\n",
    "genres = ['news', 'religion', 'hobbies',\n",
    "         'science_fiction', 'romance', 'humor']\n",
    "\n",
    "modals = ['can', 'could', 'may', 'might', 'must', 'will']\n",
    "\n",
    "cfd.tabulate(conditions=genres, samples=modals)\n"
   ]
  },
  {
   "cell_type": "code",
   "execution_count": null,
   "metadata": {},
   "outputs": [],
   "source": [
    "cfd['news'].N()"
   ]
  },
  {
   "cell_type": "markdown",
   "metadata": {
    "slideshow": {
     "slide_type": "slide"
    }
   },
   "source": [
    "Quiz question: Is the relative frequency of the word \"can\" greater in the category \"news\" than in the category \"religion\"?"
   ]
  },
  {
   "cell_type": "code",
   "execution_count": null,
   "metadata": {},
   "outputs": [],
   "source": [
    "cfd['news'].freq('can')"
   ]
  },
  {
   "cell_type": "code",
   "execution_count": null,
   "metadata": {},
   "outputs": [],
   "source": [
    "cfd['religion'].freq('can')"
   ]
  },
  {
   "cell_type": "code",
   "execution_count": null,
   "metadata": {
    "scrolled": true
   },
   "outputs": [],
   "source": [
    "cfd['news'].freq('can') > cfd['religion'].freq('can')"
   ]
  },
  {
   "cell_type": "markdown",
   "metadata": {},
   "source": [
    "Is it more likely to find the word \"could\" in the category \"science fiction\" than \"news\"? "
   ]
  },
  {
   "cell_type": "code",
   "execution_count": null,
   "metadata": {},
   "outputs": [],
   "source": [
    "cfd['science_fiction'].freq('could') > cfd['news'].freq('could')"
   ]
  },
  {
   "cell_type": "markdown",
   "metadata": {},
   "source": [
    "Your turn: Test a word distribution hypothesis..."
   ]
  }
 ],
 "metadata": {
  "anaconda-cloud": {},
  "celltoolbar": "Slideshow",
  "kernelspec": {
   "display_name": "Python 3",
   "language": "python",
   "name": "python3"
  },
  "language_info": {
   "codemirror_mode": {
    "name": "ipython",
    "version": 3
   },
   "file_extension": ".py",
   "mimetype": "text/x-python",
   "name": "python",
   "nbconvert_exporter": "python",
   "pygments_lexer": "ipython3",
   "version": "3.7.3"
  },
  "latex_envs": {
   "bibliofile": "biblio.bib",
   "cite_by": "apalike",
   "current_citInitial": 1,
   "eqLabelWithNumbers": true,
   "eqNumInitial": 0
  },
  "livereveal": {
   "center": true,
   "embedded": true,
   "enable_chalkboard": true,
   "scroll": true,
   "start_slideshow_at": "selected",
   "theme": "simple",
   "transition": "fade"
  }
 },
 "nbformat": 4,
 "nbformat_minor": 1
}
