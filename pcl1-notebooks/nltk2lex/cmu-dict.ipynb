{
 "cells": [
  {
   "cell_type": "markdown",
   "id": "06d4fc37",
   "metadata": {},
   "source": [
    "# CMU dict example"
   ]
  },
  {
   "cell_type": "code",
   "execution_count": null,
   "id": "76f83627",
   "metadata": {},
   "outputs": [],
   "source": [
    "import nltk\n",
    "\n",
    "entries = nltk.corpus.cmudict.entries()\n",
    "\n",
    "print(entries[71607])"
   ]
  },
  {
   "cell_type": "code",
   "execution_count": null,
   "id": "d99ce9f3",
   "metadata": {},
   "outputs": [],
   "source": [
    "# Find all words on -n which are pronounced as -M.\n",
    "print([ word for (word,pron) in entries\n",
    "            if  pron[-1] == 'M'\n",
    "            and word[-1] == 'n' ])\n",
    "\n"
   ]
  }
 ],
 "metadata": {},
 "nbformat": 4,
 "nbformat_minor": 5
}
