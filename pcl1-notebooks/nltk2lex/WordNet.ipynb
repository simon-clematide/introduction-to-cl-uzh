{
 "cells": [
  {
   "cell_type": "markdown",
   "metadata": {
    "slideshow": {
     "slide_type": "slide"
    }
   },
   "source": [
    "# Semantic Word Networks: The English WordNet\n",
    "Learning goals:\n",
    " - Understand the multilayered network of meanings (synsets), Lemmas and words in WordNet\n",
    " - Understanding the object-oriented modeling of a complex data structure as WordNet in NLTK\n",
    " \n",
    "See http://wordnetweb.princeton.edu/perl/webwn for online lookup and [graph exploration visualizations](https://www.visual-thesaurus.com/wordnet_small.php?link=101175316)"
   ]
  },
  {
   "cell_type": "code",
   "execution_count": null,
   "metadata": {
    "slideshow": {
     "slide_type": "slide"
    }
   },
   "outputs": [],
   "source": [
    "import nltk\n",
    "from nltk.corpus import wordnet as wn"
   ]
  },
  {
   "cell_type": "markdown",
   "metadata": {},
   "source": [
    "With `as` you can introduce short names for imported objects or  modules."
   ]
  },
  {
   "cell_type": "markdown",
   "metadata": {
    "slideshow": {
     "slide_type": "slide"
    }
   },
   "source": [
    "## Find synsets (synonym sets) of a word\n",
    "How many different meanings (=synsets) does the token \"hearts\" have?"
   ]
  },
  {
   "cell_type": "code",
   "execution_count": null,
   "metadata": {},
   "outputs": [],
   "source": [
    "wn.synsets('hearts')"
   ]
  },
  {
   "cell_type": "markdown",
   "metadata": {
    "slideshow": {
     "slide_type": "slide"
    }
   },
   "source": [
    "The `Synset` class **abstracts** the relevant **data** and **methods** that contain synsets. \n",
    "\n",
    "Ok, but concretely, what are synsets technically as a data structure?"
   ]
  },
  {
   "cell_type": "code",
   "execution_count": null,
   "metadata": {},
   "outputs": [],
   "source": [
    "sense1 = wn.synsets('hearts')[0]\n",
    "help(type(sense1))"
   ]
  },
  {
   "cell_type": "markdown",
   "metadata": {
    "slideshow": {
     "slide_type": "slide"
    }
   },
   "source": [
    "Okay, but what do these synsets actually mean? The method `definition()` gives human understandable information.\n",
    "Expectedly, the search word is not always the canonical lemma for a synonym set."
   ]
  },
  {
   "cell_type": "code",
   "execution_count": null,
   "metadata": {
    "slideshow": {
     "slide_type": "-"
    }
   },
   "outputs": [],
   "source": [
    "for synset in wn.synsets('hearts'):\n",
    "    print(synset,':',synset.definition())"
   ]
  },
  {
   "cell_type": "markdown",
   "metadata": {
    "slideshow": {
     "slide_type": "slide"
    }
   },
   "source": [
    "The type `Synset` is not to be confused with the lookup method `synsets()`."
   ]
  },
  {
   "cell_type": "code",
   "execution_count": null,
   "metadata": {
    "slideshow": {
     "slide_type": "-"
    }
   },
   "outputs": [],
   "source": [
    "help(wn.synsets)"
   ]
  },
  {
   "cell_type": "markdown",
   "metadata": {
    "slideshow": {
     "slide_type": "slide"
    }
   },
   "source": [
    "## Calculate all synonym lemmas of a synset\n",
    "Note: Synonyms are defined on the level of meanings, not words!"
   ]
  },
  {
   "cell_type": "code",
   "execution_count": null,
   "metadata": {},
   "outputs": [],
   "source": [
    "wn.synset('affection.n.01').lemma_names()"
   ]
  },
  {
   "cell_type": "markdown",
   "metadata": {
    "slideshow": {
     "slide_type": "slide"
    }
   },
   "source": [
    "What are lemmas technically as a data structure?"
   ]
  },
  {
   "cell_type": "code",
   "execution_count": null,
   "metadata": {},
   "outputs": [],
   "source": [
    "wn.synset('affection.n.01').lemmas()"
   ]
  },
  {
   "cell_type": "code",
   "execution_count": null,
   "metadata": {
    "slideshow": {
     "slide_type": "fragment"
    }
   },
   "outputs": [],
   "source": [
    "lemma1 = wn.synset('affection.n.01').lemmas()[0]\n",
    "lemma1"
   ]
  },
  {
   "cell_type": "code",
   "execution_count": null,
   "metadata": {
    "slideshow": {
     "slide_type": "fragment"
    }
   },
   "outputs": [],
   "source": [
    "help(type(lemma1))"
   ]
  },
  {
   "cell_type": "markdown",
   "metadata": {
    "slideshow": {
     "slide_type": "slide"
    }
   },
   "source": [
    "## Calculate all hyponyms of a lemma\n",
    "Remember that a lemma is always bound to a synset."
   ]
  },
  {
   "cell_type": "code",
   "execution_count": null,
   "metadata": {},
   "outputs": [],
   "source": [
    "lemma1.synset().hyponyms()"
   ]
  },
  {
   "cell_type": "markdown",
   "metadata": {
    "slideshow": {
     "slide_type": "slide"
    }
   },
   "source": [
    "## Calculate all definitions of all hyponyms of a lemma"
   ]
  },
  {
   "cell_type": "code",
   "execution_count": null,
   "metadata": {},
   "outputs": [],
   "source": [
    "for synset in lemma1.synset().hyponyms():\n",
    "    print(synset, ':',synset.definition())"
   ]
  },
  {
   "cell_type": "markdown",
   "metadata": {},
   "source": [
    "## But: Some semantic relations are defined on lemma level\n",
    "E.g. antonyms or pertainyms\n"
   ]
  },
  {
   "cell_type": "code",
   "execution_count": null,
   "metadata": {},
   "outputs": [],
   "source": [
    "smart_lemma1 = wn.lemmas('smart',pos='a')[0]\n",
    "smart_lemma1.antonyms()"
   ]
  },
  {
   "cell_type": "markdown",
   "metadata": {
    "collapsed": true,
    "slideshow": {
     "slide_type": "slide"
    }
   },
   "source": [
    "## More advanced methods\n",
    "Similarities between different meanings of two words as path distance in the word network"
   ]
  },
  {
   "cell_type": "code",
   "execution_count": null,
   "metadata": {},
   "outputs": [],
   "source": [
    "word1 = 'computer'\n",
    "word2 = 'mouse'\n",
    "for synset1 in wn.synsets(word1, pos=\"n\"):\n",
    "    for synset2 in wn.synsets(word2, pos=\"n\"):\n",
    "        print('SENSE 1:',synset1.definition())\n",
    "        print('SENSE 2:',synset2.definition())\n",
    "        print('SIMILARITY:',round(synset1.path_similarity(synset2,verbose=True),2))\n",
    "        print('WUP_SIMILARITY',round(synset1.wup_similarity(synset2),2))\n",
    "        print()"
   ]
  },
  {
   "cell_type": "markdown",
   "metadata": {
    "slideshow": {
     "slide_type": "slide"
    }
   },
   "source": [
    "# The Open Multilingual WordNet\n",
    "Using 3-letter ISO-639 language codes"
   ]
  },
  {
   "cell_type": "code",
   "execution_count": null,
   "metadata": {},
   "outputs": [],
   "source": [
    "for synset in wn.synsets(\"cavallo\", pos=\"n\", lang=\"ita\"):\n",
    "    print(synset.definition())"
   ]
  },
  {
   "cell_type": "code",
   "execution_count": null,
   "metadata": {},
   "outputs": [],
   "source": [
    "sorted(wn.langs())"
   ]
  },
  {
   "cell_type": "markdown",
   "metadata": {
    "collapsed": true,
    "slideshow": {
     "slide_type": "slide"
    }
   },
   "source": [
    "More under http://www.nltk.org/howto/wordnet.html"
   ]
  }
 ],
 "metadata": {
  "livereveal": {
   "center": true,
   "embedded": true,
   "enable_chalkboard": true,
   "scroll": true,
   "start_slideshow_at": "selected",
   "theme": "simple",
   "transition": "fade"
  }
 },
 "nbformat": 4,
 "nbformat_minor": 1
}
