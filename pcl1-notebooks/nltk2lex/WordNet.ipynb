{
 "cells": [
  {
   "cell_type": "markdown",
   "metadata": {
    "slideshow": {
     "slide_type": "slide"
    }
   },
   "source": [
    "# Semantic Word Networks: The English WordNet\n",
    "See http://wordnetweb.princeton.edu/perl/webwn for online lookup."
   ]
  },
  {
   "cell_type": "code",
   "execution_count": null,
   "metadata": {
    "slideshow": {
     "slide_type": "slide"
    }
   },
   "outputs": [],
   "source": [
    "import nltk\n",
    "from nltk.corpus import wordnet as wn"
   ]
  },
  {
   "cell_type": "markdown",
   "metadata": {},
   "source": [
    "With `as` you can introduce short names for imported objects or  modules."
   ]
  },
  {
   "cell_type": "markdown",
   "metadata": {
    "slideshow": {
     "slide_type": "slide"
    }
   },
   "source": [
    "## Find synsets (synonym sets) of a word\n",
    "How many different meanings (=synsets) does the token \"hearts\" have?"
   ]
  },
  {
   "cell_type": "code",
   "execution_count": null,
   "metadata": {},
   "outputs": [],
   "source": [
    "wn.synsets('hearts')"
   ]
  },
  {
   "cell_type": "markdown",
   "metadata": {
    "slideshow": {
     "slide_type": "slide"
    }
   },
   "source": [
    "The `Synset` class **abstracts** the relevant **data** and **methods** that contain synsets. \n",
    "\n",
    "Ok, but concretely, what are synsets technically as a data structure?"
   ]
  },
  {
   "cell_type": "code",
   "execution_count": 4,
   "metadata": {},
   "outputs": [
    {
     "name": "stdout",
     "output_type": "stream",
     "text": [
      "Help on class Synset in module nltk.corpus.reader.wordnet:\n",
      "\n",
      "class Synset(_WordNetObject)\n",
      " |  Synset(wordnet_corpus_reader)\n",
      " |  \n",
      " |  Create a Synset from a \"<lemma>.<pos>.<number>\" string where:\n",
      " |  <lemma> is the word's morphological stem\n",
      " |  <pos> is one of the module attributes ADJ, ADJ_SAT, ADV, NOUN or VERB\n",
      " |  <number> is the sense number, counting from 0.\n",
      " |  \n",
      " |  Synset attributes, accessible via methods with the same name:\n",
      " |  \n",
      " |  - name: The canonical name of this synset, formed using the first lemma\n",
      " |    of this synset. Note that this may be different from the name\n",
      " |    passed to the constructor if that string used a different lemma to\n",
      " |    identify the synset.\n",
      " |  - pos: The synset's part of speech, matching one of the module level\n",
      " |    attributes ADJ, ADJ_SAT, ADV, NOUN or VERB.\n",
      " |  - lemmas: A list of the Lemma objects for this synset.\n",
      " |  - definition: The definition for this synset.\n",
      " |  - examples: A list of example strings for this synset.\n",
      " |  - offset: The offset in the WordNet dict file of this synset.\n",
      " |  - lexname: The name of the lexicographer file containing this synset.\n",
      " |  \n",
      " |  Synset methods:\n",
      " |  \n",
      " |  Synsets have the following methods for retrieving related Synsets.\n",
      " |  They correspond to the names for the pointer symbols defined here:\n",
      " |  https://wordnet.princeton.edu/documentation/wninput5wn\n",
      " |  These methods all return lists of Synsets.\n",
      " |  \n",
      " |  - hypernyms, instance_hypernyms\n",
      " |  - hyponyms, instance_hyponyms\n",
      " |  - member_holonyms, substance_holonyms, part_holonyms\n",
      " |  - member_meronyms, substance_meronyms, part_meronyms\n",
      " |  - attributes\n",
      " |  - entailments\n",
      " |  - causes\n",
      " |  - also_sees\n",
      " |  - verb_groups\n",
      " |  - similar_tos\n",
      " |  \n",
      " |  Additionally, Synsets support the following methods specific to the\n",
      " |  hypernym relation:\n",
      " |  \n",
      " |  - root_hypernyms\n",
      " |  - common_hypernyms\n",
      " |  - lowest_common_hypernyms\n",
      " |  \n",
      " |  Note that Synsets do not support the following relations because\n",
      " |  these are defined by WordNet as lexical relations:\n",
      " |  \n",
      " |  - antonyms\n",
      " |  - derivationally_related_forms\n",
      " |  - pertainyms\n",
      " |  \n",
      " |  Method resolution order:\n",
      " |      Synset\n",
      " |      _WordNetObject\n",
      " |      builtins.object\n",
      " |  \n",
      " |  Methods defined here:\n",
      " |  \n",
      " |  __init__(self, wordnet_corpus_reader)\n",
      " |      Initialize self.  See help(type(self)) for accurate signature.\n",
      " |  \n",
      " |  __repr__(self)\n",
      " |      Return repr(self).\n",
      " |  \n",
      " |  closure(self, rel, depth=-1)\n",
      " |      Return the transitive closure of source under the rel\n",
      " |      relationship, breadth-first\n",
      " |      \n",
      " |          >>> from nltk.corpus import wordnet as wn\n",
      " |          >>> dog = wn.synset('dog.n.01')\n",
      " |          >>> hyp = lambda s:s.hypernyms()\n",
      " |          >>> list(dog.closure(hyp))\n",
      " |          [Synset('canine.n.02'), Synset('domestic_animal.n.01'),\n",
      " |          Synset('carnivore.n.01'), Synset('animal.n.01'),\n",
      " |          Synset('placental.n.01'), Synset('organism.n.01'),\n",
      " |          Synset('mammal.n.01'), Synset('living_thing.n.01'),\n",
      " |          Synset('vertebrate.n.01'), Synset('whole.n.02'),\n",
      " |          Synset('chordate.n.01'), Synset('object.n.01'),\n",
      " |          Synset('physical_entity.n.01'), Synset('entity.n.01')]\n",
      " |  \n",
      " |  common_hypernyms(self, other)\n",
      " |      Find all synsets that are hypernyms of this synset and the\n",
      " |      other synset.\n",
      " |      \n",
      " |      :type other: Synset\n",
      " |      :param other: other input synset.\n",
      " |      :return: The synsets that are hypernyms of both synsets.\n",
      " |  \n",
      " |  definition(self)\n",
      " |  \n",
      " |  examples(self)\n",
      " |  \n",
      " |  frame_ids(self)\n",
      " |  \n",
      " |  hypernym_distances(self, distance=0, simulate_root=False)\n",
      " |      Get the path(s) from this synset to the root, counting the distance\n",
      " |      of each node from the initial node on the way. A set of\n",
      " |      (synset, distance) tuples is returned.\n",
      " |      \n",
      " |      :type distance: int\n",
      " |      :param distance: the distance (number of edges) from this hypernym to\n",
      " |          the original hypernym ``Synset`` on which this method was called.\n",
      " |      :return: A set of ``(Synset, int)`` tuples where each ``Synset`` is\n",
      " |         a hypernym of the first ``Synset``.\n",
      " |  \n",
      " |  hypernym_paths(self)\n",
      " |      Get the path(s) from this synset to the root, where each path is a\n",
      " |      list of the synset nodes traversed on the way to the root.\n",
      " |      \n",
      " |      :return: A list of lists, where each list gives the node sequence\n",
      " |         connecting the initial ``Synset`` node and a root node.\n",
      " |  \n",
      " |  jcn_similarity(self, other, ic, verbose=False)\n",
      " |      Jiang-Conrath Similarity:\n",
      " |      Return a score denoting how similar two word senses are, based on the\n",
      " |      Information Content (IC) of the Least Common Subsumer (most specific\n",
      " |      ancestor node) and that of the two input Synsets. The relationship is\n",
      " |      given by the equation 1 / (IC(s1) + IC(s2) - 2 * IC(lcs)).\n",
      " |      \n",
      " |      :type  other: Synset\n",
      " |      :param other: The ``Synset`` that this ``Synset`` is being compared to.\n",
      " |      :type  ic: dict\n",
      " |      :param ic: an information content object (as returned by\n",
      " |          ``nltk.corpus.wordnet_ic.ic()``).\n",
      " |      :return: A float score denoting the similarity of the two ``Synset``\n",
      " |          objects.\n",
      " |  \n",
      " |  lch_similarity(self, other, verbose=False, simulate_root=True)\n",
      " |      Leacock Chodorow Similarity:\n",
      " |      Return a score denoting how similar two word senses are, based on the\n",
      " |      shortest path that connects the senses (as above) and the maximum depth\n",
      " |      of the taxonomy in which the senses occur. The relationship is given as\n",
      " |      -log(p/2d) where p is the shortest path length and d is the taxonomy\n",
      " |      depth.\n",
      " |      \n",
      " |      :type  other: Synset\n",
      " |      :param other: The ``Synset`` that this ``Synset`` is being compared to.\n",
      " |      :type simulate_root: bool\n",
      " |      :param simulate_root: The various verb taxonomies do not\n",
      " |          share a single root which disallows this metric from working for\n",
      " |          synsets that are not connected. This flag (True by default)\n",
      " |          creates a fake root that connects all the taxonomies. Set it\n",
      " |          to false to disable this behavior. For the noun taxonomy,\n",
      " |          there is usually a default root except for WordNet version 1.6.\n",
      " |          If you are using wordnet 1.6, a fake root will be added for nouns\n",
      " |          as well.\n",
      " |      :return: A score denoting the similarity of the two ``Synset`` objects,\n",
      " |          normally greater than 0. None is returned if no connecting path\n",
      " |          could be found. If a ``Synset`` is compared with itself, the\n",
      " |          maximum score is returned, which varies depending on the taxonomy\n",
      " |          depth.\n",
      " |  \n",
      " |  lemma_names(self, lang='eng')\n",
      " |      Return all the lemma_names associated with the synset\n",
      " |  \n",
      " |  lemmas(self, lang='eng')\n",
      " |      Return all the lemma objects associated with the synset\n",
      " |  \n",
      " |  lexname(self)\n",
      " |  \n",
      " |  lin_similarity(self, other, ic, verbose=False)\n",
      " |      Lin Similarity:\n",
      " |      Return a score denoting how similar two word senses are, based on the\n",
      " |      Information Content (IC) of the Least Common Subsumer (most specific\n",
      " |      ancestor node) and that of the two input Synsets. The relationship is\n",
      " |      given by the equation 2 * IC(lcs) / (IC(s1) + IC(s2)).\n",
      " |      \n",
      " |      :type other: Synset\n",
      " |      :param other: The ``Synset`` that this ``Synset`` is being compared to.\n",
      " |      :type ic: dict\n",
      " |      :param ic: an information content object (as returned by\n",
      " |          ``nltk.corpus.wordnet_ic.ic()``).\n",
      " |      :return: A float score denoting the similarity of the two ``Synset``\n",
      " |          objects, in the range 0 to 1.\n",
      " |  \n",
      " |  lowest_common_hypernyms(self, other, simulate_root=False, use_min_depth=False)\n",
      " |      Get a list of lowest synset(s) that both synsets have as a hypernym.\n",
      " |      When `use_min_depth == False` this means that the synset which appears\n",
      " |      as a hypernym of both `self` and `other` with the lowest maximum depth\n",
      " |      is returned or if there are multiple such synsets at the same depth\n",
      " |      they are all returned\n",
      " |      \n",
      " |      However, if `use_min_depth == True` then the synset(s) which has/have\n",
      " |      the lowest minimum depth and appear(s) in both paths is/are returned.\n",
      " |      \n",
      " |      By setting the use_min_depth flag to True, the behavior of NLTK2 can be\n",
      " |      preserved. This was changed in NLTK3 to give more accurate results in a\n",
      " |      small set of cases, generally with synsets concerning people. (eg:\n",
      " |      'chef.n.01', 'fireman.n.01', etc.)\n",
      " |      \n",
      " |      This method is an implementation of Ted Pedersen's \"Lowest Common\n",
      " |      Subsumer\" method from the Perl Wordnet module. It can return either\n",
      " |      \"self\" or \"other\" if they are a hypernym of the other.\n",
      " |      \n",
      " |      :type other: Synset\n",
      " |      :param other: other input synset\n",
      " |      :type simulate_root: bool\n",
      " |      :param simulate_root: The various verb taxonomies do not\n",
      " |          share a single root which disallows this metric from working for\n",
      " |          synsets that are not connected. This flag (False by default)\n",
      " |          creates a fake root that connects all the taxonomies. Set it\n",
      " |          to True to enable this behavior. For the noun taxonomy,\n",
      " |          there is usually a default root except for WordNet version 1.6.\n",
      " |          If you are using wordnet 1.6, a fake root will need to be added\n",
      " |          for nouns as well.\n",
      " |      :type use_min_depth: bool\n",
      " |      :param use_min_depth: This setting mimics older (v2) behavior of NLTK\n",
      " |          wordnet If True, will use the min_depth function to calculate the\n",
      " |          lowest common hypernyms. This is known to give strange results for\n",
      " |          some synset pairs (eg: 'chef.n.01', 'fireman.n.01') but is retained\n",
      " |          for backwards compatibility\n",
      " |      :return: The synsets that are the lowest common hypernyms of both\n",
      " |          synsets\n",
      " |  \n",
      " |  max_depth(self)\n",
      " |      :return: The length of the longest hypernym path from this\n",
      " |      synset to the root.\n",
      " |  \n",
      " |  min_depth(self)\n",
      " |      :return: The length of the shortest hypernym path from this\n",
      " |      synset to the root.\n",
      " |  \n",
      " |  name(self)\n",
      " |  \n",
      " |  offset(self)\n",
      " |  \n",
      " |  path_similarity(self, other, verbose=False, simulate_root=True)\n",
      " |      Path Distance Similarity:\n",
      " |      Return a score denoting how similar two word senses are, based on the\n",
      " |      shortest path that connects the senses in the is-a (hypernym/hypnoym)\n",
      " |      taxonomy. The score is in the range 0 to 1, except in those cases where\n",
      " |      a path cannot be found (will only be true for verbs as there are many\n",
      " |      distinct verb taxonomies), in which case None is returned. A score of\n",
      " |      1 represents identity i.e. comparing a sense with itself will return 1.\n",
      " |      \n",
      " |      :type other: Synset\n",
      " |      :param other: The ``Synset`` that this ``Synset`` is being compared to.\n",
      " |      :type simulate_root: bool\n",
      " |      :param simulate_root: The various verb taxonomies do not\n",
      " |          share a single root which disallows this metric from working for\n",
      " |          synsets that are not connected. This flag (True by default)\n",
      " |          creates a fake root that connects all the taxonomies. Set it\n",
      " |          to false to disable this behavior. For the noun taxonomy,\n",
      " |          there is usually a default root except for WordNet version 1.6.\n",
      " |          If you are using wordnet 1.6, a fake root will be added for nouns\n",
      " |          as well.\n",
      " |      :return: A score denoting the similarity of the two ``Synset`` objects,\n",
      " |          normally between 0 and 1. None is returned if no connecting path\n",
      " |          could be found. 1 is returned if a ``Synset`` is compared with\n",
      " |          itself.\n",
      " |  \n",
      " |  pos(self)\n",
      " |  \n",
      " |  res_similarity(self, other, ic, verbose=False)\n",
      " |      Resnik Similarity:\n",
      " |      Return a score denoting how similar two word senses are, based on the\n",
      " |      Information Content (IC) of the Least Common Subsumer (most specific\n",
      " |      ancestor node).\n",
      " |      \n",
      " |      :type  other: Synset\n",
      " |      :param other: The ``Synset`` that this ``Synset`` is being compared to.\n",
      " |      :type ic: dict\n",
      " |      :param ic: an information content object (as returned by\n",
      " |          ``nltk.corpus.wordnet_ic.ic()``).\n",
      " |      :return: A float score denoting the similarity of the two ``Synset``\n",
      " |          objects. Synsets whose LCS is the root node of the taxonomy will\n",
      " |          have a score of 0 (e.g. N['dog'][0] and N['table'][0]).\n",
      " |  \n",
      " |  root_hypernyms(self)\n",
      " |      Get the topmost hypernyms of this synset in WordNet.\n",
      " |  \n",
      " |  shortest_path_distance(self, other, simulate_root=False)\n",
      " |      Returns the distance of the shortest path linking the two synsets (if\n",
      " |      one exists). For each synset, all the ancestor nodes and their\n",
      " |      distances are recorded and compared. The ancestor node common to both\n",
      " |      synsets that can be reached with the minimum number of traversals is\n",
      " |      used. If no ancestor nodes are common, None is returned. If a node is\n",
      " |      compared with itself 0 is returned.\n",
      " |      \n",
      " |      :type other: Synset\n",
      " |      :param other: The Synset to which the shortest path will be found.\n",
      " |      :return: The number of edges in the shortest path connecting the two\n",
      " |          nodes, or None if no path exists.\n",
      " |  \n",
      " |  tree(self, rel, depth=-1, cut_mark=None)\n",
      " |      >>> from nltk.corpus import wordnet as wn\n",
      " |      >>> dog = wn.synset('dog.n.01')\n",
      " |      >>> hyp = lambda s:s.hypernyms()\n",
      " |      >>> from pprint import pprint\n",
      " |      >>> pprint(dog.tree(hyp))\n",
      " |      [Synset('dog.n.01'),\n",
      " |       [Synset('canine.n.02'),\n",
      " |        [Synset('carnivore.n.01'),\n",
      " |         [Synset('placental.n.01'),\n",
      " |          [Synset('mammal.n.01'),\n",
      " |           [Synset('vertebrate.n.01'),\n",
      " |            [Synset('chordate.n.01'),\n",
      " |             [Synset('animal.n.01'),\n",
      " |              [Synset('organism.n.01'),\n",
      " |               [Synset('living_thing.n.01'),\n",
      " |                [Synset('whole.n.02'),\n",
      " |                 [Synset('object.n.01'),\n",
      " |                  [Synset('physical_entity.n.01'),\n",
      " |                   [Synset('entity.n.01')]]]]]]]]]]]]],\n",
      " |       [Synset('domestic_animal.n.01'),\n",
      " |        [Synset('animal.n.01'),\n",
      " |         [Synset('organism.n.01'),\n",
      " |          [Synset('living_thing.n.01'),\n",
      " |           [Synset('whole.n.02'),\n",
      " |            [Synset('object.n.01'),\n",
      " |             [Synset('physical_entity.n.01'), [Synset('entity.n.01')]]]]]]]]]\n",
      " |  \n",
      " |  wup_similarity(self, other, verbose=False, simulate_root=True)\n",
      " |      Wu-Palmer Similarity:\n",
      " |      Return a score denoting how similar two word senses are, based on the\n",
      " |      depth of the two senses in the taxonomy and that of their Least Common\n",
      " |      Subsumer (most specific ancestor node). Previously, the scores computed\n",
      " |      by this implementation did _not_ always agree with those given by\n",
      " |      Pedersen's Perl implementation of WordNet Similarity. However, with\n",
      " |      the addition of the simulate_root flag (see below), the score for\n",
      " |      verbs now almost always agree but not always for nouns.\n",
      " |      \n",
      " |      The LCS does not necessarily feature in the shortest path connecting\n",
      " |      the two senses, as it is by definition the common ancestor deepest in\n",
      " |      the taxonomy, not closest to the two senses. Typically, however, it\n",
      " |      will so feature. Where multiple candidates for the LCS exist, that\n",
      " |      whose shortest path to the root node is the longest will be selected.\n",
      " |      Where the LCS has multiple paths to the root, the longer path is used\n",
      " |      for the purposes of the calculation.\n",
      " |      \n",
      " |      :type  other: Synset\n",
      " |      :param other: The ``Synset`` that this ``Synset`` is being compared to.\n",
      " |      :type simulate_root: bool\n",
      " |      :param simulate_root: The various verb taxonomies do not\n",
      " |          share a single root which disallows this metric from working for\n",
      " |          synsets that are not connected. This flag (True by default)\n",
      " |          creates a fake root that connects all the taxonomies. Set it\n",
      " |          to false to disable this behavior. For the noun taxonomy,\n",
      " |          there is usually a default root except for WordNet version 1.6.\n",
      " |          If you are using wordnet 1.6, a fake root will be added for nouns\n",
      " |          as well.\n",
      " |      :return: A float score denoting the similarity of the two ``Synset``\n",
      " |          objects, normally greater than zero. If no connecting path between\n",
      " |          the two senses can be found, None is returned.\n",
      " |  \n",
      " |  ----------------------------------------------------------------------\n",
      " |  Methods inherited from _WordNetObject:\n",
      " |  \n",
      " |  __eq__(self, other)\n",
      " |      Return self==value.\n",
      " |  \n",
      " |  __ge__(self, other, NotImplemented=NotImplemented)\n",
      " |      Return a >= b.  Computed by @total_ordering from (not a < b).\n",
      " |  \n",
      " |  __gt__(self, other, NotImplemented=NotImplemented)\n",
      " |      Return a > b.  Computed by @total_ordering from (not a < b) and (a != b).\n",
      " |  \n",
      " |  __hash__(self)\n",
      " |      Return hash(self).\n",
      " |  \n",
      " |  __le__(self, other, NotImplemented=NotImplemented)\n",
      " |      Return a <= b.  Computed by @total_ordering from (a < b) or (a == b).\n",
      " |  \n",
      " |  __lt__(self, other)\n",
      " |      Return self<value.\n",
      " |  \n",
      " |  __ne__(self, other)\n",
      " |      Return self!=value.\n",
      " |  \n",
      " |  also_sees(self)\n",
      " |  \n",
      " |  attributes(self)\n",
      " |  \n",
      " |  causes(self)\n",
      " |  \n",
      " |  entailments(self)\n",
      " |  \n",
      " |  hypernyms(self)\n",
      " |  \n",
      " |  hyponyms(self)\n",
      " |  \n",
      " |  in_region_domains(self)\n",
      " |  \n",
      " |  in_topic_domains(self)\n",
      " |  \n",
      " |  in_usage_domains(self)\n",
      " |  \n",
      " |  instance_hypernyms(self)\n",
      " |  \n",
      " |  instance_hyponyms(self)\n",
      " |  \n",
      " |  member_holonyms(self)\n",
      " |  \n",
      " |  member_meronyms(self)\n",
      " |  \n",
      " |  part_holonyms(self)\n",
      " |  \n",
      " |  part_meronyms(self)\n",
      " |  \n",
      " |  region_domains(self)\n",
      " |  \n",
      " |  similar_tos(self)\n",
      " |  \n",
      " |  substance_holonyms(self)\n",
      " |  \n",
      " |  substance_meronyms(self)\n",
      " |  \n",
      " |  topic_domains(self)\n",
      " |  \n",
      " |  usage_domains(self)\n",
      " |  \n",
      " |  verb_groups(self)\n",
      " |  \n",
      " |  ----------------------------------------------------------------------\n",
      " |  Data descriptors inherited from _WordNetObject:\n",
      " |  \n",
      " |  __dict__\n",
      " |      dictionary for instance variables (if defined)\n",
      " |  \n",
      " |  __weakref__\n",
      " |      list of weak references to the object (if defined)\n",
      "\n"
     ]
    }
   ],
   "source": [
    "sense1 = wn.synsets('hearts')[0]\n",
    "help(type(sense1))"
   ]
  },
  {
   "cell_type": "markdown",
   "metadata": {
    "slideshow": {
     "slide_type": "slide"
    }
   },
   "source": [
    "Okay, but what do these synsets actually mean? The method `definition()` gives human understandable information.\n",
    "Expectedly, the search word is not always the canonical lemma for a synonym set."
   ]
  },
  {
   "cell_type": "code",
   "execution_count": 5,
   "metadata": {
    "slideshow": {
     "slide_type": "-"
    }
   },
   "outputs": [
    {
     "name": "stdout",
     "output_type": "stream",
     "text": [
      "Synset('hearts.n.01') : a form of whist in which players avoid winning tricks containing hearts or the queen of spades\n",
      "Synset('heart.n.01') : the locus of feelings and intuitions\n",
      "Synset('heart.n.02') : the hollow muscular organ located behind the sternum and between the lungs; its rhythmic contractions move the blood through the body\n",
      "Synset('heart.n.03') : the courage to carry on\n",
      "Synset('center.n.01') : an area that is approximately central within some larger region\n",
      "Synset('kernel.n.03') : the choicest or most essential or most vital part of some idea or experience\n",
      "Synset('heart.n.06') : an inclination or tendency of a certain kind\n",
      "Synset('heart.n.07') : a plane figure with rounded sides curving inward at the top and intersecting at the bottom; conventionally used on playing cards and valentines\n",
      "Synset('heart.n.08') : a firm rather dry variety meat (usually beef or veal)\n",
      "Synset('affection.n.01') : a positive feeling of liking\n",
      "Synset('heart.n.10') : a playing card in the major suit that has one or more red hearts on it\n"
     ]
    }
   ],
   "source": [
    "for synset in wn.synsets('hearts'):\n",
    "    print(synset,':',synset.definition())"
   ]
  },
  {
   "cell_type": "markdown",
   "metadata": {
    "slideshow": {
     "slide_type": "slide"
    }
   },
   "source": [
    "The type `Synset` is not to be confused with the lookup method `synsets()`."
   ]
  },
  {
   "cell_type": "code",
   "execution_count": 6,
   "metadata": {
    "slideshow": {
     "slide_type": "-"
    }
   },
   "outputs": [
    {
     "name": "stdout",
     "output_type": "stream",
     "text": [
      "Help on method synsets in module nltk.corpus.reader.wordnet:\n",
      "\n",
      "synsets(lemma, pos=None, lang='eng', check_exceptions=True) method of nltk.corpus.reader.wordnet.WordNetCorpusReader instance\n",
      "    Load all synsets with a given lemma and part of speech tag.\n",
      "    If no pos is specified, all synsets for all parts of speech\n",
      "    will be loaded.\n",
      "    If lang is specified, all the synsets associated with the lemma name\n",
      "    of that language will be returned.\n",
      "\n"
     ]
    }
   ],
   "source": [
    "help(wn.synsets)"
   ]
  },
  {
   "cell_type": "markdown",
   "metadata": {
    "slideshow": {
     "slide_type": "slide"
    }
   },
   "source": [
    "## Calculate all synonym lemmas of a synset\n",
    "Note: Synonyms are defined on the level of meanings, not words!"
   ]
  },
  {
   "cell_type": "code",
   "execution_count": 7,
   "metadata": {},
   "outputs": [
    {
     "data": {
      "text/plain": [
       "['affection',\n",
       " 'affectionateness',\n",
       " 'fondness',\n",
       " 'tenderness',\n",
       " 'heart',\n",
       " 'warmness',\n",
       " 'warmheartedness',\n",
       " 'philia']"
      ]
     },
     "execution_count": 7,
     "metadata": {},
     "output_type": "execute_result"
    }
   ],
   "source": [
    "wn.synset('affection.n.01').lemma_names()"
   ]
  },
  {
   "cell_type": "markdown",
   "metadata": {
    "slideshow": {
     "slide_type": "slide"
    }
   },
   "source": [
    "What are lemmas technically as a data structure?"
   ]
  },
  {
   "cell_type": "code",
   "execution_count": 8,
   "metadata": {},
   "outputs": [
    {
     "data": {
      "text/plain": [
       "[Lemma('affection.n.01.affection'),\n",
       " Lemma('affection.n.01.affectionateness'),\n",
       " Lemma('affection.n.01.fondness'),\n",
       " Lemma('affection.n.01.tenderness'),\n",
       " Lemma('affection.n.01.heart'),\n",
       " Lemma('affection.n.01.warmness'),\n",
       " Lemma('affection.n.01.warmheartedness'),\n",
       " Lemma('affection.n.01.philia')]"
      ]
     },
     "execution_count": 8,
     "metadata": {},
     "output_type": "execute_result"
    }
   ],
   "source": [
    "wn.synset('affection.n.01').lemmas()"
   ]
  },
  {
   "cell_type": "code",
   "execution_count": 9,
   "metadata": {
    "slideshow": {
     "slide_type": "fragment"
    }
   },
   "outputs": [
    {
     "data": {
      "text/plain": [
       "Lemma('affection.n.01.affection')"
      ]
     },
     "execution_count": 9,
     "metadata": {},
     "output_type": "execute_result"
    }
   ],
   "source": [
    "lemma1 = wn.synset('affection.n.01').lemmas()[0]\n",
    "lemma1"
   ]
  },
  {
   "cell_type": "code",
   "execution_count": 10,
   "metadata": {
    "slideshow": {
     "slide_type": "fragment"
    }
   },
   "outputs": [
    {
     "name": "stdout",
     "output_type": "stream",
     "text": [
      "Help on class Lemma in module nltk.corpus.reader.wordnet:\n",
      "\n",
      "class Lemma(_WordNetObject)\n",
      " |  Lemma(wordnet_corpus_reader, synset, name, lexname_index, lex_id, syntactic_marker)\n",
      " |  \n",
      " |  The lexical entry for a single morphological form of a\n",
      " |  sense-disambiguated word.\n",
      " |  \n",
      " |  Create a Lemma from a \"<word>.<pos>.<number>.<lemma>\" string where:\n",
      " |  <word> is the morphological stem identifying the synset\n",
      " |  <pos> is one of the module attributes ADJ, ADJ_SAT, ADV, NOUN or VERB\n",
      " |  <number> is the sense number, counting from 0.\n",
      " |  <lemma> is the morphological form of interest\n",
      " |  \n",
      " |  Note that <word> and <lemma> can be different, e.g. the Synset\n",
      " |  'salt.n.03' has the Lemmas 'salt.n.03.salt', 'salt.n.03.saltiness' and\n",
      " |  'salt.n.03.salinity'.\n",
      " |  \n",
      " |  Lemma attributes, accessible via methods with the same name:\n",
      " |  \n",
      " |  - name: The canonical name of this lemma.\n",
      " |  - synset: The synset that this lemma belongs to.\n",
      " |  - syntactic_marker: For adjectives, the WordNet string identifying the\n",
      " |    syntactic position relative modified noun. See:\n",
      " |    https://wordnet.princeton.edu/documentation/wninput5wn\n",
      " |    For all other parts of speech, this attribute is None.\n",
      " |  - count: The frequency of this lemma in wordnet.\n",
      " |  \n",
      " |  Lemma methods:\n",
      " |  \n",
      " |  Lemmas have the following methods for retrieving related Lemmas. They\n",
      " |  correspond to the names for the pointer symbols defined here:\n",
      " |  https://wordnet.princeton.edu/documentation/wninput5wn\n",
      " |  These methods all return lists of Lemmas:\n",
      " |  \n",
      " |  - antonyms\n",
      " |  - hypernyms, instance_hypernyms\n",
      " |  - hyponyms, instance_hyponyms\n",
      " |  - member_holonyms, substance_holonyms, part_holonyms\n",
      " |  - member_meronyms, substance_meronyms, part_meronyms\n",
      " |  - topic_domains, region_domains, usage_domains\n",
      " |  - attributes\n",
      " |  - derivationally_related_forms\n",
      " |  - entailments\n",
      " |  - causes\n",
      " |  - also_sees\n",
      " |  - verb_groups\n",
      " |  - similar_tos\n",
      " |  - pertainyms\n",
      " |  \n",
      " |  Method resolution order:\n",
      " |      Lemma\n",
      " |      _WordNetObject\n",
      " |      builtins.object\n",
      " |  \n",
      " |  Methods defined here:\n",
      " |  \n",
      " |  __init__(self, wordnet_corpus_reader, synset, name, lexname_index, lex_id, syntactic_marker)\n",
      " |      Initialize self.  See help(type(self)) for accurate signature.\n",
      " |  \n",
      " |  __repr__(self)\n",
      " |      Return repr(self).\n",
      " |  \n",
      " |  antonyms(self)\n",
      " |  \n",
      " |  count(self)\n",
      " |      Return the frequency count for this Lemma\n",
      " |  \n",
      " |  derivationally_related_forms(self)\n",
      " |  \n",
      " |  frame_ids(self)\n",
      " |  \n",
      " |  frame_strings(self)\n",
      " |  \n",
      " |  key(self)\n",
      " |  \n",
      " |  lang(self)\n",
      " |  \n",
      " |  name(self)\n",
      " |  \n",
      " |  pertainyms(self)\n",
      " |  \n",
      " |  synset(self)\n",
      " |  \n",
      " |  syntactic_marker(self)\n",
      " |  \n",
      " |  ----------------------------------------------------------------------\n",
      " |  Methods inherited from _WordNetObject:\n",
      " |  \n",
      " |  __eq__(self, other)\n",
      " |      Return self==value.\n",
      " |  \n",
      " |  __ge__(self, other, NotImplemented=NotImplemented)\n",
      " |      Return a >= b.  Computed by @total_ordering from (not a < b).\n",
      " |  \n",
      " |  __gt__(self, other, NotImplemented=NotImplemented)\n",
      " |      Return a > b.  Computed by @total_ordering from (not a < b) and (a != b).\n",
      " |  \n",
      " |  __hash__(self)\n",
      " |      Return hash(self).\n",
      " |  \n",
      " |  __le__(self, other, NotImplemented=NotImplemented)\n",
      " |      Return a <= b.  Computed by @total_ordering from (a < b) or (a == b).\n",
      " |  \n",
      " |  __lt__(self, other)\n",
      " |      Return self<value.\n",
      " |  \n",
      " |  __ne__(self, other)\n",
      " |      Return self!=value.\n",
      " |  \n",
      " |  also_sees(self)\n",
      " |  \n",
      " |  attributes(self)\n",
      " |  \n",
      " |  causes(self)\n",
      " |  \n",
      " |  entailments(self)\n",
      " |  \n",
      " |  hypernyms(self)\n",
      " |  \n",
      " |  hyponyms(self)\n",
      " |  \n",
      " |  in_region_domains(self)\n",
      " |  \n",
      " |  in_topic_domains(self)\n",
      " |  \n",
      " |  in_usage_domains(self)\n",
      " |  \n",
      " |  instance_hypernyms(self)\n",
      " |  \n",
      " |  instance_hyponyms(self)\n",
      " |  \n",
      " |  member_holonyms(self)\n",
      " |  \n",
      " |  member_meronyms(self)\n",
      " |  \n",
      " |  part_holonyms(self)\n",
      " |  \n",
      " |  part_meronyms(self)\n",
      " |  \n",
      " |  region_domains(self)\n",
      " |  \n",
      " |  similar_tos(self)\n",
      " |  \n",
      " |  substance_holonyms(self)\n",
      " |  \n",
      " |  substance_meronyms(self)\n",
      " |  \n",
      " |  topic_domains(self)\n",
      " |  \n",
      " |  usage_domains(self)\n",
      " |  \n",
      " |  verb_groups(self)\n",
      " |  \n",
      " |  ----------------------------------------------------------------------\n",
      " |  Data descriptors inherited from _WordNetObject:\n",
      " |  \n",
      " |  __dict__\n",
      " |      dictionary for instance variables (if defined)\n",
      " |  \n",
      " |  __weakref__\n",
      " |      list of weak references to the object (if defined)\n",
      "\n"
     ]
    }
   ],
   "source": [
    "help(type(lemma1))"
   ]
  },
  {
   "cell_type": "markdown",
   "metadata": {
    "slideshow": {
     "slide_type": "slide"
    }
   },
   "source": [
    "## Calculate all hyponyms of a lemma\n",
    "Remember that a lemma is always bound to a synset."
   ]
  },
  {
   "cell_type": "code",
   "execution_count": 11,
   "metadata": {},
   "outputs": [
    {
     "data": {
      "text/plain": [
       "[Synset('attachment.n.01'),\n",
       " Synset('protectiveness.n.01'),\n",
       " Synset('regard.n.06'),\n",
       " Synset('soft_spot.n.02')]"
      ]
     },
     "execution_count": 11,
     "metadata": {},
     "output_type": "execute_result"
    }
   ],
   "source": [
    "lemma1.synset().hyponyms()"
   ]
  },
  {
   "cell_type": "markdown",
   "metadata": {
    "slideshow": {
     "slide_type": "slide"
    }
   },
   "source": [
    "## Calculate all definitions of all hyponyms of a lemma"
   ]
  },
  {
   "cell_type": "code",
   "execution_count": 12,
   "metadata": {},
   "outputs": [
    {
     "name": "stdout",
     "output_type": "stream",
     "text": [
      "Synset('attachment.n.01') : a feeling of affection for a person or an institution\n",
      "Synset('protectiveness.n.01') : a feeling of protective affection\n",
      "Synset('regard.n.06') : a feeling of friendship and esteem\n",
      "Synset('soft_spot.n.02') : a sentimental affection\n"
     ]
    }
   ],
   "source": [
    "for synset in lemma1.synset().hyponyms():\n",
    "    print(synset, ':',synset.definition())"
   ]
  },
  {
   "cell_type": "markdown",
   "metadata": {},
   "source": [
    "## Some semantic relations are defined on lemma level\n",
    "E.g. antonyms or pertainyms\n"
   ]
  },
  {
   "cell_type": "code",
   "execution_count": 13,
   "metadata": {},
   "outputs": [
    {
     "data": {
      "text/plain": [
       "[Lemma('stupid.a.01.stupid')]"
      ]
     },
     "execution_count": 13,
     "metadata": {},
     "output_type": "execute_result"
    }
   ],
   "source": [
    "smart_lemma1 = wn.lemmas('smart',pos='a')[0]\n",
    "smart_lemma1.antonyms()"
   ]
  },
  {
   "cell_type": "markdown",
   "metadata": {
    "collapsed": true,
    "slideshow": {
     "slide_type": "slide"
    }
   },
   "source": [
    "## More advanced methods\n",
    "Similarities between different meanings of two words as path distance in the word network"
   ]
  },
  {
   "cell_type": "code",
   "execution_count": 14,
   "metadata": {},
   "outputs": [
    {
     "name": "stdout",
     "output_type": "stream",
     "text": [
      "SENSE 1: a machine for performing calculations automatically\n",
      "SENSE 2: any of numerous small rodents typically resembling diminutive rats having pointed snouts and small ears on elongated bodies with slender usually hairless tails\n",
      "SIMILARITY: 0.06666666666666667\n",
      "WUP_SIMILARITY 0.36363636363636365\n",
      "\n",
      "SENSE 1: a machine for performing calculations automatically\n",
      "SENSE 2: a swollen bruise caused by a blow to the eye\n",
      "SIMILARITY: 0.05263157894736842\n",
      "WUP_SIMILARITY 0.1\n",
      "\n",
      "SENSE 1: a machine for performing calculations automatically\n",
      "SENSE 2: person who is quiet or timid\n",
      "SIMILARITY: 0.1\n",
      "WUP_SIMILARITY 0.47058823529411764\n",
      "\n",
      "SENSE 1: a machine for performing calculations automatically\n",
      "SENSE 2: a hand-operated electronic device that controls the coordinates of a cursor on your computer screen as you move it around on a pad; on the bottom of the device is a ball that rolls on the surface of the pad\n",
      "SIMILARITY: 0.2\n",
      "WUP_SIMILARITY 0.7777777777777778\n",
      "\n",
      "SENSE 1: an expert at calculation (or at operating calculating machines)\n",
      "SENSE 2: any of numerous small rodents typically resembling diminutive rats having pointed snouts and small ears on elongated bodies with slender usually hairless tails\n",
      "SIMILARITY: 0.09090909090909091\n",
      "WUP_SIMILARITY 0.5454545454545454\n",
      "\n",
      "SENSE 1: an expert at calculation (or at operating calculating machines)\n",
      "SENSE 2: a swollen bruise caused by a blow to the eye\n",
      "SIMILARITY: 0.0625\n",
      "WUP_SIMILARITY 0.11764705882352941\n",
      "\n",
      "SENSE 1: an expert at calculation (or at operating calculating machines)\n",
      "SENSE 2: person who is quiet or timid\n",
      "SIMILARITY: 0.25\n",
      "WUP_SIMILARITY 0.7058823529411765\n",
      "\n",
      "SENSE 1: an expert at calculation (or at operating calculating machines)\n",
      "SENSE 2: a hand-operated electronic device that controls the coordinates of a cursor on your computer screen as you move it around on a pad; on the bottom of the device is a ball that rolls on the surface of the pad\n",
      "SIMILARITY: 0.09090909090909091\n",
      "WUP_SIMILARITY 0.4444444444444444\n",
      "\n"
     ]
    }
   ],
   "source": [
    "word1 = 'computer'\n",
    "word2 = 'mouse'\n",
    "for synset1 in wn.synsets(word1, pos=\"n\"):\n",
    "    for synset2 in wn.synsets(word2, pos=\"n\"):\n",
    "        print('SENSE 1:',synset1.definition())\n",
    "        print('SENSE 2:',synset2.definition())\n",
    "        print('SIMILARITY:',synset1.path_similarity(synset2,verbose=True))\n",
    "        print('WUP_SIMILARITY',synset1.wup_similarity(synset2))\n",
    "        print()"
   ]
  },
  {
   "cell_type": "markdown",
   "metadata": {
    "slideshow": {
     "slide_type": "slide"
    }
   },
   "source": [
    "# The Open Multilingual WordNet\n",
    "Using 3-letter ISO-639 language codes"
   ]
  },
  {
   "cell_type": "code",
   "execution_count": 15,
   "metadata": {},
   "outputs": [
    {
     "name": "stdout",
     "output_type": "stream",
     "text": [
      "solid-hoofed herbivorous quadruped domesticated since prehistoric times\n",
      "a padded gymnastic apparatus on legs\n",
      "a chessman shaped to resemble the head of a horse; can move two squares horizontally and one vertically (or vice versa)\n",
      "a unit of power equal to 746 watts\n"
     ]
    }
   ],
   "source": [
    "for synset in wn.synsets(\"cavallo\", pos=\"n\", lang=\"ita\"):\n",
    "    print(synset.definition())"
   ]
  },
  {
   "cell_type": "code",
   "execution_count": null,
   "metadata": {},
   "outputs": [],
   "source": [
    "sorted(wn.langs())"
   ]
  },
  {
   "cell_type": "markdown",
   "metadata": {
    "collapsed": true,
    "slideshow": {
     "slide_type": "slide"
    }
   },
   "source": [
    "More under http://www.nltk.org/howto/wordnet.html"
   ]
  },
  {
   "cell_type": "code",
   "execution_count": null,
   "metadata": {},
   "outputs": [],
   "source": []
  }
 ],
 "metadata": {
  "anaconda-cloud": {},
  "celltoolbar": "Slideshow",
  "kernelspec": {
   "display_name": "Python 3",
   "language": "python",
   "name": "python3"
  },
  "language_info": {
   "codemirror_mode": {
    "name": "ipython",
    "version": 3
   },
   "file_extension": ".py",
   "mimetype": "text/x-python",
   "name": "python",
   "nbconvert_exporter": "python",
   "pygments_lexer": "ipython3",
   "version": "3.7.3"
  },
  "latex_envs": {
   "bibliofile": "biblio.bib",
   "cite_by": "apalike",
   "current_citInitial": 1,
   "eqLabelWithNumbers": true,
   "eqNumInitial": 0
  },
  "livereveal": {
   "center": true,
   "embedded": true,
   "enable_chalkboard": true,
   "scroll": true,
   "start_slideshow_at": "selected",
   "theme": "simple",
   "transition": "fade"
  }
 },
 "nbformat": 4,
 "nbformat_minor": 1
}
