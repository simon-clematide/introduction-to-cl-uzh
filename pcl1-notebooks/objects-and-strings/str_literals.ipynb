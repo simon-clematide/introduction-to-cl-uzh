{
 "cells": [
  {
   "cell_type": "markdown",
   "metadata": {
    "slideshow": {
     "slide_type": "slide"
    }
   },
   "source": [
    "# Literals for the Data Type `str`\n",
    "Learning goals:\n",
    " - Know the different ways, literals of type `str`can be written in source code.\n",
    " - Understand what this differences actually mean."
   ]
  },
  {
   "cell_type": "markdown",
   "metadata": {
    "slideshow": {
     "slide_type": "slide"
    }
   },
   "source": [
    "Single-line (!) Unicode character string with escape sequences"
   ]
  },
  {
   "cell_type": "code",
   "execution_count": null,
   "metadata": {},
   "outputs": [],
   "source": [
    "s1 = \"a\\n\\x61\"\n",
    "\n",
    "print(\"Canonical s1:\", repr(s1))\n",
    "print(\"Printed   s1:\", s1)"
   ]
  },
  {
   "cell_type": "markdown",
   "metadata": {
    "slideshow": {
     "slide_type": "slide"
    }
   },
   "source": [
    "## Raw strings\n",
    "Backslash is a normal literal character"
   ]
  },
  {
   "cell_type": "code",
   "execution_count": null,
   "metadata": {},
   "outputs": [],
   "source": [
    "s2 = r\"a\\n\\x61\"\n",
    "\n",
    "print(\"Canonical s2:\", repr(s2))\n",
    "print(\"Printed   s2:\", s2)"
   ]
  },
  {
   "cell_type": "markdown",
   "metadata": {
    "slideshow": {
     "slide_type": "slide"
    }
   },
   "source": [
    "## Multiline character strings\n",
    "Newlines are allowed"
   ]
  },
  {
   "cell_type": "code",
   "execution_count": null,
   "metadata": {},
   "outputs": [],
   "source": [
    "s3 = \"\"\"a\n",
    "a\"\"\"\n",
    "\n",
    "print(\"Canonical s3:\", repr(s3))\n",
    "print(\"Printed   s3:\", s3)"
   ]
  },
  {
   "cell_type": "markdown",
   "metadata": {
    "slideshow": {
     "slide_type": "slide"
    }
   },
   "source": [
    "## Multiline raw character strings"
   ]
  },
  {
   "cell_type": "code",
   "execution_count": null,
   "metadata": {
    "slideshow": {
     "slide_type": "-"
    }
   },
   "outputs": [],
   "source": [
    "# Raw Longstrings\n",
    "s4 = r\"\"\"a\n",
    "a\"\"\"\n",
    "\n",
    "print(\"Canonical s4:\", repr(s4))\n",
    "print(\"Printed   s4:\", s4)"
   ]
  },
  {
   "cell_type": "markdown",
   "metadata": {},
   "source": [
    "Think: How does the canonical representation of strings look like?"
   ]
  }
 ],
 "metadata": {
  "rise": {
   "center": false,
   "embedded": false,
   "scroll": true,
   "start_slideshow_at": "selected",
   "theme": "simple",
   "transition": "fade"
  }
 },
 "nbformat": 4,
 "nbformat_minor": 1
}
