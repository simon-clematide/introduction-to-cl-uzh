{
 "cells": [
  {
   "cell_type": "markdown",
   "id": "c5af4554",
   "metadata": {
    "slideshow": {
     "slide_type": "slide"
    }
   },
   "source": [
    "# Where are constructors, objects, attributes, methods, side-effects?\n",
    "Learning goals:\n",
    " - Understand how to call different parts of Python code using the correct terminology\n",
    " - Being able to identify expressions in code that evaluate to a value\n",
    " - Being able to spot expressions that are only evaluated for their side-effect\n",
    " - Understanding the evaluation order of arguments in complex Python expressions"
   ]
  },
  {
   "cell_type": "markdown",
   "id": "d159d0d0",
   "metadata": {
    "slideshow": {
     "slide_type": "slide"
    }
   },
   "source": [
    "Install the module for working with Excel sheets"
   ]
  },
  {
   "cell_type": "code",
   "execution_count": null,
   "id": "31dcf6f4",
   "metadata": {
    "slideshow": {
     "slide_type": "-"
    }
   },
   "outputs": [],
   "source": [
    "! pip install openpyxl"
   ]
  },
  {
   "cell_type": "markdown",
   "id": "d0d0820c",
   "metadata": {
    "slideshow": {
     "slide_type": "slide"
    }
   },
   "source": [
    "Try to find expressions in the code below and determine their type"
   ]
  },
  {
   "cell_type": "code",
   "execution_count": null,
   "id": "9e858027",
   "metadata": {},
   "outputs": [],
   "source": [
    "from openpyxl import Workbook\n",
    "wb = Workbook()\n",
    "ws = wb.active\n",
    "ws.title = \"Skitouren\"\n",
    "ws[\"B1\"] = \"Matterhorn\"\n",
    "ws1 = wb.create_sheet(\"Schneeschuhtouren\")\n",
    "wb.save(\"sample.xlsx\")"
   ]
  },
  {
   "cell_type": "markdown",
   "id": "64736a54",
   "metadata": {
    "slideshow": {
     "slide_type": "slide"
    }
   },
   "source": [
    "Simple recipe: Use the function `type()` on different parts of the code. If a stretch of code can be evaluated, then it is an expression. The type will tell you more about the kind of value your are dealing with."
   ]
  },
  {
   "cell_type": "code",
   "execution_count": null,
   "id": "e0cebb3b",
   "metadata": {},
   "outputs": [],
   "source": [
    "print(type(ws[\"B1\"]))"
   ]
  },
  {
   "cell_type": "markdown",
   "id": "4009209a",
   "metadata": {},
   "source": [
    "Aha, this is a Cell object (and not a string as the dictionary-like assignment might have tricked you in). It seems to be a kind of container."
   ]
  },
  {
   "cell_type": "code",
   "execution_count": null,
   "id": "7f6280fb",
   "metadata": {},
   "outputs": [],
   "source": [
    "ws[\"B1\"]"
   ]
  },
  {
   "cell_type": "markdown",
   "id": "305feb6f",
   "metadata": {
    "slideshow": {
     "slide_type": "slide"
    }
   },
   "source": [
    "Important: Not all occurrences of this piece of code are an expression. E.g. the left-hand side of an assignment is a target of a value, not an expression. See the following:"
   ]
  },
  {
   "cell_type": "code",
   "execution_count": null,
   "id": "5aeee963",
   "metadata": {},
   "outputs": [],
   "source": [
    "type(ws[\"B1\"]) = \"Matterhorn\""
   ]
  },
  {
   "cell_type": "code",
   "execution_count": null,
   "id": "51ecc538",
   "metadata": {},
   "outputs": [],
   "source": [
    "print(type(Workbook))"
   ]
  },
  {
   "cell_type": "markdown",
   "id": "33b52ee1",
   "metadata": {},
   "source": [
    "Aha, this is an object of class type, in other words a class. And yes, when we call it, it is a constructor."
   ]
  },
  {
   "cell_type": "code",
   "execution_count": null,
   "id": "ea92fd1e",
   "metadata": {},
   "outputs": [],
   "source": [
    "print(type(Workbook()))"
   ]
  },
  {
   "cell_type": "markdown",
   "id": "3010dfd0",
   "metadata": {},
   "source": [
    "What about attributes of a workbook? What is the `title` attribute's type?"
   ]
  },
  {
   "cell_type": "code",
   "execution_count": null,
   "id": "c1ac8520",
   "metadata": {
    "slideshow": {
     "slide_type": "slide"
    }
   },
   "outputs": [],
   "source": [
    "print(type(ws.title))"
   ]
  },
  {
   "cell_type": "markdown",
   "id": "de4ca881",
   "metadata": {},
   "source": [
    "Functions or methods that are only called because of their side-effects return None, which has type `NoneType`"
   ]
  },
  {
   "cell_type": "code",
   "execution_count": null,
   "id": "b3b080cf",
   "metadata": {},
   "outputs": [],
   "source": [
    "type(wb.save(\"sample.xlsx\"))"
   ]
  },
  {
   "cell_type": "markdown",
   "id": "34ccb7ee",
   "metadata": {},
   "source": [
    "Try yourself now..."
   ]
  },
  {
   "cell_type": "markdown",
   "id": "06d14ca9",
   "metadata": {
    "slideshow": {
     "slide_type": "slide"
    }
   },
   "source": [
    "## BTW, you can play with the riddle of side effects and short-circuits here\n",
    "How would you describe the evaluation order of an expression in Python?"
   ]
  },
  {
   "cell_type": "code",
   "execution_count": null,
   "id": "eaa853f9",
   "metadata": {},
   "outputs": [],
   "source": [
    "print(print('a',print('strange')) or print('riddle'))"
   ]
  }
 ],
 "metadata": {
  "kernelspec": {
   "display_name": "Python 3 (ipykernel)",
   "language": "python",
   "name": "python3"
  },
  "language_info": {
   "codemirror_mode": {
    "name": "ipython",
    "version": 3
   },
   "file_extension": ".py",
   "mimetype": "text/x-python",
   "name": "python",
   "nbconvert_exporter": "python",
   "pygments_lexer": "ipython3",
   "version": "3.12.6"
  },
  "rise": {
   "center": false,
   "embedded": false,
   "scroll": true,
   "start_slideshow_at": "selected",
   "theme": "simple",
   "transition": "fade"
  }
 },
 "nbformat": 4,
 "nbformat_minor": 5
}
