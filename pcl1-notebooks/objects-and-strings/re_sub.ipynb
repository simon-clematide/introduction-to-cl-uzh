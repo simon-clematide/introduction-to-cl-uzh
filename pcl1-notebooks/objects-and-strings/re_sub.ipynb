{
 "cells": [
  {
   "cell_type": "markdown",
   "metadata": {},
   "source": [
    "# Substitution of matched substrings"
   ]
  },
  {
   "cell_type": "code",
   "execution_count": null,
   "metadata": {},
   "outputs": [],
   "source": [
    "import re\n",
    "\n",
    "text = \"Hässliche Köche verdürben das Gebräu\"\n",
    "\n",
    "pattern = r\"([aeiouäöü]+)\"\n",
    "\n",
    "# Matched groups can be inserted in the replacement text.\n",
    "# \\N (N is the N-th grouping bracket in the pattern)\n",
    "replacement = r\"[\\1]\"\n",
    "\n",
    "print(re.sub(pattern, replacement, text))\n"
   ]
  },
  {
   "cell_type": "code",
   "execution_count": null,
   "metadata": {},
   "outputs": [],
   "source": []
  }
 ],
 "metadata": {
  "kernelspec": {
   "display_name": "Python 3",
   "language": "python",
   "name": "python3"
  },
  "language_info": {
   "codemirror_mode": {
    "name": "ipython",
    "version": 3
   },
   "file_extension": ".py",
   "mimetype": "text/x-python",
   "name": "python",
   "nbconvert_exporter": "python",
   "pygments_lexer": "ipython3"
  }
 },
 "nbformat": 4,
 "nbformat_minor": 2
}
