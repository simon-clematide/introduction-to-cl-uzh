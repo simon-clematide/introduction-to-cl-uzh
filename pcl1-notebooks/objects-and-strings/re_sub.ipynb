{
 "cells": [
  {
   "cell_type": "markdown",
   "metadata": {
    "slideshow": {
     "slide_type": "slide"
    }
   },
   "source": [
    "# Substitution of matched substrings\n",
    "Learning goals:\n",
    " - Understand why replacement strings with backreferences also need rawstring decoration\n",
    " - Understand how the backslash can be used to remove the special meaning of itself"
   ]
  },
  {
   "cell_type": "code",
   "execution_count": null,
   "metadata": {
    "slideshow": {
     "slide_type": "slide"
    }
   },
   "outputs": [],
   "source": [
    "import re\n",
    "\n",
    "text = \"Hässliche Köche verdürben das Gebräu\"\n",
    "\n",
    "pattern = r\"([aeiouäöü]+)\"\n",
    "\n",
    "# Matched groups can be inserted in the replacement text.\n",
    "# \\N (N is the N-th grouping bracket in the pattern)\n",
    "replacement = r\"[\\1]\"\n",
    "\n",
    "print(re.sub(pattern, replacement, text))\n"
   ]
  },
  {
   "cell_type": "markdown",
   "metadata": {},
   "source": [
    "What happens if we forget the `r` in front of the replacement? Remember, the replacement is a normal string optionally interspersed with references to captured groups."
   ]
  },
  {
   "cell_type": "code",
   "execution_count": null,
   "metadata": {},
   "outputs": [],
   "source": [
    "replacement = \"[\\1]\"\n",
    "\n",
    "print(re.sub(pattern, replacement, text))\n"
   ]
  },
  {
   "cell_type": "markdown",
   "metadata": {
    "slideshow": {
     "slide_type": "slide"
    }
   },
   "source": [
    "Hmmmh, what is this invisible character?"
   ]
  },
  {
   "cell_type": "code",
   "execution_count": null,
   "metadata": {},
   "outputs": [],
   "source": [
    "ord(\"\\1\")"
   ]
  },
  {
   "cell_type": "code",
   "execution_count": null,
   "metadata": {},
   "outputs": [],
   "source": [
    "import unicodedata\n",
    "print(unicodedata.category(\"\\1\"))\n",
    "# print(unicodedata.name(\"\\1\"))  # funny enough this SOH character has no name UNICODE..."
   ]
  },
  {
   "cell_type": "markdown",
   "metadata": {},
   "source": [
    "Ok, a control character..."
   ]
  },
  {
   "cell_type": "markdown",
   "metadata": {},
   "source": [
    "Could we fix this without using `r\"\"`? Sure..."
   ]
  },
  {
   "cell_type": "code",
   "execution_count": null,
   "metadata": {},
   "outputs": [],
   "source": [
    "replacement = \"[\\\\1]\"\n",
    "\n",
    "print(re.sub(pattern, replacement, text))"
   ]
  }
 ],
 "metadata": {
  "kernelspec": {
   "display_name": "Python 3 (ipykernel)",
   "language": "python",
   "name": "python3"
  },
  "language_info": {
   "codemirror_mode": {
    "name": "ipython",
    "version": 3
   },
   "file_extension": ".py",
   "mimetype": "text/x-python",
   "name": "python",
   "nbconvert_exporter": "python",
   "pygments_lexer": "ipython3",
   "version": "3.10.2"
  },
  "rise": {
   "center": false,
   "embedded": false,
   "scroll": true,
   "start_slideshow_at": "selected",
   "theme": "simple",
   "transition": "fade"
  }
 },
 "nbformat": 4,
 "nbformat_minor": 2
}
