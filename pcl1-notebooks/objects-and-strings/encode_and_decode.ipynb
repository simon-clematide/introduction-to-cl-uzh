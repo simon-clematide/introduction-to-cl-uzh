{
 "cells": [
  {
   "cell_type": "markdown",
   "metadata": {
    "slideshow": {
     "slide_type": "slide"
    }
   },
   "source": [
    "# Converting Unicode strings to UTF-8 byte sequences and vice versa\n",
    "Learning goals:\n",
    "  + Understand how decoding of UTF-8 `bytes` objects as Unicode `str` objects works.\n",
    "  + Understand how encoding of `str` objects as UTF-8 byte objects works.\n",
    "  + Understand reading and writing files with explicit encodings works.\n",
    "  + Understand the `unicodedata` module for determining a characters class and official name\n"
   ]
  },
  {
   "cell_type": "markdown",
   "metadata": {
    "slideshow": {
     "slide_type": "slide"
    }
   },
   "source": [
    "Byte sequences consisting of raw bytes can be used to store any data, including UTF-8 bytes. However, their literal notation can only contain ASCII listeral characters. Therefore, escaping is needed for non-ASCII characters..."
   ]
  },
  {
   "cell_type": "code",
   "execution_count": null,
   "metadata": {
    "slideshow": {
     "slide_type": "-"
    }
   },
   "outputs": [],
   "source": [
    "byte_text = b'B\\xc3\\xa4h'\n",
    "print(byte_text)"
   ]
  },
  {
   "cell_type": "markdown",
   "metadata": {},
   "source": [
    "Bytes sequences split into integers representing the decimal byte value when cast into a list"
   ]
  },
  {
   "cell_type": "code",
   "execution_count": null,
   "metadata": {},
   "outputs": [],
   "source": [
    "type(byte_text), list(byte_text), bytes([66, 195, 164, 104])"
   ]
  },
  {
   "cell_type": "markdown",
   "metadata": {
    "slideshow": {
     "slide_type": "slide"
    }
   },
   "source": [
    "Explicit decoding of UTF-8 byte sequences"
   ]
  },
  {
   "cell_type": "code",
   "execution_count": null,
   "metadata": {
    "slideshow": {
     "slide_type": "-"
    }
   },
   "outputs": [],
   "source": [
    "print(repr(byte_text.decode('utf-8')))\n",
    "byte_text.decode('utf-8')"
   ]
  },
  {
   "cell_type": "markdown",
   "metadata": {
    "slideshow": {
     "slide_type": "slide"
    }
   },
   "source": [
    "From Unicode to UTF-8"
   ]
  },
  {
   "cell_type": "code",
   "execution_count": null,
   "metadata": {
    "slideshow": {
     "slide_type": "-"
    }
   },
   "outputs": [],
   "source": [
    "unicode_text = 'Bäh'\n",
    "unicode_text"
   ]
  },
  {
   "cell_type": "markdown",
   "metadata": {
    "slideshow": {
     "slide_type": "fragment"
    }
   },
   "source": [
    "Explicit encoding of Unicode characters as UTF-8 byte sequence"
   ]
  },
  {
   "cell_type": "code",
   "execution_count": null,
   "metadata": {
    "slideshow": {
     "slide_type": "-"
    }
   },
   "outputs": [],
   "source": [
    "print(unicode_text.encode('utf-8'))"
   ]
  },
  {
   "cell_type": "markdown",
   "metadata": {
    "slideshow": {
     "slide_type": "slide"
    }
   },
   "source": [
    "## Converting files"
   ]
  },
  {
   "cell_type": "markdown",
   "metadata": {},
   "source": [
    "Create a  iso-latin-1 encoded file. We can use `print()` with its optional arguments"
   ]
  },
  {
   "cell_type": "code",
   "execution_count": null,
   "metadata": {},
   "outputs": [],
   "source": [
    "f = open(\"baeh-l1.txt\", \"w\", encoding=\"l1\")\n",
    "print(unicode_text, file=f)\n",
    "f.close()\n",
    "    "
   ]
  },
  {
   "cell_type": "markdown",
   "metadata": {},
   "source": [
    "The byte-encoded file content looks weird when shown as Unicode."
   ]
  },
  {
   "cell_type": "code",
   "execution_count": null,
   "metadata": {
    "slideshow": {
     "slide_type": "fragment"
    }
   },
   "outputs": [],
   "source": [
    "! cat baeh-l1.txt"
   ]
  },
  {
   "cell_type": "markdown",
   "metadata": {
    "slideshow": {
     "slide_type": "slide"
    }
   },
   "source": [
    "Convert the iso-latin-1 file to uppercased utf-8 using the `write()` method of file objects (takes only str arguments in contrast to `print()`)"
   ]
  },
  {
   "cell_type": "code",
   "execution_count": null,
   "metadata": {},
   "outputs": [],
   "source": [
    "# Decode from l1 encoded file into unicode strings\n",
    "f = open(\"baeh-l1.txt\", \"r\", encoding=\"l1\")\n",
    "\n",
    "# Encode unicode strings into UTF-8 encoded file\n",
    "g = open(\"BAEH-l1-encoded-as-utf8.txt\", \"w\", encoding=\"utf-8\")\n",
    "\n",
    "for line in f:\n",
    "    g.write(line.upper())\n",
    "    \n",
    "    # some diagnostic output®\n",
    "    print(\"Type:\", type(line))\n",
    "    print(\"Canonical:\", \"==>\",repr(line.upper()), \"<==\")\n",
    "\n",
    "f.close()\n",
    "g.close()\n",
    "\n"
   ]
  },
  {
   "cell_type": "markdown",
   "metadata": {
    "slideshow": {
     "slide_type": "slide"
    }
   },
   "source": [
    "Now look at the UTF-8 encoded file"
   ]
  },
  {
   "cell_type": "code",
   "execution_count": null,
   "metadata": {},
   "outputs": [],
   "source": [
    "! cat BAEH-l1-encoded-as-utf8.txt"
   ]
  },
  {
   "cell_type": "markdown",
   "metadata": {
    "slideshow": {
     "slide_type": "slide"
    }
   },
   "source": [
    "## Unicode data in Python\n",
    "The module `unicodedata` knows everything about Unicode characters."
   ]
  },
  {
   "cell_type": "code",
   "execution_count": null,
   "metadata": {},
   "outputs": [],
   "source": [
    "import unicodedata\n",
    "utfstr = '1a* äöü.'\n",
    "\n",
    "for c in utfstr:\n",
    "    print(c, \"Cat:\", unicodedata.category(c))\n",
    "    print(c, \"Name:\", unicodedata.name(c))\n"
   ]
  },
  {
   "cell_type": "markdown",
   "metadata": {
    "slideshow": {
     "slide_type": "slide"
    }
   },
   "source": [
    "## Using Unicode Class Codes in Regular Expressions\n",
    "The external PCRE-based  module `regex` offers more powerful regular expression functionality using the normal functions from the standard library module `re`."
   ]
  },
  {
   "cell_type": "code",
   "execution_count": null,
   "metadata": {},
   "outputs": [],
   "source": [
    "! pip install regex  # if you run it locally"
   ]
  },
  {
   "cell_type": "code",
   "execution_count": null,
   "metadata": {},
   "outputs": [],
   "source": [
    "import regex"
   ]
  },
  {
   "cell_type": "markdown",
   "metadata": {},
   "source": [
    "The notation `\\p{UNICODECATEGORY}` allows to match UNICODE character classes: \n",
    " + `P` for any punctuation character from any script\n",
    " + `Po` for other punctuation. See https://www.compart.com/en/unicode/category/"
   ]
  },
  {
   "cell_type": "code",
   "execution_count": null,
   "metadata": {},
   "outputs": [],
   "source": [
    "regex.sub(r'\\p{P}+',' ',\"Oh... What?!?\")"
   ]
  }
 ],
 "metadata": {
  "kernelspec": {
   "display_name": "Python 3 (ipykernel)",
   "language": "python",
   "name": "python3"
  },
  "language_info": {
   "codemirror_mode": {
    "name": "ipython",
    "version": 3
   },
   "file_extension": ".py",
   "mimetype": "text/x-python",
   "name": "python",
   "nbconvert_exporter": "python",
   "pygments_lexer": "ipython3",
   "version": "3.10.2"
  },
  "rise": {
   "center": false,
   "embedded": false,
   "scroll": true,
   "start_slideshow_at": "selected",
   "theme": "simple",
   "transition": "fade"
  }
 },
 "nbformat": 4,
 "nbformat_minor": 1
}
